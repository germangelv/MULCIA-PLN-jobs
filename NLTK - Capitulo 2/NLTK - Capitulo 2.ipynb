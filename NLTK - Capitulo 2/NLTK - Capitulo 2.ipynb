{
 "cells": [
  {
   "cell_type": "code",
   "execution_count": 28,
   "metadata": {},
   "outputs": [],
   "source": [
    "import nltk"
   ]
  },
  {
   "cell_type": "code",
   "execution_count": 29,
   "metadata": {},
   "outputs": [
    {
     "data": {
      "text/plain": [
       "['austen-emma.txt',\n",
       " 'austen-persuasion.txt',\n",
       " 'austen-sense.txt',\n",
       " 'bible-kjv.txt',\n",
       " 'blake-poems.txt',\n",
       " 'bryant-stories.txt',\n",
       " 'burgess-busterbrown.txt',\n",
       " 'carroll-alice.txt',\n",
       " 'chesterton-ball.txt',\n",
       " 'chesterton-brown.txt',\n",
       " 'chesterton-thursday.txt',\n",
       " 'edgeworth-parents.txt',\n",
       " 'melville-moby_dick.txt',\n",
       " 'milton-paradise.txt',\n",
       " 'shakespeare-caesar.txt',\n",
       " 'shakespeare-hamlet.txt',\n",
       " 'shakespeare-macbeth.txt',\n",
       " 'whitman-leaves.txt']"
      ]
     },
     "execution_count": 29,
     "metadata": {},
     "output_type": "execute_result"
    }
   ],
   "source": [
    "nltk.corpus.gutenberg.fileids()"
   ]
  },
  {
   "cell_type": "code",
   "execution_count": 30,
   "metadata": {},
   "outputs": [],
   "source": [
    "emma = nltk.corpus.gutenberg.words(\"austen-emma.txt\")"
   ]
  },
  {
   "cell_type": "code",
   "execution_count": 31,
   "metadata": {},
   "outputs": [
    {
     "data": {
      "text/plain": [
       "192427"
      ]
     },
     "execution_count": 31,
     "metadata": {},
     "output_type": "execute_result"
    }
   ],
   "source": [
    "len(emma)"
   ]
  },
  {
   "cell_type": "code",
   "execution_count": 32,
   "metadata": {},
   "outputs": [
    {
     "data": {
      "text/plain": [
       "['[',\n",
       " 'Emma',\n",
       " 'by',\n",
       " 'Jane',\n",
       " 'Austen',\n",
       " '1816',\n",
       " ']',\n",
       " 'VOLUME',\n",
       " 'I',\n",
       " 'CHAPTER',\n",
       " 'I',\n",
       " 'Emma',\n",
       " 'Woodhouse',\n",
       " ',',\n",
       " 'handsome',\n",
       " ',',\n",
       " 'clever',\n",
       " ',',\n",
       " 'and',\n",
       " 'rich',\n",
       " ',',\n",
       " 'with',\n",
       " 'a',\n",
       " 'comfortable',\n",
       " 'home',\n",
       " 'and',\n",
       " 'happy',\n",
       " 'disposition',\n",
       " ',',\n",
       " 'seemed',\n",
       " 'to',\n",
       " 'unite',\n",
       " 'some',\n",
       " 'of',\n",
       " 'the',\n",
       " 'best',\n",
       " 'blessings',\n",
       " 'of',\n",
       " 'existence',\n",
       " ';',\n",
       " 'and',\n",
       " 'had',\n",
       " 'lived',\n",
       " 'nearly',\n",
       " 'twenty',\n",
       " '-',\n",
       " 'one',\n",
       " 'years',\n",
       " 'in',\n",
       " 'the',\n",
       " 'world',\n",
       " 'with',\n",
       " 'very',\n",
       " 'little',\n",
       " 'to',\n",
       " 'distress',\n",
       " 'or',\n",
       " 'vex',\n",
       " 'her',\n",
       " '.',\n",
       " 'She',\n",
       " 'was',\n",
       " 'the',\n",
       " 'youngest',\n",
       " 'of',\n",
       " 'the',\n",
       " 'two',\n",
       " 'daughters',\n",
       " 'of',\n",
       " 'a',\n",
       " 'most',\n",
       " 'affectionate',\n",
       " ',',\n",
       " 'indulgent',\n",
       " 'father',\n",
       " ';',\n",
       " 'and',\n",
       " 'had',\n",
       " ',',\n",
       " 'in',\n",
       " 'consequence',\n",
       " 'of',\n",
       " 'her',\n",
       " 'sister',\n",
       " \"'\",\n",
       " 's',\n",
       " 'marriage',\n",
       " ',',\n",
       " 'been',\n",
       " 'mistress',\n",
       " 'of',\n",
       " 'his',\n",
       " 'house',\n",
       " 'from',\n",
       " 'a',\n",
       " 'very',\n",
       " 'early',\n",
       " 'period',\n",
       " '.',\n",
       " 'Her']"
      ]
     },
     "execution_count": 32,
     "metadata": {},
     "output_type": "execute_result"
    }
   ],
   "source": [
    "emma[0:100]"
   ]
  },
  {
   "cell_type": "code",
   "execution_count": 33,
   "metadata": {},
   "outputs": [
    {
     "data": {
      "text/plain": [
       "nltk.corpus.reader.util.StreamBackedCorpusView"
      ]
     },
     "execution_count": 33,
     "metadata": {},
     "output_type": "execute_result"
    }
   ],
   "source": [
    "type(emma)"
   ]
  },
  {
   "cell_type": "code",
   "execution_count": 34,
   "metadata": {},
   "outputs": [],
   "source": [
    "emmaText = nltk.Text(nltk.corpus.gutenberg.words(\"austen-emma.txt\"))"
   ]
  },
  {
   "cell_type": "code",
   "execution_count": 35,
   "metadata": {},
   "outputs": [
    {
     "data": {
      "text/plain": [
       "nltk.text.Text"
      ]
     },
     "execution_count": 35,
     "metadata": {},
     "output_type": "execute_result"
    }
   ],
   "source": [
    "type(emmaText)"
   ]
  },
  {
   "cell_type": "code",
   "execution_count": 36,
   "metadata": {},
   "outputs": [],
   "source": [
    "# emma.concordance(\"surprise\")"
   ]
  },
  {
   "cell_type": "code",
   "execution_count": 37,
   "metadata": {},
   "outputs": [
    {
     "name": "stdout",
     "output_type": "stream",
     "text": [
      "Displaying 25 of 5201 matches:\n",
      "disposition , seemed to unite some of the best blessings of existence ; and had\n",
      "ad lived nearly twenty - one years in the world with very little to distress or\n",
      "ttle to distress or vex her . She was the youngest of the two daughters of a mo\n",
      " or vex her . She was the youngest of the two daughters of a most affectionate \n",
      " of Emma . Between _them_ it was more the intimacy of sisters . Even before Mis\n",
      "before Miss Taylor had ceased to hold the nominal office of governess , the mil\n",
      "old the nominal office of governess , the mildness of her temper had hardly all\n",
      "wed her to impose any restraint ; and the shadow of authority being now long pa\n",
      "t , but directed chiefly by her own . The real evils , indeed , of Emma ' s sit\n",
      ", indeed , of Emma ' s situation were the power of having rather too much her o\n",
      "ttle too well of herself ; these were the disadvantages which threatened alloy \n",
      "atened alloy to her many enjoyments . The danger , however , was at present so \n",
      " a gentle sorrow -- but not at all in the shape of any disagreeable consciousne\n",
      "which first brought grief . It was on the wedding - day of this beloved friend \n",
      "mournful thought of any continuance . The wedding over , and the bride - people\n",
      " continuance . The wedding over , and the bride - people gone , her father and \n",
      " sit and think of what she had lost . The event had every promise of happiness \n",
      "ip she had always wished and promoted the match ; but it was a black morning ' \n",
      "as a black morning ' s work for her . The want of Miss Taylor would be felt eve\n",
      "y . She recalled her past kindness -- the kindness , the affection of sixteen y\n",
      "d her past kindness -- the kindness , the affection of sixteen years -- how she\n",
      " health -- and how nursed her through the various illnesses of childhood . A la\n",
      "ebt of gratitude was owing here ; but the intercourse of the last seven years ,\n",
      "s owing here ; but the intercourse of the last seven years , the equal footing \n",
      "intercourse of the last seven years , the equal footing and perfect unreserve w\n"
     ]
    }
   ],
   "source": [
    "emmaText.concordance(\"the\")"
   ]
  },
  {
   "cell_type": "code",
   "execution_count": 38,
   "metadata": {},
   "outputs": [
    {
     "name": "stdout",
     "output_type": "stream",
     "text": [
      "5 25 26 austen-emma.txt\n",
      "5 26 17 austen-persuasion.txt\n",
      "5 28 22 austen-sense.txt\n",
      "4 34 79 bible-kjv.txt\n",
      "5 19 5 blake-poems.txt\n",
      "4 19 14 bryant-stories.txt\n",
      "4 18 12 burgess-busterbrown.txt\n",
      "4 20 13 carroll-alice.txt\n",
      "5 20 12 chesterton-ball.txt\n",
      "5 23 11 chesterton-brown.txt\n",
      "5 18 11 chesterton-thursday.txt\n",
      "4 21 25 edgeworth-parents.txt\n",
      "5 26 15 melville-moby_dick.txt\n",
      "5 52 11 milton-paradise.txt\n",
      "4 12 9 shakespeare-caesar.txt\n",
      "4 12 8 shakespeare-hamlet.txt\n",
      "4 12 7 shakespeare-macbeth.txt\n",
      "5 36 12 whitman-leaves.txt\n"
     ]
    }
   ],
   "source": [
    "from nltk.corpus import gutenberg\n",
    "\n",
    "for fileid in gutenberg.fileids():\n",
    "    num_chars = len(gutenberg.raw(fileid))\n",
    "    num_words = len(gutenberg.words(fileid))\n",
    "    num_sents = len(gutenberg.sents(fileid))\n",
    "    num_vocab = len(set([w.lower() for w in gutenberg.words(fileid)]))\n",
    "    print(round(num_chars/num_words),\n",
    "         round(num_words/num_sents),\n",
    "         round(num_words/num_vocab), fileid)"
   ]
  },
  {
   "cell_type": "code",
   "execution_count": 39,
   "metadata": {},
   "outputs": [
    {
     "data": {
      "text/plain": [
       "1242990"
      ]
     },
     "execution_count": 39,
     "metadata": {},
     "output_type": "execute_result"
    }
   ],
   "source": [
    "len(gutenberg.raw('melville-moby_dick.txt'))"
   ]
  },
  {
   "cell_type": "code",
   "execution_count": 40,
   "metadata": {},
   "outputs": [
    {
     "data": {
      "text/plain": [
       "\"r things, whether beast or vessel, that\\r\\nenter into the dreadful gulf of this monster's (whale's) mo\""
      ]
     },
     "execution_count": 40,
     "metadata": {},
     "output_type": "execute_result"
    }
   ],
   "source": [
    "gutenberg.raw('melville-moby_dick.txt')[5000:5100]"
   ]
  },
  {
   "cell_type": "code",
   "execution_count": 41,
   "metadata": {},
   "outputs": [
    {
     "data": {
      "text/plain": [
       "['a',\n",
       " 'few',\n",
       " 'hours',\n",
       " 'previous',\n",
       " 'were',\n",
       " 'out',\n",
       " 'of',\n",
       " 'sight',\n",
       " 'of',\n",
       " 'land',\n",
       " '.',\n",
       " 'Look',\n",
       " 'at',\n",
       " 'the',\n",
       " 'crowds',\n",
       " 'of',\n",
       " 'water',\n",
       " '-',\n",
       " 'gazers',\n",
       " 'there',\n",
       " '.',\n",
       " 'Circumambulate',\n",
       " 'the',\n",
       " 'city',\n",
       " 'of',\n",
       " 'a',\n",
       " 'dreamy',\n",
       " 'Sabbath',\n",
       " 'afternoon',\n",
       " '.',\n",
       " 'Go',\n",
       " 'from',\n",
       " 'Corlears',\n",
       " 'Hook',\n",
       " 'to',\n",
       " 'Coenties',\n",
       " 'Slip',\n",
       " ',',\n",
       " 'and',\n",
       " 'from',\n",
       " 'thence',\n",
       " ',',\n",
       " 'by',\n",
       " 'Whitehall',\n",
       " ',',\n",
       " 'northward',\n",
       " '.',\n",
       " 'What',\n",
       " 'do',\n",
       " 'you']"
      ]
     },
     "execution_count": 41,
     "metadata": {},
     "output_type": "execute_result"
    }
   ],
   "source": [
    "gutenberg.words('melville-moby_dick.txt')[5000:5050]"
   ]
  },
  {
   "cell_type": "code",
   "execution_count": 42,
   "metadata": {},
   "outputs": [
    {
     "data": {
      "text/plain": [
       "260819"
      ]
     },
     "execution_count": 42,
     "metadata": {},
     "output_type": "execute_result"
    }
   ],
   "source": [
    "len(gutenberg.words('melville-moby_dick.txt'))"
   ]
  },
  {
   "cell_type": "code",
   "execution_count": 43,
   "metadata": {},
   "outputs": [
    {
     "data": {
      "text/plain": [
       "[['But',\n",
       "  'he',\n",
       "  'swiftly',\n",
       "  'calls',\n",
       "  'away',\n",
       "  'the',\n",
       "  'Captain',\n",
       "  'from',\n",
       "  'that',\n",
       "  'scent',\n",
       "  '.'],\n",
       " [\"'\",\n",
       "  'I',\n",
       "  \"'\",\n",
       "  'll',\n",
       "  'sail',\n",
       "  'with',\n",
       "  'ye',\n",
       "  \",'--\",\n",
       "  'he',\n",
       "  'says',\n",
       "  \",--'\",\n",
       "  'the',\n",
       "  'passage',\n",
       "  'money',\n",
       "  'how',\n",
       "  'much',\n",
       "  'is',\n",
       "  'that',\n",
       "  '?--',\n",
       "  'I',\n",
       "  \"'\",\n",
       "  'll',\n",
       "  'pay',\n",
       "  'now',\n",
       "  \".'\"],\n",
       " ['For',\n",
       "  'it',\n",
       "  'is',\n",
       "  'particularly',\n",
       "  'written',\n",
       "  ',',\n",
       "  'shipmates',\n",
       "  ',',\n",
       "  'as',\n",
       "  'if',\n",
       "  'it',\n",
       "  'were',\n",
       "  'a',\n",
       "  'thing',\n",
       "  'not',\n",
       "  'to',\n",
       "  'be',\n",
       "  'overlooked',\n",
       "  'in',\n",
       "  'this',\n",
       "  'history',\n",
       "  ',',\n",
       "  \"'\",\n",
       "  'that',\n",
       "  'he',\n",
       "  'paid',\n",
       "  'the',\n",
       "  'fare',\n",
       "  'thereof',\n",
       "  \"'\",\n",
       "  'ere',\n",
       "  'the',\n",
       "  'craft',\n",
       "  'did',\n",
       "  'sail',\n",
       "  '.'],\n",
       " ['And',\n",
       "  'taken',\n",
       "  'with',\n",
       "  'the',\n",
       "  'context',\n",
       "  ',',\n",
       "  'this',\n",
       "  'is',\n",
       "  'full',\n",
       "  'of',\n",
       "  'meaning',\n",
       "  '.'],\n",
       " ['\"',\n",
       "  'Now',\n",
       "  'Jonah',\n",
       "  \"'\",\n",
       "  's',\n",
       "  'Captain',\n",
       "  ',',\n",
       "  'shipmates',\n",
       "  ',',\n",
       "  'was',\n",
       "  'one',\n",
       "  'whose',\n",
       "  'discernment',\n",
       "  'detects',\n",
       "  'crime',\n",
       "  'in',\n",
       "  'any',\n",
       "  ',',\n",
       "  'but',\n",
       "  'whose',\n",
       "  'cupidity',\n",
       "  'exposes',\n",
       "  'it',\n",
       "  'only',\n",
       "  'in',\n",
       "  'the',\n",
       "  'penniless',\n",
       "  '.'],\n",
       " ['In',\n",
       "  'this',\n",
       "  'world',\n",
       "  ',',\n",
       "  'shipmates',\n",
       "  ',',\n",
       "  'sin',\n",
       "  'that',\n",
       "  'pays',\n",
       "  'its',\n",
       "  'way',\n",
       "  'can',\n",
       "  'travel',\n",
       "  'freely',\n",
       "  ',',\n",
       "  'and',\n",
       "  'without',\n",
       "  'a',\n",
       "  'passport',\n",
       "  ';',\n",
       "  'whereas',\n",
       "  'Virtue',\n",
       "  ',',\n",
       "  'if',\n",
       "  'a',\n",
       "  'pauper',\n",
       "  ',',\n",
       "  'is',\n",
       "  'stopped',\n",
       "  'at',\n",
       "  'all',\n",
       "  'frontiers',\n",
       "  '.'],\n",
       " ['So',\n",
       "  'Jonah',\n",
       "  \"'\",\n",
       "  's',\n",
       "  'Captain',\n",
       "  'prepares',\n",
       "  'to',\n",
       "  'test',\n",
       "  'the',\n",
       "  'length',\n",
       "  'of',\n",
       "  'Jonah',\n",
       "  \"'\",\n",
       "  's',\n",
       "  'purse',\n",
       "  ',',\n",
       "  'ere',\n",
       "  'he',\n",
       "  'judge',\n",
       "  'him',\n",
       "  'openly',\n",
       "  '.'],\n",
       " ['He',\n",
       "  'charges',\n",
       "  'him',\n",
       "  'thrice',\n",
       "  'the',\n",
       "  'usual',\n",
       "  'sum',\n",
       "  ';',\n",
       "  'and',\n",
       "  'it',\n",
       "  \"'\",\n",
       "  's',\n",
       "  'assented',\n",
       "  'to',\n",
       "  '.'],\n",
       " ['Then',\n",
       "  'the',\n",
       "  'Captain',\n",
       "  'knows',\n",
       "  'that',\n",
       "  'Jonah',\n",
       "  'is',\n",
       "  'a',\n",
       "  'fugitive',\n",
       "  ';',\n",
       "  'but',\n",
       "  'at',\n",
       "  'the',\n",
       "  'same',\n",
       "  'time',\n",
       "  'resolves',\n",
       "  'to',\n",
       "  'help',\n",
       "  'a',\n",
       "  'flight',\n",
       "  'that',\n",
       "  'paves',\n",
       "  'its',\n",
       "  'rear',\n",
       "  'with',\n",
       "  'gold',\n",
       "  '.'],\n",
       " ['Yet',\n",
       "  'when',\n",
       "  'Jonah',\n",
       "  'fairly',\n",
       "  'takes',\n",
       "  'out',\n",
       "  'his',\n",
       "  'purse',\n",
       "  ',',\n",
       "  'prudent',\n",
       "  'suspicions',\n",
       "  'still',\n",
       "  'molest',\n",
       "  'the',\n",
       "  'Captain',\n",
       "  '.']]"
      ]
     },
     "execution_count": 43,
     "metadata": {},
     "output_type": "execute_result"
    }
   ],
   "source": [
    "gutenberg.sents('melville-moby_dick.txt')[1000:1010]"
   ]
  },
  {
   "cell_type": "code",
   "execution_count": 44,
   "metadata": {},
   "outputs": [
    {
     "data": {
      "text/plain": [
       "10059"
      ]
     },
     "execution_count": 44,
     "metadata": {},
     "output_type": "execute_result"
    }
   ],
   "source": [
    "len(gutenberg.sents('melville-moby_dick.txt'))"
   ]
  },
  {
   "cell_type": "code",
   "execution_count": 45,
   "metadata": {},
   "outputs": [],
   "source": [
    "from nltk.corpus import webtext"
   ]
  },
  {
   "cell_type": "code",
   "execution_count": 46,
   "metadata": {},
   "outputs": [
    {
     "name": "stdout",
     "output_type": "stream",
     "text": [
      "firefox.txt Cookie Manager: \"Don't allow sites that set remove ...\n",
      "grail.txt SCENE 1: [wind] [clop clop clop] \n",
      "KING ARTHUR: Who ...\n",
      "overheard.txt White guy: So, do you have any plans for this even ...\n",
      "pirates.txt PIRATES OF THE CARRIBEAN: DEAD MAN'S CHEST, by Ted ...\n",
      "singles.txt 25 SEXY MALE, seeks attrac older single lady, for  ...\n",
      "wine.txt Lovely delicate, fragrant Rhone wine. Polished lea ...\n"
     ]
    }
   ],
   "source": [
    "for fileid in webtext.fileids():\n",
    "    print(fileid, webtext.raw(fileid)[:50], '...')"
   ]
  },
  {
   "cell_type": "code",
   "execution_count": 47,
   "metadata": {},
   "outputs": [],
   "source": [
    "from nltk.corpus import nps_chat"
   ]
  },
  {
   "cell_type": "code",
   "execution_count": 48,
   "metadata": {},
   "outputs": [
    {
     "data": {
      "text/plain": [
       "['10-19-20s_706posts.xml',\n",
       " '10-19-30s_705posts.xml',\n",
       " '10-19-40s_686posts.xml',\n",
       " '10-19-adults_706posts.xml',\n",
       " '10-24-40s_706posts.xml',\n",
       " '10-26-teens_706posts.xml',\n",
       " '11-06-adults_706posts.xml',\n",
       " '11-08-20s_705posts.xml',\n",
       " '11-08-40s_706posts.xml',\n",
       " '11-08-adults_705posts.xml',\n",
       " '11-08-teens_706posts.xml',\n",
       " '11-09-20s_706posts.xml',\n",
       " '11-09-40s_706posts.xml',\n",
       " '11-09-adults_706posts.xml',\n",
       " '11-09-teens_706posts.xml']"
      ]
     },
     "execution_count": 48,
     "metadata": {},
     "output_type": "execute_result"
    }
   ],
   "source": [
    "nps_chat.fileids()"
   ]
  },
  {
   "cell_type": "code",
   "execution_count": 49,
   "metadata": {},
   "outputs": [],
   "source": [
    "chatroom = nps_chat.posts('10-19-20s_706posts.xml')"
   ]
  },
  {
   "cell_type": "code",
   "execution_count": 50,
   "metadata": {},
   "outputs": [
    {
     "data": {
      "text/plain": [
       "[['now', 'im', 'left', 'with', 'this', 'gay', 'name'], [':P'], ...]"
      ]
     },
     "execution_count": 50,
     "metadata": {},
     "output_type": "execute_result"
    }
   ],
   "source": [
    "chatroom"
   ]
  },
  {
   "cell_type": "code",
   "execution_count": 51,
   "metadata": {},
   "outputs": [],
   "source": [
    "from nltk.corpus import brown"
   ]
  },
  {
   "cell_type": "code",
   "execution_count": 52,
   "metadata": {},
   "outputs": [
    {
     "data": {
      "text/plain": [
       "['adventure',\n",
       " 'belles_lettres',\n",
       " 'editorial',\n",
       " 'fiction',\n",
       " 'government',\n",
       " 'hobbies',\n",
       " 'humor',\n",
       " 'learned',\n",
       " 'lore',\n",
       " 'mystery',\n",
       " 'news',\n",
       " 'religion',\n",
       " 'reviews',\n",
       " 'romance',\n",
       " 'science_fiction']"
      ]
     },
     "execution_count": 52,
     "metadata": {},
     "output_type": "execute_result"
    }
   ],
   "source": [
    "brown.categories()"
   ]
  },
  {
   "cell_type": "raw",
   "metadata": {},
   "source": [
    "len(brown.fileids())"
   ]
  },
  {
   "cell_type": "code",
   "execution_count": 53,
   "metadata": {},
   "outputs": [
    {
     "data": {
      "text/plain": [
       "['ca01',\n",
       " 'ca02',\n",
       " 'ca03',\n",
       " 'ca04',\n",
       " 'ca05',\n",
       " 'ca06',\n",
       " 'ca07',\n",
       " 'ca08',\n",
       " 'ca09',\n",
       " 'ca10',\n",
       " 'ca11',\n",
       " 'ca12',\n",
       " 'ca13',\n",
       " 'ca14',\n",
       " 'ca15',\n",
       " 'ca16',\n",
       " 'ca17',\n",
       " 'ca18',\n",
       " 'ca19',\n",
       " 'ca20',\n",
       " 'ca21',\n",
       " 'ca22',\n",
       " 'ca23',\n",
       " 'ca24',\n",
       " 'ca25',\n",
       " 'ca26',\n",
       " 'ca27',\n",
       " 'ca28',\n",
       " 'ca29',\n",
       " 'ca30',\n",
       " 'ca31',\n",
       " 'ca32',\n",
       " 'ca33',\n",
       " 'ca34',\n",
       " 'ca35',\n",
       " 'ca36',\n",
       " 'ca37',\n",
       " 'ca38',\n",
       " 'ca39',\n",
       " 'ca40',\n",
       " 'ca41',\n",
       " 'ca42',\n",
       " 'ca43',\n",
       " 'ca44',\n",
       " 'cb01',\n",
       " 'cb02',\n",
       " 'cb03',\n",
       " 'cb04',\n",
       " 'cb05',\n",
       " 'cb06',\n",
       " 'cb07',\n",
       " 'cb08',\n",
       " 'cb09',\n",
       " 'cb10',\n",
       " 'cb11',\n",
       " 'cb12',\n",
       " 'cb13',\n",
       " 'cb14',\n",
       " 'cb15',\n",
       " 'cb16',\n",
       " 'cb17',\n",
       " 'cb18',\n",
       " 'cb19',\n",
       " 'cb20',\n",
       " 'cb21',\n",
       " 'cb22',\n",
       " 'cb23',\n",
       " 'cb24',\n",
       " 'cb25',\n",
       " 'cb26',\n",
       " 'cb27',\n",
       " 'cc01',\n",
       " 'cc02',\n",
       " 'cc03',\n",
       " 'cc04',\n",
       " 'cc05',\n",
       " 'cc06',\n",
       " 'cc07',\n",
       " 'cc08',\n",
       " 'cc09',\n",
       " 'cc10',\n",
       " 'cc11',\n",
       " 'cc12',\n",
       " 'cc13',\n",
       " 'cc14',\n",
       " 'cc15',\n",
       " 'cc16',\n",
       " 'cc17',\n",
       " 'cd01',\n",
       " 'cd02',\n",
       " 'cd03',\n",
       " 'cd04',\n",
       " 'cd05',\n",
       " 'cd06',\n",
       " 'cd07',\n",
       " 'cd08',\n",
       " 'cd09',\n",
       " 'cd10',\n",
       " 'cd11',\n",
       " 'cd12',\n",
       " 'cd13',\n",
       " 'cd14',\n",
       " 'cd15',\n",
       " 'cd16',\n",
       " 'cd17',\n",
       " 'ce01',\n",
       " 'ce02',\n",
       " 'ce03',\n",
       " 'ce04',\n",
       " 'ce05',\n",
       " 'ce06',\n",
       " 'ce07',\n",
       " 'ce08',\n",
       " 'ce09',\n",
       " 'ce10',\n",
       " 'ce11',\n",
       " 'ce12',\n",
       " 'ce13',\n",
       " 'ce14',\n",
       " 'ce15',\n",
       " 'ce16',\n",
       " 'ce17',\n",
       " 'ce18',\n",
       " 'ce19',\n",
       " 'ce20',\n",
       " 'ce21',\n",
       " 'ce22',\n",
       " 'ce23',\n",
       " 'ce24',\n",
       " 'ce25',\n",
       " 'ce26',\n",
       " 'ce27',\n",
       " 'ce28',\n",
       " 'ce29',\n",
       " 'ce30',\n",
       " 'ce31',\n",
       " 'ce32',\n",
       " 'ce33',\n",
       " 'ce34',\n",
       " 'ce35',\n",
       " 'ce36',\n",
       " 'cf01',\n",
       " 'cf02',\n",
       " 'cf03',\n",
       " 'cf04',\n",
       " 'cf05',\n",
       " 'cf06',\n",
       " 'cf07',\n",
       " 'cf08',\n",
       " 'cf09',\n",
       " 'cf10',\n",
       " 'cf11',\n",
       " 'cf12',\n",
       " 'cf13',\n",
       " 'cf14',\n",
       " 'cf15',\n",
       " 'cf16',\n",
       " 'cf17',\n",
       " 'cf18',\n",
       " 'cf19',\n",
       " 'cf20',\n",
       " 'cf21',\n",
       " 'cf22',\n",
       " 'cf23',\n",
       " 'cf24',\n",
       " 'cf25',\n",
       " 'cf26',\n",
       " 'cf27',\n",
       " 'cf28',\n",
       " 'cf29',\n",
       " 'cf30',\n",
       " 'cf31',\n",
       " 'cf32',\n",
       " 'cf33',\n",
       " 'cf34',\n",
       " 'cf35',\n",
       " 'cf36',\n",
       " 'cf37',\n",
       " 'cf38',\n",
       " 'cf39',\n",
       " 'cf40',\n",
       " 'cf41',\n",
       " 'cf42',\n",
       " 'cf43',\n",
       " 'cf44',\n",
       " 'cf45',\n",
       " 'cf46',\n",
       " 'cf47',\n",
       " 'cf48',\n",
       " 'cg01',\n",
       " 'cg02',\n",
       " 'cg03',\n",
       " 'cg04',\n",
       " 'cg05',\n",
       " 'cg06',\n",
       " 'cg07',\n",
       " 'cg08',\n",
       " 'cg09',\n",
       " 'cg10',\n",
       " 'cg11',\n",
       " 'cg12',\n",
       " 'cg13',\n",
       " 'cg14',\n",
       " 'cg15',\n",
       " 'cg16',\n",
       " 'cg17',\n",
       " 'cg18',\n",
       " 'cg19',\n",
       " 'cg20',\n",
       " 'cg21',\n",
       " 'cg22',\n",
       " 'cg23',\n",
       " 'cg24',\n",
       " 'cg25',\n",
       " 'cg26',\n",
       " 'cg27',\n",
       " 'cg28',\n",
       " 'cg29',\n",
       " 'cg30',\n",
       " 'cg31',\n",
       " 'cg32',\n",
       " 'cg33',\n",
       " 'cg34',\n",
       " 'cg35',\n",
       " 'cg36',\n",
       " 'cg37',\n",
       " 'cg38',\n",
       " 'cg39',\n",
       " 'cg40',\n",
       " 'cg41',\n",
       " 'cg42',\n",
       " 'cg43',\n",
       " 'cg44',\n",
       " 'cg45',\n",
       " 'cg46',\n",
       " 'cg47',\n",
       " 'cg48',\n",
       " 'cg49',\n",
       " 'cg50',\n",
       " 'cg51',\n",
       " 'cg52',\n",
       " 'cg53',\n",
       " 'cg54',\n",
       " 'cg55',\n",
       " 'cg56',\n",
       " 'cg57',\n",
       " 'cg58',\n",
       " 'cg59',\n",
       " 'cg60',\n",
       " 'cg61',\n",
       " 'cg62',\n",
       " 'cg63',\n",
       " 'cg64',\n",
       " 'cg65',\n",
       " 'cg66',\n",
       " 'cg67',\n",
       " 'cg68',\n",
       " 'cg69',\n",
       " 'cg70',\n",
       " 'cg71',\n",
       " 'cg72',\n",
       " 'cg73',\n",
       " 'cg74',\n",
       " 'cg75',\n",
       " 'ch01',\n",
       " 'ch02',\n",
       " 'ch03',\n",
       " 'ch04',\n",
       " 'ch05',\n",
       " 'ch06',\n",
       " 'ch07',\n",
       " 'ch08',\n",
       " 'ch09',\n",
       " 'ch10',\n",
       " 'ch11',\n",
       " 'ch12',\n",
       " 'ch13',\n",
       " 'ch14',\n",
       " 'ch15',\n",
       " 'ch16',\n",
       " 'ch17',\n",
       " 'ch18',\n",
       " 'ch19',\n",
       " 'ch20',\n",
       " 'ch21',\n",
       " 'ch22',\n",
       " 'ch23',\n",
       " 'ch24',\n",
       " 'ch25',\n",
       " 'ch26',\n",
       " 'ch27',\n",
       " 'ch28',\n",
       " 'ch29',\n",
       " 'ch30',\n",
       " 'cj01',\n",
       " 'cj02',\n",
       " 'cj03',\n",
       " 'cj04',\n",
       " 'cj05',\n",
       " 'cj06',\n",
       " 'cj07',\n",
       " 'cj08',\n",
       " 'cj09',\n",
       " 'cj10',\n",
       " 'cj11',\n",
       " 'cj12',\n",
       " 'cj13',\n",
       " 'cj14',\n",
       " 'cj15',\n",
       " 'cj16',\n",
       " 'cj17',\n",
       " 'cj18',\n",
       " 'cj19',\n",
       " 'cj20',\n",
       " 'cj21',\n",
       " 'cj22',\n",
       " 'cj23',\n",
       " 'cj24',\n",
       " 'cj25',\n",
       " 'cj26',\n",
       " 'cj27',\n",
       " 'cj28',\n",
       " 'cj29',\n",
       " 'cj30',\n",
       " 'cj31',\n",
       " 'cj32',\n",
       " 'cj33',\n",
       " 'cj34',\n",
       " 'cj35',\n",
       " 'cj36',\n",
       " 'cj37',\n",
       " 'cj38',\n",
       " 'cj39',\n",
       " 'cj40',\n",
       " 'cj41',\n",
       " 'cj42',\n",
       " 'cj43',\n",
       " 'cj44',\n",
       " 'cj45',\n",
       " 'cj46',\n",
       " 'cj47',\n",
       " 'cj48',\n",
       " 'cj49',\n",
       " 'cj50',\n",
       " 'cj51',\n",
       " 'cj52',\n",
       " 'cj53',\n",
       " 'cj54',\n",
       " 'cj55',\n",
       " 'cj56',\n",
       " 'cj57',\n",
       " 'cj58',\n",
       " 'cj59',\n",
       " 'cj60',\n",
       " 'cj61',\n",
       " 'cj62',\n",
       " 'cj63',\n",
       " 'cj64',\n",
       " 'cj65',\n",
       " 'cj66',\n",
       " 'cj67',\n",
       " 'cj68',\n",
       " 'cj69',\n",
       " 'cj70',\n",
       " 'cj71',\n",
       " 'cj72',\n",
       " 'cj73',\n",
       " 'cj74',\n",
       " 'cj75',\n",
       " 'cj76',\n",
       " 'cj77',\n",
       " 'cj78',\n",
       " 'cj79',\n",
       " 'cj80',\n",
       " 'ck01',\n",
       " 'ck02',\n",
       " 'ck03',\n",
       " 'ck04',\n",
       " 'ck05',\n",
       " 'ck06',\n",
       " 'ck07',\n",
       " 'ck08',\n",
       " 'ck09',\n",
       " 'ck10',\n",
       " 'ck11',\n",
       " 'ck12',\n",
       " 'ck13',\n",
       " 'ck14',\n",
       " 'ck15',\n",
       " 'ck16',\n",
       " 'ck17',\n",
       " 'ck18',\n",
       " 'ck19',\n",
       " 'ck20',\n",
       " 'ck21',\n",
       " 'ck22',\n",
       " 'ck23',\n",
       " 'ck24',\n",
       " 'ck25',\n",
       " 'ck26',\n",
       " 'ck27',\n",
       " 'ck28',\n",
       " 'ck29',\n",
       " 'cl01',\n",
       " 'cl02',\n",
       " 'cl03',\n",
       " 'cl04',\n",
       " 'cl05',\n",
       " 'cl06',\n",
       " 'cl07',\n",
       " 'cl08',\n",
       " 'cl09',\n",
       " 'cl10',\n",
       " 'cl11',\n",
       " 'cl12',\n",
       " 'cl13',\n",
       " 'cl14',\n",
       " 'cl15',\n",
       " 'cl16',\n",
       " 'cl17',\n",
       " 'cl18',\n",
       " 'cl19',\n",
       " 'cl20',\n",
       " 'cl21',\n",
       " 'cl22',\n",
       " 'cl23',\n",
       " 'cl24',\n",
       " 'cm01',\n",
       " 'cm02',\n",
       " 'cm03',\n",
       " 'cm04',\n",
       " 'cm05',\n",
       " 'cm06',\n",
       " 'cn01',\n",
       " 'cn02',\n",
       " 'cn03',\n",
       " 'cn04',\n",
       " 'cn05',\n",
       " 'cn06',\n",
       " 'cn07',\n",
       " 'cn08',\n",
       " 'cn09',\n",
       " 'cn10',\n",
       " 'cn11',\n",
       " 'cn12',\n",
       " 'cn13',\n",
       " 'cn14',\n",
       " 'cn15',\n",
       " 'cn16',\n",
       " 'cn17',\n",
       " 'cn18',\n",
       " 'cn19',\n",
       " 'cn20',\n",
       " 'cn21',\n",
       " 'cn22',\n",
       " 'cn23',\n",
       " 'cn24',\n",
       " 'cn25',\n",
       " 'cn26',\n",
       " 'cn27',\n",
       " 'cn28',\n",
       " 'cn29',\n",
       " 'cp01',\n",
       " 'cp02',\n",
       " 'cp03',\n",
       " 'cp04',\n",
       " 'cp05',\n",
       " 'cp06',\n",
       " 'cp07',\n",
       " 'cp08',\n",
       " 'cp09',\n",
       " 'cp10',\n",
       " 'cp11',\n",
       " 'cp12',\n",
       " 'cp13',\n",
       " 'cp14',\n",
       " 'cp15',\n",
       " 'cp16',\n",
       " 'cp17',\n",
       " 'cp18',\n",
       " 'cp19',\n",
       " 'cp20',\n",
       " 'cp21',\n",
       " 'cp22',\n",
       " 'cp23',\n",
       " 'cp24',\n",
       " 'cp25',\n",
       " 'cp26',\n",
       " 'cp27',\n",
       " 'cp28',\n",
       " 'cp29',\n",
       " 'cr01',\n",
       " 'cr02',\n",
       " 'cr03',\n",
       " 'cr04',\n",
       " 'cr05',\n",
       " 'cr06',\n",
       " 'cr07',\n",
       " 'cr08',\n",
       " 'cr09']"
      ]
     },
     "execution_count": 53,
     "metadata": {},
     "output_type": "execute_result"
    }
   ],
   "source": [
    "brown.fileids()"
   ]
  },
  {
   "cell_type": "code",
   "execution_count": 54,
   "metadata": {},
   "outputs": [
    {
     "data": {
      "text/plain": [
       "500"
      ]
     },
     "execution_count": 54,
     "metadata": {},
     "output_type": "execute_result"
    }
   ],
   "source": [
    "len(brown.fileids())"
   ]
  },
  {
   "cell_type": "code",
   "execution_count": 55,
   "metadata": {},
   "outputs": [
    {
     "data": {
      "text/plain": [
       "['The', 'Fulton', 'County', 'Grand', 'Jury', 'said', ...]"
      ]
     },
     "execution_count": 55,
     "metadata": {},
     "output_type": "execute_result"
    }
   ],
   "source": [
    "brown.words(categories=\"news\")"
   ]
  },
  {
   "cell_type": "code",
   "execution_count": 56,
   "metadata": {},
   "outputs": [
    {
     "data": {
      "text/plain": [
       "100554"
      ]
     },
     "execution_count": 56,
     "metadata": {},
     "output_type": "execute_result"
    }
   ],
   "source": [
    "len(brown.words(categories=\"news\"))"
   ]
  },
  {
   "cell_type": "code",
   "execution_count": 57,
   "metadata": {},
   "outputs": [
    {
     "name": "stdout",
     "output_type": "stream",
     "text": [
      "adventure : 69342\n",
      "belles_lettres : 173096\n",
      "editorial : 61604\n",
      "fiction : 68488\n",
      "government : 70117\n",
      "hobbies : 82345\n",
      "humor : 21695\n",
      "learned : 181888\n",
      "lore : 110299\n",
      "mystery : 57169\n",
      "news : 100554\n",
      "religion : 39399\n",
      "reviews : 40704\n",
      "romance : 70022\n",
      "science_fiction : 14470\n"
     ]
    }
   ],
   "source": [
    "for cat in brown.categories():\n",
    "    print (cat,\":\",len(brown.words(categories=cat)))"
   ]
  },
  {
   "cell_type": "code",
   "execution_count": 58,
   "metadata": {},
   "outputs": [
    {
     "data": {
      "text/plain": [
       "\"\\n\\n\\tDoes/doz our/pp$ society/nn have/hv a/at runaway/jj ,/, uncontrollable/jj growth/nn of/in technology/nn which/wdt may/md end/vb our/pp$ civilization/nn ,/, or/cc a/at normal/jj ,/, healthy/jj growth/nn ?/. ?/.\\nHere/rb there/ex may/md be/be an/at analogy/nn with/in cancer/nn :/: we/ppss can/md detect/vb cancers/nns by/in their/pp$ rapidly/rb accelerating/vbg growth/nn ,/, determinable/jj only/rb when/wrb related/vbn to/in the/at more/ql normal/jj rate/nn of/in healthy/jj growth/nn ./.\\nShould/md the/at accelerating/vbg growth/nn of/in technology/nn then/rb warn/vb us/ppo ?/. ?/.\\nNoting/vbg such/jj evidence/nn is/bez the/at first/od step/nn ;/. ;/.\\nand/cc almost/rb the/at only/ap ``/`` cure/nn ''/'' is/bez early/jj detection/nn and/cc removal/nn ./.\\nOne/cd way/nn to/to determine/vb whether/cs we/ppss have/hv so/ql dangerous/jj a/at technology/nn would/md be/be to/to check/vb the/at strength/nn of/in our/pp$ society's/nn$ organs/nns to/to see/vb if/cs their/pp$ functioning/nn is/bez as/ql healthy/jj as/cs before/rb ./.\\nSo/rb an/at objective/jj look/nn at/in our/pp$ present/jj procedures/nns may/md move/vb us/ppo to/to consider/vb seriously/rb this/dt possibly/rb analogous/jj situation/nn ./.\\nIn/in any/dti event/nn ,/, whether/cs society/nn may/md have/hv cancer/nn ,/, or/cc merely/rb a/at virus/nn infection/nn ,/, the/at ``/`` disease/nn ''/'' ,/, we/ppss shall/md find/vb ,/, is/bez political/jj ,/, economical/jj ,/, social/jj ,/, and/cc even/rb medical/jj ./.\\nHave/hv not/* our/pp$ physical/jj abilities/nns already/rb deteriorated/vbn because/rb of/in the/at more/ql sedentary/jj lives/nns we/ppss are/ber now/rb living/vbg ?/. ?/.\\nHence/rb the/at prime/jj issue/nn ,/, as/cs I/ppss see/vb it/ppo ,/, is/bez whether/cs a/at democratic/jj or/cc free/jj society/nn can/md master/vb technology/nn for/in the/at benefit/nn of/in mankind/nn ,/, or/cc whether/cs technology/nn will/md rule/vb and/cc develop/vb its/pp$ own/jj society/nn compatible/jj with/in its/pp$ own/jj needs/nns as/cs a/at force/nn of/in nature/nn ./.\\n\\n\\n\\tWe/ppss are/ber already/rb committed/vbn to/in establishing/vbg man's/nn$ supremacy/nn over/in nature/nn and/cc everywhere/rb on/in earth/nn ,/, not/* merely/rb in/in the/at limited/vbn social-political-economical/jj context/nn we/ppss are/ber fond/jj of/in today/nr ./.\\nOtherwise/rb ,/, we/ppss go/vb on/rp endlessly/rb trying/vbg to/to draw/vb the/at line/nn ,/, color/nn and/cc other/ap ,/, as/in to/in which/wdt kind/nn of/in man/nn we/ppss wish/vb to/to see/vb dominate/vb ./.\\nWe/ppss have/hv proved/vbn so/ql able/jj to/to solve/vb technological/jj problems/nns that/cs to/to contend/vb we/ppss cannot/md* realize/vb a/at universal/jj goal/nn in/in the/at immediate/jj future/nn is/bez to/to be/be extremely/ql shortsighted/jj ,/, if/cs nothing/pn else/rb ./.\\nWe/ppss must/md believe/vb we/ppss have/hv the/at ability/nn to/to affect/vb our/pp$ own/jj destinies/nns :/: otherwise/rb why/wrb try/vb anything/pn ?/. ?/.\\nSo/rb in/in these/dts pages/nns the/at term/nn ``/`` technology/nn-nc ''/'' is/bez used/vbn to/to include/vb any/dti and/cc all/abn means/nns which/wdt could/md amplify/vb ,/, project/vb ,/, or/cc augment/vb man's/nn$ control/nn over/in himself/ppl and/cc over/in other/ap men/nns ./.\\nNaturally/rb this/dt includes/vbz all/abn communication/nn forms/nns ,/, e.g./rb languages/nns ,/, or/cc any/dti social/jj ,/, political/jj ,/, economic/jj or/cc religious/jj structures/nns employed/vbn for/in such/jj control/nn ./.\\nProperly/rb mindful/jj of/in all/abn the/at cultures/nns in/in existence/nn today/nr throughout/in the/at world/nn ,/, we/ppss must/md employ/vb these/dts resources/nns without/in war/nn or/cc violent/jj revolution/nn ./.\\n\\n\\n\\tIf/cs we/ppss were/bed creating/vbg a/at wholly/ql new/jj society/nn ,/, we/ppss could/md insist/vb that/cs our/pp$ social/jj ,/, political/jj ,/, economic/jj and/cc philosophic/jj institutions/nns foster/vb rather/in than/in hamper/vb man/nn ;/. ;/.\\nbest/jjt growth/nn ./.\\nBut/cc we/ppss cannot/md* start/vb off/rp with/in a/at clean/jj slate/nn ./.\\nSo/rb we/ppss must/md first/rb analyze/vb our/pp$ present/jj institutions/nns with/in respect/nn to/in the/at effect/nn of/in each/dt on/in man's/nn$ major/jj needs/nns ./.\\nAsked/vbn which/wdt institution/nn most/rbt needs/vbz correction/nn ,/, I/ppss would/md say/vb the/at corporation/nn as/cs it/pps exists/vbz in/in America/np today/nr ./.\\nAt/in first/od glance/nn this/dt appears/vbz strange/jj :/: of/in all/abn people/nns ,/, was/bedz not/* America/np founded/vbn by/in rugged/jj individualists/nns who/wps established/vbd a/at new/jj way/nn of/in life/nn still/rb inspiring/vbg ``/`` undeveloped/jj ''/'' societies/nns abroad/rb ?/. ?/.\\nBut/cc hear/vb Harrison/np E./np Salisbury/np ,/, former/ap Moscow/np correspondent/nn of/in The/at-tl New/jj-tl York/np-tl Times/nns-tl ,/, and/cc author/nn of/in ``/`` To/in-tl Moscow/np-tl --/-- And/cc-tl Beyond/rb-tl ''/'' ./.\\nIn/in a/at book/nn review/nn of/in ``/`` The/at-tl Soviet/nn-tl Cultural/jj-tl Offensive/jj-tl ''/'' ,/, he/pps says/vbz ,/, ``/`` Long/rb before/cs the/at State/nn-tl Department/nn-tl organized/vbd its/pp$ bureaucracy/nn into/in an/at East-West/jj-tl Contacts/nns-tl Staff/nn-tl in/in order/nn to/to wage/vb a/at cultural/jj counter-offensive/nn within/in Soviet/nn-tl borders/nns ,/, the/at sharp/jj cutting-edge/nn of/in American/jj culture/nn had/hvd carved/vbn its/pp$ mark/nn across/in the/at Russian/jj steppes/nns ,/, as/cs when/wrb the/at enterprising/jj promoters/nns of/in '/' Porgy/np-tl And/cc-tl Bess/np-tl '/' overrode/vbd the/at State/nn-tl Department/nn-tl to/to carry/vb the/at contemporary/jj '/' cultural/jj warfare/nn '/' behind/in the/at enemy/nn lines/nns ./.\\nThey/ppss were/bed not/* diplomats/nns or/cc jazz/nn musicians/nns ,/, or/cc even/rb organizers/nns of/in reading-rooms/nns and/cc photo-montage/nn displays/nns ,/, but/cc rugged/jj capitalist/nn entrepreneurs/nns like/cs Henry/np Ford/np ,/, Hugh/np Cooper/np ,/, Thomas/np Campbell/np ,/, the/at International/jj-tl Harvester/np-tl Co./nn-tl ,/, and/cc David/np W./np Griffith/np ./.\\nTheir/pp$ kind/nn created/vbd an/at American/jj culture/nn superior/jj to/in any/dti in/in the/at world/nn ,/, an/at industrial/jj and/cc technological/jj culture/nn which/wdt penetrated/vbd Russia/np as/cs it/pps did/dod almost/rb every/at corner/nn of/in the/at earth/nn without/in a/at nickel/nn from/in the/at Federal/jj-tl treasury/nn or/cc a/at single/ap governmental/jj specialist/nn to/to contrive/vb directives/nns or/cc program/vb a/at series/nn of/in consultations/nns of/in interested/vbn agencies/nns ./.\\nThis/dt favorable/jj image/nn of/in America/np in/in the/at minds/nns of/in Russian/jj men/nns and/cc women/nns is/bez still/rb there/rb despite/in years/nns of/in energetic/jj anti-American/jj propaganda/nn ''/'' \\n\\n\\ncorporations/nns now/rb outmoded/jj \\n./.\\nPerhaps/rb the/at public's/nn$ present/jj attitude/nn toward/in business/nn stems/vbz from/in the/at fact/nn that/cs the/at ``/`` rugged/jj capitalist/nn entrepreneur/nn ''/'' no/ql more/rbr exists/vbz in/in America/np ./.\\nIn/in his/pp$ stead/nn is/bez a/at milquetoast/nn version/nn known/vbn as/cs ``/`` the/at corporation/nn ''/'' ./.\\nBut/cc even/rb if/cs we/ppss cannot/md* see/vb the/at repulsive/jj characteristics/nns in/in this/dt new/jj image/nn of/in America/np ,/, foreigners/nns can/md ;/. ;/.\\nand/cc our/pp$ loss/nn of/in ``/`` prestige/nn ''/'' abroad/rb is/bez the/at direct/jj result/nn ./.\\nNo/at amount/nn of/in ballyhoo/nn will/md cover/vb up/rp the/at sordid/jj facts/nns ./.\\nIf/cs we/ppss want/vb respect/nn from/in ourselves/ppls or/cc others/nns ,/, we/ppss will/md have/hv to/to earn/vb it/ppo ./.\\nFirst/rb ,/, let/vb us/ppo realize/vb that/cs whatever/wdt good/nn this/dt set-up/nn achieved/vbd in/in earlier/jjr times/nns ,/, now/rb the/at corporation/nn per/in se/fw-ppl cannot/md* take/vb economic/jj leadership/nn ./.\\nBusinesses/nns must/md develop/vb as/cs a/at result/nn of/in the/at ideas/nns ,/, energies/nns and/cc ambitions/nns of/in an/at individual/nn having/hvg purpose/nn and/cc comprehensive/jj ability/nn within/in one/cd mind/nn ./.\\nWhen/wrb we/ppss ``/`` forced/vbd ''/'' individuals/nns to/to assume/vb the/at corporate/jj structure/nn by/in means/nn of/in taxes/nns and/cc other/ap legal/jj statutes/nns ,/, we/ppss adopted/vbd what/wdt I/ppss would/md term/vb ``/`` pseudo-capitalism/nn ''/'' and/cc so/rb took/vbd a/at major/jj step/nn toward/in socialism/nn ./.\\nThe/at biggest/jjt loss/nn ,/, of/in course/nn ,/, was/bedz the/at individual's/nn$ lessened/vbn desire/nn and/cc ability/nn to/to give/vb his/pp$ services/nns to/in the/at growth/nn of/in his/pp$ company/nn and/cc our/pp$ economy/nn ./.\\nSocialism/nn ,/, I/ppss grant/vb ,/, has/hvz a/at definite/jj place/nn in/in our/pp$ society/nn ./.\\nBut/cc let/vb us/ppo not/* complain/vb of/in the/at evils/nns of/in capitalism/nn by/in referring/vbg to/in a/at form/nn that/wps is/bez not/* truly/ql capitalistic/jj ./.\\nSome/dti forms/nns of/in capitalism/nn do/do indeed/rb work/vb --/-- superb/jj organizations/nns ,/, a/at credit/nn to/in any/dti society/nn ./.\\nBut/cc the/at pseudo-capitalism/nn which/wdt dictates/vbz our/pp$ whole/jj economy/nn as/ql well/rb as/cs our/pp$ politics/nn and/cc social/jj life/nn ,/, will/md not/* stand/vb close/jj scrutiny/nn ./.\\nIts/pp$ pretense/nn to/to operate/vb in/in the/at public/jj interest/nn is/bez little/ap more/ap than/cs a/at sham/nn ./.\\nIt/pps serves/vbz only/rb its/pp$ own/jj stockholders/nns and/cc poorly/rb at/in that/dt ./.\\nAs/cs a/at creative/jj enterprise/nn ,/, its/pp$ abilities/nns are/ber primarily/rb in/in ``/`` swallowing/vbg ''/'' creative/jj enterprises/nns developed/vbn outside/in its/pp$ own/jj organization/nn (/( an/at ability/nn made/vbn possible/jj by/in us/ppo ,/, and/cc almost/ql mandatory/jj )/) ./.\\nAs/in to/in benefits/nns to/in employees/nns ,/, it/pps is/bez notorious/jj for/in its/pp$ callous/jj disregard/nn except/in where/wrb it/pps depends/vbz on/in them/ppo for/in services/nns ./.\\n\\n\\n\\tThe/at corporation/nn in/in America/np is/bez in/in reality/nn our/pp$ form/nn of/in socialism/nn ,/, vying/vbg in/in a/at sense/nn with/in the/at other/ap socialistic/jj form/nn that/wps has/hvz emerged/vbn within/in governmental/jj bureaucracy/nn ./.\\nBut/cc while/cs the/at corporation/nn has/hvz all/abn the/at disadvantages/nns of/in the/at socialist/jj form/nn of/in organization/nn (/( so/ql cumbersome/jj it/pps cannot/md* constructively/rb do/do much/ap of/in anything/pn not/* compatible/jj with/in its/pp$ need/nn to/to perpetuate/vb itself/ppl and/cc maintain/vb its/pp$ status/nn quo/fw-wdt )/) ,/, unluckily/rb it/pps does/doz not/* have/hv the/at desirable/jj aspect/nn of/in socialism/nn ,/, the/at motivation/nn to/to operate/vb for/in the/at benefit/nn of/in society/nn as/cs a/at whole/nn ./.\\nSo/rb we/ppss are/ber faced/vbn with/in a/at vast/jj network/nn of/in amorphous/jj entities/nns perpetuating/vbg themselves/ppls in/in whatever/wdt manner/nn they/ppss can/md ,/, without/in regard/nn to/in the/at needs/nns of/in society/nn ,/, controlling/vbg society/nn and/cc forcing/vbg upon/in it/ppo a/at regime/nn representing/vbg only/rb the/at corporation's/nn$ needs/nns for/in survival/nn ./.\\n\\n\\n\\tThe/at corporation/nn has/hvz a/at limited/vbn ,/, specific/jj place/nn in/in our/pp$ society/nn ./.\\nIdeally/rb speaking/vbg ,/, it/pps should/md be/be allowed/vbn to/to operate/vb only/rb where/wrb the/at public/nn has/hvz a/at great/jj stake/nn in/in the/at continuity/nn of/in supply/nn or/cc services/nns ,/, and/cc where/wrb the/at actions/nns of/in a/at single/ap proprietor/nn are/ber secondary/jj to/in the/at needs/nns of/in society/nn ./.\\nExamples/nns are/ber in/in public/jj utilities/nns ,/, making/vbg military/jj aircraft/nns and/cc accessories/nns ,/, or/cc where/wrb the/at investment/nn and/cc risk/nn for/in a/at proprietorship/nn would/md be/be too/ql great/jj for/in a/at much/ql needed/vbn project/nn impossible/jj to/to achieve/vb by/in any/dti means/nn other/ap than/cs the/at corporate/jj form/nn ,/, e.g./rb constructing/vbg major/jj airports/nns or/cc dams/nns ./.\\nThus/rb ,/, if/cs corporations/nns are/ber not/* to/to run/vb away/rb with/in us/ppo ,/, they/ppss must/md become/vb quasi-governmental/jj institutions/nns ,/, subject/jj to/in public/jj control/nn and/cc needs/nns ./.\\nIn/in all/abn other/ap areas/nns ,/, private/jj initiative/nn of/in the/at ``/`` proprietorship/nn ''/'' type/nn should/md be/be urged/vbn to/to produce/vb the/at desired/vbn goods/nns and/cc services/nns ./.\\n\\n\\n\\nProprietorship/nn \\nAvoiding/vbg runaway/jj technology/nn can/md be/be done/vbn only/rb by/in assuring/vbg a/at humane/jj society/nn ;/. ;/.\\nand/cc for/in this/dt human/jj beings/nns must/md be/be firmly/rb in/in control/nn of/in the/at economics/nn on/in which/wdt our/pp$ society/nn rests/vbz ./.\\nSuch/jj genuine/jj human/jj leadership/nn the/at proprietorship/nn can/md offer/vb ,/, corporations/nns cannot/md* ./.\\nIt/pps can/md project/vb long-range/nn goals/nns for/in itself/ppl ./.\\nCorporations/nns react/vb violently/rb to/in short-range/nn stimuli/nns ,/, e.g./rb ,/, quarterly/jj and/cc annual/jj dividend/nn reports/nns ./.\\nProprietorships/nns can/md establish/vb a/at unity/nn and/cc integrity/nn of/in control/nn ;/. ;/.\\ncorporations/nns ,/, being/beg more/ql amorphous/jj ,/, cannot/md* ./.\\nProprietorships/nns can/md establish/vb a/at meaningful/jj identity/nn ,/, representing/vbg a/at human/jj personality/nn ,/, and/cc thus/rb establish/vb sincere/jj relationships/nns with/in customers/nns and/cc community/nn ./.\\nCorporations/nns are/ber apt/jj by/in nature/nn to/to be/be impersonal/jj ,/, inhumane/jj ,/, shortsighted/jj and/cc almost/ql exclusively/ql profit-motivated/jj ,/, a/at picture/nn they/ppss could/md scarcely/rb afford/vb to/to present/vb to/in the/at public/nn ./.\\nThe/at proprietor/nn is/bez able/jj to/to create/vb a/at leadership/nn impossible/jj in/in the/at corporate/jj structure/nn with/in its/pp$ board/nn of/in directors/nns and/cc stockholders/nns ./.\\nLeadership/nn is/bez lacking/vbg in/in our/pp$ society/nn because/cs it/pps has/hvz no/at legitimate/jj place/nn to/to develop/vb ./.\\nMen/nns continuously/rb at/in the/at head/nn of/in growing/vbg enterprises/nns can/md acquire/vb experiences/nns of/in the/at most/ql varied/vbn ,/, complicated/vbn and/cc trying/jj type/nn so/cs that/cs at/in maturation/nn they/ppss have/hv developed/vbn the/at competence/nn and/cc willingness/nn to/to accept/vb the/at personal/jj responsibility/nn so/ql sorely/rb needed/vbn now/rb ./.\\n\\n\\n\\tHence/rb government/nn must/md establish/vb greater/jjr controls/nns upon/in corporations/nns so/cs that/cs their/pp$ activities/nns promote/vb what/wdt is/bez deemed/vbn essential/jj to/in the/at national/jj interest/nn ./.\\nProprietorships/nns should/md get/vb the/at tax/nn advantages/nns now/rb accruing/vbg to/in corporations/nns ,/, e.g./rb the/at chance/nn to/to accumulate/vb capital/nn so/ql vital/jj for/in growth/nn ./.\\nCorporations/nns should/md pay/vb added/vbn taxes/nns ,/, to/to be/be used/vbn for/in educational/jj purposes/nns (/( not/* necessarily/rb of/in the/at formal/jj type/nn )/) ./.\\nThe/at right/nn to/to leave/vb legacies/nns should/md be/be substantially/rb reduced/vbn and/cc ultimately/rb eliminated/vbn ./.\\nTo/to perpetuate/vb wealth/nn control/nn led/vbn by/in small/jj groups/nns of/in individuals/nns who/wps played/vbd no/at role/nn in/in its/pp$ creation/nn prevents/vbz those/dts with/in real/jj initiative/nn from/in coming/vbg to/in the/at fore/nn ,/, and/cc is/bez basically/rb anti-democratic/jj ./.\\nWhen/wrb the/at proprietor/nn dies/vbz ,/, the/at establishment/nn should/md become/vb a/at corporation/nn until/cs it/pps is/bez either/cc acquired/vbn by/in another/dt proprietor/nn or/cc the/at government/nn decides/vbz to/to drop/vb it/ppo ./.\\nStrikes/nns should/md be/be declared/vbn illegal/jj against/in corporations/nns because/cs disagreements/nns would/md have/hv to/to be/be settled/vbn by/in government/nn representatives/nns acting/vbg as/cs controllers/nns of/in the/at corporation/nn whose/wp$ responsibility/nn to/in the/at state/nn would/md now/rb be/be defined/vbn against/in proprietorship/nn because/cs employees/nns and/cc proprietors/nns must/md be/be completely/ql interdependent/jj ,/, as/cs they/ppss are/ber each/dt a/at part/nn of/in the/at whole/nn ./.\\nStrikes/nns threatening/vbg the/at security/nn of/in the/at proprietorship/nn ,/, if/cs internally/rb motivated/vbn ,/, prevent/vb a/at healthy/jj relationship/nn ./.\\nCertainly/rb external/jj forces/nns should/md not/* be/be applied/vbn arbitrarily/rb out/in of/in mere/jj power/nn available/jj to/to do/do so/rb ./.\\nIf/cs we/ppss cannot/md* stop/vb warfare/nn in/in our/pp$ own/jj economic/jj system/nn ,/, how/wrb can/md we/ppss expect/vb to/to abolish/vb it/ppo internationally/rb ?/. ?/.\\n\\n\\n\\nOne/cd kind/nn of/in proprietorship/nn \\nThese/dts proposals/nns would/md go/vb far/rb toward/in creating/vbg the/at economic/jj atmosphere/nn favoring/vbg growth/nn of/in the/at individual/nn ,/, who/wps ,/, in/in turn/nn ,/, would/md help/vb us/ppo to/to cope/vb with/in runaway/jj technology/nn ./.\\nIndividual/jj human/jj strength/nn is/bez needed/vbn to/to pit/vb against/in an/at inhuman/jj condition/nn ./.\\nThe/at battle/nn is/bez not/* easy/jj ./.\\nWe/ppss are/ber tempted/vbn to/to blame/vb others/nns for/in our/pp$ problems/nns rather/in than/in look/vb them/ppo straight/rb in/in the/at face/nn and/cc realize/vb they/ppss are/ber of/in our/pp$ own/jj making/nn and/cc possible/jj of/in solution/nn only/rb by/in ourselves/ppls with/in the/at help/nn of/in desperately/rb needed/vbn ,/, enlightened/vbn ,/, competent/jj leaders/nns ./.\\nPersons/nns developed/vbn in/in today's/nr$ corporations/nns cannot/md* hope/vb to/to serve/vb here/rb --/-- a/at judgment/nn based/vbn on/in experiences/nns of/in my/pp$ own/jj in/in business/nn and/cc in/in activities/nns outside/rb ./.\\nIn/in my/pp$ own/jj company/nn ,/, in/in effect/nn a/at partnership/nn ,/, although/cs legally/rb a/at corporation/nn ,/, I/ppss have/hv been/ben able/jj to/to do/do many/ap things/nns for/in my/pp$ employees/nns which/wdt ``/`` normal/jj ''/'' corporations/nns of/in comparable/jj size/nn and/cc nature/nn would/md have/hv been/ben unable/jj to/to do/do ./.\\nAlso/rb ,/, I/ppss am/bem convinced/vbn that/cs if/cs my/pp$ company/nn were/bed a/at sole/jj proprietorship/nn instead/rb of/in a/at partnership/nn ,/, I/ppss would/md have/hv been/ben even/ql abler/jjr to/to solve/vb long-range/nn problems/nns for/in myself/ppl and/cc my/pp$ fellow-employees/nns ./.\\nAny/dti abilities/nns I/ppss may/md have/hv were/bed achieved/vbn in/in their/pp$ present/jj shape/nn from/in experience/nn in/in sharing/vbg in/in the/at growth/nn and/cc control/nn of/in my/pp$ business/nn ,/, coupled/vbn with/in raising/vbg my/pp$ family/nn ./.\\nThis/dt combined/vbn experience/nn ,/, on/in a/at foundation/nn of/in very/ql average/jj ,/, I/ppss assure/vb you/ppo ,/, intelligence/nn and/cc background/nn ,/, has/hvz helped/vbn me/ppo do/do things/nns many/ap well-informed/jj people/nns would/md bet/vb heavily/rb against/in ./.\\nPerhaps/rb a/at list/nn of/in some/dti of/in the/at ``/`` practices/nns ''/'' of/in my/pp$ company/nn will/md help/vb here/rb ./.\\n\\n\\n\\tThe/at company/nn grew/vbd out/in of/in efforts/nns by/in two/cd completely/ql inexperienced/jj men/nns in/in their/pp$ late/jj twenties/nns ,/, neither/dtx having/hvg a/at formal/jj education/nn applicable/jj to/in ,/, or/cc experience/nn in/in ,/, manufacturing/vbg or/cc selling/vbg our/pp$ type/nn of/in articles/nns ./.\\nFrom/in an/at initial/jj investment/nn of/in $1,200/nns in/in 1943/cd ,/, it/pps has/hvz grown/vbn ,/, with/in no/at additional/jj capital/nn investment/nn ,/, to/in a/at present/jj value/nn estimated/vbn by/in some/dti as/cs exceeding/vbg $10,000,000/nns (/( we/ppss don't/do* disclose/vb financial/jj figures/nns to/in the/at public/nn )/) ./.\\nIts/pp$ growth/nn continues/vbz steadily/rb on/in a/at par/nn with/in past/ap growth/nn ;/. ;/.\\nand/cc no/at limitation/nn is/bez in/in evidence/nn ./.\\nOur/pp$ pin-curl/nn clips/nns and/cc self-locking/jj nuts/nns achieved/vbd dominance/nn in/in just/rb a/at few/ap years/nns time/nn ,/, despite/in substantial/jj ,/, well/ql established/vbn competition/nn ./.\\n\\n\""
      ]
     },
     "execution_count": 58,
     "metadata": {},
     "output_type": "execute_result"
    }
   ],
   "source": [
    "brown.raw(fileids=\"cg22\")"
   ]
  },
  {
   "cell_type": "code",
   "execution_count": 59,
   "metadata": {},
   "outputs": [
    {
     "data": {
      "text/plain": [
       "20400"
      ]
     },
     "execution_count": 59,
     "metadata": {},
     "output_type": "execute_result"
    }
   ],
   "source": [
    "len(brown.raw(fileids=\"cg22\"))"
   ]
  },
  {
   "cell_type": "code",
   "execution_count": 60,
   "metadata": {},
   "outputs": [
    {
     "data": {
      "text/plain": [
       "['Does', 'our', 'society', 'have', 'a', 'runaway', ',', ...]"
      ]
     },
     "execution_count": 60,
     "metadata": {},
     "output_type": "execute_result"
    }
   ],
   "source": [
    "brown.words(fileids=\"cg22\")"
   ]
  },
  {
   "cell_type": "code",
   "execution_count": 61,
   "metadata": {},
   "outputs": [
    {
     "data": {
      "text/plain": [
       "2291"
      ]
     },
     "execution_count": 61,
     "metadata": {},
     "output_type": "execute_result"
    }
   ],
   "source": [
    "len(brown.words(fileids=\"cg22\"))"
   ]
  },
  {
   "cell_type": "code",
   "execution_count": 62,
   "metadata": {},
   "outputs": [
    {
     "data": {
      "text/plain": [
       "1161192"
      ]
     },
     "execution_count": 62,
     "metadata": {},
     "output_type": "execute_result"
    }
   ],
   "source": [
    "len(brown.words())"
   ]
  },
  {
   "cell_type": "code",
   "execution_count": 63,
   "metadata": {},
   "outputs": [
    {
     "data": {
      "text/plain": [
       "100554"
      ]
     },
     "execution_count": 63,
     "metadata": {},
     "output_type": "execute_result"
    }
   ],
   "source": [
    "len(brown.words(categories=\"news\"))"
   ]
  },
  {
   "cell_type": "code",
   "execution_count": 64,
   "metadata": {},
   "outputs": [
    {
     "data": {
      "text/plain": [
       "2291"
      ]
     },
     "execution_count": 64,
     "metadata": {},
     "output_type": "execute_result"
    }
   ],
   "source": [
    "len(brown.words(fileids=\"cg22\"))"
   ]
  },
  {
   "cell_type": "code",
   "execution_count": 65,
   "metadata": {
    "scrolled": true
   },
   "outputs": [
    {
     "data": {
      "text/plain": [
       "[['The', 'Fulton', 'County', 'Grand', 'Jury', 'said', 'Friday', 'an', 'investigation', 'of', \"Atlanta's\", 'recent', 'primary', 'election', 'produced', '``', 'no', 'evidence', \"''\", 'that', 'any', 'irregularities', 'took', 'place', '.'], ['The', 'jury', 'further', 'said', 'in', 'term-end', 'presentments', 'that', 'the', 'City', 'Executive', 'Committee', ',', 'which', 'had', 'over-all', 'charge', 'of', 'the', 'election', ',', '``', 'deserves', 'the', 'praise', 'and', 'thanks', 'of', 'the', 'City', 'of', 'Atlanta', \"''\", 'for', 'the', 'manner', 'in', 'which', 'the', 'election', 'was', 'conducted', '.'], ...]"
      ]
     },
     "execution_count": 65,
     "metadata": {},
     "output_type": "execute_result"
    }
   ],
   "source": [
    "brown.sents(categories=[\"news\",\"editorial\",\"reviews\"])"
   ]
  },
  {
   "cell_type": "code",
   "execution_count": 66,
   "metadata": {},
   "outputs": [
    {
     "data": {
      "text/plain": [
       "57340"
      ]
     },
     "execution_count": 66,
     "metadata": {},
     "output_type": "execute_result"
    }
   ],
   "source": [
    "len(brown.sents())"
   ]
  },
  {
   "cell_type": "code",
   "execution_count": 67,
   "metadata": {},
   "outputs": [
    {
     "data": {
      "text/plain": [
       "4623"
      ]
     },
     "execution_count": 67,
     "metadata": {},
     "output_type": "execute_result"
    }
   ],
   "source": [
    "len(brown.sents(categories=\"news\"))"
   ]
  },
  {
   "cell_type": "code",
   "execution_count": 68,
   "metadata": {},
   "outputs": [],
   "source": [
    "news_text = brown.words(categories=\"news\")"
   ]
  },
  {
   "cell_type": "code",
   "execution_count": 69,
   "metadata": {},
   "outputs": [],
   "source": [
    "fdist = nltk.FreqDist( w.lower() for w in news_text )"
   ]
  },
  {
   "cell_type": "code",
   "execution_count": 70,
   "metadata": {},
   "outputs": [
    {
     "data": {
      "text/plain": [
       "[('the', 6386),\n",
       " (',', 5188),\n",
       " ('.', 4030),\n",
       " ('of', 2861),\n",
       " ('and', 2186),\n",
       " ('to', 2144),\n",
       " ('a', 2130),\n",
       " ('in', 2020),\n",
       " ('for', 969),\n",
       " ('that', 829),\n",
       " ('is', 733),\n",
       " ('``', 732),\n",
       " ('was', 717),\n",
       " (\"''\", 702),\n",
       " ('on', 691),\n",
       " ('he', 642),\n",
       " ('at', 636),\n",
       " ('with', 567),\n",
       " ('be', 526),\n",
       " ('as', 517),\n",
       " ('by', 504),\n",
       " ('it', 478),\n",
       " ('his', 428),\n",
       " ('said', 406),\n",
       " ('will', 389)]"
      ]
     },
     "execution_count": 70,
     "metadata": {},
     "output_type": "execute_result"
    }
   ],
   "source": [
    "fdist.most_common(25)"
   ]
  },
  {
   "cell_type": "code",
   "execution_count": 71,
   "metadata": {},
   "outputs": [],
   "source": [
    "brown_words = brown.words()"
   ]
  },
  {
   "cell_type": "code",
   "execution_count": 72,
   "metadata": {},
   "outputs": [
    {
     "data": {
      "text/plain": [
       "1161192"
      ]
     },
     "execution_count": 72,
     "metadata": {},
     "output_type": "execute_result"
    }
   ],
   "source": [
    "len(brown_words)"
   ]
  },
  {
   "cell_type": "code",
   "execution_count": 73,
   "metadata": {},
   "outputs": [],
   "source": [
    "fdist_brown_words = nltk.FreqDist( w.lower() for w in brown_words )"
   ]
  },
  {
   "cell_type": "code",
   "execution_count": 74,
   "metadata": {},
   "outputs": [
    {
     "data": {
      "text/plain": [
       "[('the', 69971),\n",
       " (',', 58334),\n",
       " ('.', 49346),\n",
       " ('of', 36412),\n",
       " ('and', 28853),\n",
       " ('to', 26158),\n",
       " ('a', 23195),\n",
       " ('in', 21337),\n",
       " ('that', 10594),\n",
       " ('is', 10109),\n",
       " ('was', 9815),\n",
       " ('he', 9548),\n",
       " ('for', 9489),\n",
       " ('``', 8837),\n",
       " (\"''\", 8789),\n",
       " ('it', 8760),\n",
       " ('with', 7289),\n",
       " ('as', 7253),\n",
       " ('his', 6996),\n",
       " ('on', 6741),\n",
       " ('be', 6377),\n",
       " (';', 5566),\n",
       " ('at', 5372),\n",
       " ('by', 5306),\n",
       " ('i', 5164),\n",
       " ('this', 5145),\n",
       " ('had', 5133),\n",
       " ('?', 4693),\n",
       " ('not', 4610),\n",
       " ('are', 4394),\n",
       " ('but', 4381),\n",
       " ('from', 4370),\n",
       " ('or', 4206),\n",
       " ('have', 3942),\n",
       " ('an', 3740),\n",
       " ('they', 3620),\n",
       " ('which', 3561),\n",
       " ('--', 3432),\n",
       " ('one', 3292),\n",
       " ('you', 3286),\n",
       " ('were', 3284),\n",
       " ('her', 3036),\n",
       " ('all', 3001),\n",
       " ('she', 2860),\n",
       " ('there', 2728),\n",
       " ('would', 2714),\n",
       " ('their', 2669),\n",
       " ('we', 2652),\n",
       " ('him', 2619),\n",
       " ('been', 2472)]"
      ]
     },
     "execution_count": 74,
     "metadata": {},
     "output_type": "execute_result"
    }
   ],
   "source": [
    "fdist_brown_words.most_common(50)"
   ]
  },
  {
   "cell_type": "raw",
   "metadata": {},
   "source": []
  },
  {
   "cell_type": "code",
   "execution_count": 75,
   "metadata": {},
   "outputs": [],
   "source": [
    "modals = ['can','could','may','might','must','will']"
   ]
  },
  {
   "cell_type": "code",
   "execution_count": 76,
   "metadata": {},
   "outputs": [
    {
     "name": "stdout",
     "output_type": "stream",
     "text": [
      "can: 94 could: 87 may: 93 might: 38 must: 53 will: 389 "
     ]
    }
   ],
   "source": [
    "for m in modals:\n",
    "    print(m + ':', fdist[m], end = ' ')"
   ]
  },
  {
   "cell_type": "code",
   "execution_count": 77,
   "metadata": {},
   "outputs": [
    {
     "data": {
      "text/plain": [
       "94"
      ]
     },
     "execution_count": 77,
     "metadata": {},
     "output_type": "execute_result"
    }
   ],
   "source": [
    "fdist['can']"
   ]
  },
  {
   "cell_type": "code",
   "execution_count": 78,
   "metadata": {},
   "outputs": [],
   "source": [
    "cfd = nltk.ConditionalFreqDist(\n",
    "        (genre, word)\n",
    "        for genre in brown.categories()\n",
    "        for word in brown.words(categories=genre))"
   ]
  },
  {
   "cell_type": "code",
   "execution_count": 79,
   "metadata": {},
   "outputs": [
    {
     "data": {
      "text/plain": [
       "FreqDist({'the': 5580, ',': 5188, '.': 4030, 'of': 2849, 'and': 2146, 'to': 2116, 'a': 1993, 'in': 1893, 'for': 943, 'The': 806, ...})"
      ]
     },
     "execution_count": 79,
     "metadata": {},
     "output_type": "execute_result"
    }
   ],
   "source": [
    "cfd[\"news\"]"
   ]
  },
  {
   "cell_type": "code",
   "execution_count": 80,
   "metadata": {},
   "outputs": [
    {
     "data": {
      "text/plain": [
       "FreqDist({',': 791, '.': 786, 'the': 652, 'of': 321, 'to': 305, 'and': 278, '``': 235, \"''\": 235, 'a': 222, 'was': 198, ...})"
      ]
     },
     "execution_count": 80,
     "metadata": {},
     "output_type": "execute_result"
    }
   ],
   "source": [
    "cfd[\"science_fiction\"]"
   ]
  },
  {
   "cell_type": "code",
   "execution_count": 81,
   "metadata": {},
   "outputs": [
    {
     "data": {
      "text/plain": [
       "5580"
      ]
     },
     "execution_count": 81,
     "metadata": {},
     "output_type": "execute_result"
    }
   ],
   "source": [
    "cfd[\"news\"][\"the\"]"
   ]
  },
  {
   "cell_type": "code",
   "execution_count": 82,
   "metadata": {},
   "outputs": [
    {
     "data": {
      "text/plain": [
       "652"
      ]
     },
     "execution_count": 82,
     "metadata": {},
     "output_type": "execute_result"
    }
   ],
   "source": [
    "cfd[\"science_fiction\"][\"the\"]"
   ]
  },
  {
   "cell_type": "code",
   "execution_count": 83,
   "metadata": {},
   "outputs": [
    {
     "data": {
      "text/plain": [
       "<ConditionalFreqDist with 15 conditions>"
      ]
     },
     "execution_count": 83,
     "metadata": {},
     "output_type": "execute_result"
    }
   ],
   "source": [
    "cfd"
   ]
  },
  {
   "cell_type": "code",
   "execution_count": 84,
   "metadata": {},
   "outputs": [],
   "source": [
    "genres = [\"news\",\"religion\",\"hobbies\",\"science_fiction\",\"romance\",\"humor\"]"
   ]
  },
  {
   "cell_type": "code",
   "execution_count": 85,
   "metadata": {},
   "outputs": [
    {
     "name": "stdout",
     "output_type": "stream",
     "text": [
      "                  can could   may might  must  will \n",
      "           news    93    86    66    38    50   389 \n",
      "       religion    82    59    78    12    54    71 \n",
      "        hobbies   268    58   131    22    83   264 \n",
      "science_fiction    16    49     4    12     8    16 \n",
      "        romance    74   193    11    51    45    43 \n",
      "          humor    16    30     8     8     9    13 \n"
     ]
    }
   ],
   "source": [
    "cfd.tabulate(conditions=genres, samples=modals)\n",
    "# representacion tabular que permite asociar a cda ctegoria seleccionada los distintos valores de los modales\n",
    "# desde aqui le preste atencion y anote lo que decia para buscar en el audio33.19  del 6/4\n"
   ]
  },
  {
   "cell_type": "code",
   "execution_count": 86,
   "metadata": {},
   "outputs": [],
   "source": [
    "genre_news = \"news\"\n",
    "# "
   ]
  },
  {
   "cell_type": "code",
   "execution_count": 87,
   "metadata": {},
   "outputs": [],
   "source": [
    "words_news = brown.words(categories=genre_news)"
   ]
  },
  {
   "cell_type": "code",
   "execution_count": 88,
   "metadata": {},
   "outputs": [],
   "source": [
    "fd_news = nltk.FreqDist(words_news)"
   ]
  },
  {
   "cell_type": "code",
   "execution_count": 89,
   "metadata": {},
   "outputs": [
    {
     "data": {
      "text/plain": [
       "[('can', 93),\n",
       " ('could', 86),\n",
       " ('may', 66),\n",
       " ('might', 38),\n",
       " ('must', 50),\n",
       " ('will', 389)]"
      ]
     },
     "execution_count": 89,
     "metadata": {},
     "output_type": "execute_result"
    }
   ],
   "source": [
    "[(modal,fd_news[modal]) for modal in modals]\n",
    "# ejemplo sobre distribucion de frecuencia es una distribucion de no se que\n"
   ]
  },
  {
   "cell_type": "code",
   "execution_count": 90,
   "metadata": {},
   "outputs": [],
   "source": [
    "genre = \"religion\""
   ]
  },
  {
   "cell_type": "code",
   "execution_count": 91,
   "metadata": {},
   "outputs": [],
   "source": [
    "words_religion = brown.words(categories=genre)"
   ]
  },
  {
   "cell_type": "code",
   "execution_count": 92,
   "metadata": {},
   "outputs": [],
   "source": [
    "fd_religion = nltk.FreqDist(words_religion)"
   ]
  },
  {
   "cell_type": "code",
   "execution_count": 93,
   "metadata": {},
   "outputs": [
    {
     "data": {
      "text/plain": [
       "[('can', 82),\n",
       " ('could', 59),\n",
       " ('may', 78),\n",
       " ('might', 12),\n",
       " ('must', 54),\n",
       " ('will', 71)]"
      ]
     },
     "execution_count": 93,
     "metadata": {},
     "output_type": "execute_result"
    }
   ],
   "source": [
    "[(modal,fd_religion[modal]) for modal in modals]"
   ]
  },
  {
   "cell_type": "code",
   "execution_count": 94,
   "metadata": {},
   "outputs": [],
   "source": [
    "from nltk.corpus import reuters\n",
    "# corpus reuters sacado de la agencia de noticias"
   ]
  },
  {
   "cell_type": "code",
   "execution_count": 95,
   "metadata": {},
   "outputs": [
    {
     "data": {
      "text/plain": [
       "['test/14826',\n",
       " 'test/14828',\n",
       " 'test/14829',\n",
       " 'test/14832',\n",
       " 'test/14833',\n",
       " 'test/14839',\n",
       " 'test/14840',\n",
       " 'test/14841',\n",
       " 'test/14842',\n",
       " 'test/14843',\n",
       " 'test/14844',\n",
       " 'test/14849',\n",
       " 'test/14852',\n",
       " 'test/14854',\n",
       " 'test/14858',\n",
       " 'test/14859',\n",
       " 'test/14860',\n",
       " 'test/14861',\n",
       " 'test/14862',\n",
       " 'test/14863',\n",
       " 'test/14865',\n",
       " 'test/14867',\n",
       " 'test/14872',\n",
       " 'test/14873',\n",
       " 'test/14875',\n",
       " 'test/14876',\n",
       " 'test/14877',\n",
       " 'test/14881',\n",
       " 'test/14882',\n",
       " 'test/14885',\n",
       " 'test/14886',\n",
       " 'test/14888',\n",
       " 'test/14890',\n",
       " 'test/14891',\n",
       " 'test/14892',\n",
       " 'test/14899',\n",
       " 'test/14900',\n",
       " 'test/14903',\n",
       " 'test/14904',\n",
       " 'test/14907',\n",
       " 'test/14909',\n",
       " 'test/14911',\n",
       " 'test/14912',\n",
       " 'test/14913',\n",
       " 'test/14918',\n",
       " 'test/14919',\n",
       " 'test/14921',\n",
       " 'test/14922',\n",
       " 'test/14923',\n",
       " 'test/14926',\n",
       " 'test/14928',\n",
       " 'test/14930',\n",
       " 'test/14931',\n",
       " 'test/14932',\n",
       " 'test/14933',\n",
       " 'test/14934',\n",
       " 'test/14941',\n",
       " 'test/14943',\n",
       " 'test/14949',\n",
       " 'test/14951',\n",
       " 'test/14954',\n",
       " 'test/14957',\n",
       " 'test/14958',\n",
       " 'test/14959',\n",
       " 'test/14960',\n",
       " 'test/14962',\n",
       " 'test/14963',\n",
       " 'test/14964',\n",
       " 'test/14965',\n",
       " 'test/14967',\n",
       " 'test/14968',\n",
       " 'test/14969',\n",
       " 'test/14970',\n",
       " 'test/14971',\n",
       " 'test/14974',\n",
       " 'test/14975',\n",
       " 'test/14978',\n",
       " 'test/14981',\n",
       " 'test/14982',\n",
       " 'test/14983',\n",
       " 'test/14984',\n",
       " 'test/14985',\n",
       " 'test/14986',\n",
       " 'test/14987',\n",
       " 'test/14988',\n",
       " 'test/14993',\n",
       " 'test/14995',\n",
       " 'test/14998',\n",
       " 'test/15000',\n",
       " 'test/15001',\n",
       " 'test/15002',\n",
       " 'test/15004',\n",
       " 'test/15005',\n",
       " 'test/15006',\n",
       " 'test/15011',\n",
       " 'test/15012',\n",
       " 'test/15013',\n",
       " 'test/15016',\n",
       " 'test/15017',\n",
       " 'test/15020',\n",
       " 'test/15023',\n",
       " 'test/15024',\n",
       " 'test/15026',\n",
       " 'test/15027',\n",
       " 'test/15028',\n",
       " 'test/15029',\n",
       " 'test/15031',\n",
       " 'test/15032',\n",
       " 'test/15033',\n",
       " 'test/15037',\n",
       " 'test/15038',\n",
       " 'test/15043',\n",
       " 'test/15045',\n",
       " 'test/15046',\n",
       " 'test/15048',\n",
       " 'test/15049',\n",
       " 'test/15052',\n",
       " 'test/15053',\n",
       " 'test/15055',\n",
       " 'test/15056',\n",
       " 'test/15060',\n",
       " 'test/15061',\n",
       " 'test/15062',\n",
       " 'test/15063',\n",
       " 'test/15065',\n",
       " 'test/15067',\n",
       " 'test/15069',\n",
       " 'test/15070',\n",
       " 'test/15074',\n",
       " 'test/15077',\n",
       " 'test/15078',\n",
       " 'test/15079',\n",
       " 'test/15082',\n",
       " 'test/15090',\n",
       " 'test/15091',\n",
       " 'test/15092',\n",
       " 'test/15093',\n",
       " 'test/15094',\n",
       " 'test/15095',\n",
       " 'test/15096',\n",
       " 'test/15097',\n",
       " 'test/15103',\n",
       " 'test/15104',\n",
       " 'test/15106',\n",
       " 'test/15107',\n",
       " 'test/15109',\n",
       " 'test/15110',\n",
       " 'test/15111',\n",
       " 'test/15112',\n",
       " 'test/15118',\n",
       " 'test/15119',\n",
       " 'test/15120',\n",
       " 'test/15121',\n",
       " 'test/15122',\n",
       " 'test/15124',\n",
       " 'test/15126',\n",
       " 'test/15128',\n",
       " 'test/15129',\n",
       " 'test/15130',\n",
       " 'test/15132',\n",
       " 'test/15136',\n",
       " 'test/15138',\n",
       " 'test/15141',\n",
       " 'test/15144',\n",
       " 'test/15145',\n",
       " 'test/15146',\n",
       " 'test/15149',\n",
       " 'test/15152',\n",
       " 'test/15153',\n",
       " 'test/15154',\n",
       " 'test/15156',\n",
       " 'test/15157',\n",
       " 'test/15161',\n",
       " 'test/15162',\n",
       " 'test/15171',\n",
       " 'test/15172',\n",
       " 'test/15175',\n",
       " 'test/15179',\n",
       " 'test/15180',\n",
       " 'test/15185',\n",
       " 'test/15188',\n",
       " 'test/15189',\n",
       " 'test/15190',\n",
       " 'test/15193',\n",
       " 'test/15194',\n",
       " 'test/15197',\n",
       " 'test/15198',\n",
       " 'test/15200',\n",
       " 'test/15204',\n",
       " 'test/15205',\n",
       " 'test/15206',\n",
       " 'test/15207',\n",
       " 'test/15208',\n",
       " 'test/15210',\n",
       " 'test/15211',\n",
       " 'test/15212',\n",
       " 'test/15213',\n",
       " 'test/15217',\n",
       " 'test/15219',\n",
       " 'test/15220',\n",
       " 'test/15221',\n",
       " 'test/15222',\n",
       " 'test/15223',\n",
       " 'test/15226',\n",
       " 'test/15227',\n",
       " 'test/15230',\n",
       " 'test/15233',\n",
       " 'test/15234',\n",
       " 'test/15237',\n",
       " 'test/15238',\n",
       " 'test/15239',\n",
       " 'test/15240',\n",
       " 'test/15242',\n",
       " 'test/15243',\n",
       " 'test/15244',\n",
       " 'test/15246',\n",
       " 'test/15247',\n",
       " 'test/15250',\n",
       " 'test/15253',\n",
       " 'test/15254',\n",
       " 'test/15255',\n",
       " 'test/15258',\n",
       " 'test/15259',\n",
       " 'test/15262',\n",
       " 'test/15263',\n",
       " 'test/15264',\n",
       " 'test/15265',\n",
       " 'test/15270',\n",
       " 'test/15271',\n",
       " 'test/15273',\n",
       " 'test/15274',\n",
       " 'test/15276',\n",
       " 'test/15278',\n",
       " 'test/15280',\n",
       " 'test/15281',\n",
       " 'test/15283',\n",
       " 'test/15287',\n",
       " 'test/15290',\n",
       " 'test/15292',\n",
       " 'test/15294',\n",
       " 'test/15295',\n",
       " 'test/15296',\n",
       " 'test/15299',\n",
       " 'test/15300',\n",
       " 'test/15302',\n",
       " 'test/15303',\n",
       " 'test/15306',\n",
       " 'test/15307',\n",
       " 'test/15308',\n",
       " 'test/15309',\n",
       " 'test/15310',\n",
       " 'test/15311',\n",
       " 'test/15312',\n",
       " 'test/15313',\n",
       " 'test/15314',\n",
       " 'test/15315',\n",
       " 'test/15321',\n",
       " 'test/15322',\n",
       " 'test/15324',\n",
       " 'test/15325',\n",
       " 'test/15326',\n",
       " 'test/15327',\n",
       " 'test/15329',\n",
       " 'test/15335',\n",
       " 'test/15336',\n",
       " 'test/15337',\n",
       " 'test/15339',\n",
       " 'test/15341',\n",
       " 'test/15344',\n",
       " 'test/15345',\n",
       " 'test/15348',\n",
       " 'test/15349',\n",
       " 'test/15351',\n",
       " 'test/15352',\n",
       " 'test/15354',\n",
       " 'test/15356',\n",
       " 'test/15357',\n",
       " 'test/15359',\n",
       " 'test/15363',\n",
       " 'test/15364',\n",
       " 'test/15365',\n",
       " 'test/15366',\n",
       " 'test/15367',\n",
       " 'test/15368',\n",
       " 'test/15372',\n",
       " 'test/15375',\n",
       " 'test/15378',\n",
       " 'test/15379',\n",
       " 'test/15380',\n",
       " 'test/15383',\n",
       " 'test/15384',\n",
       " 'test/15386',\n",
       " 'test/15387',\n",
       " 'test/15388',\n",
       " 'test/15389',\n",
       " 'test/15391',\n",
       " 'test/15394',\n",
       " 'test/15396',\n",
       " 'test/15397',\n",
       " 'test/15400',\n",
       " 'test/15404',\n",
       " 'test/15406',\n",
       " 'test/15409',\n",
       " 'test/15410',\n",
       " 'test/15411',\n",
       " 'test/15413',\n",
       " 'test/15415',\n",
       " 'test/15416',\n",
       " 'test/15417',\n",
       " 'test/15420',\n",
       " 'test/15421',\n",
       " 'test/15424',\n",
       " 'test/15425',\n",
       " 'test/15427',\n",
       " 'test/15428',\n",
       " 'test/15429',\n",
       " 'test/15430',\n",
       " 'test/15431',\n",
       " 'test/15432',\n",
       " 'test/15436',\n",
       " 'test/15438',\n",
       " 'test/15441',\n",
       " 'test/15442',\n",
       " 'test/15444',\n",
       " 'test/15446',\n",
       " 'test/15447',\n",
       " 'test/15448',\n",
       " 'test/15449',\n",
       " 'test/15450',\n",
       " 'test/15451',\n",
       " 'test/15452',\n",
       " 'test/15453',\n",
       " 'test/15454',\n",
       " 'test/15455',\n",
       " 'test/15457',\n",
       " 'test/15459',\n",
       " 'test/15460',\n",
       " 'test/15462',\n",
       " 'test/15464',\n",
       " 'test/15467',\n",
       " 'test/15468',\n",
       " 'test/15471',\n",
       " 'test/15472',\n",
       " 'test/15476',\n",
       " 'test/15477',\n",
       " 'test/15478',\n",
       " 'test/15479',\n",
       " 'test/15481',\n",
       " 'test/15482',\n",
       " 'test/15483',\n",
       " 'test/15484',\n",
       " 'test/15485',\n",
       " 'test/15487',\n",
       " 'test/15489',\n",
       " 'test/15494',\n",
       " 'test/15495',\n",
       " 'test/15496',\n",
       " 'test/15500',\n",
       " 'test/15501',\n",
       " 'test/15503',\n",
       " 'test/15504',\n",
       " 'test/15510',\n",
       " 'test/15511',\n",
       " 'test/15515',\n",
       " 'test/15520',\n",
       " 'test/15521',\n",
       " 'test/15522',\n",
       " 'test/15523',\n",
       " 'test/15527',\n",
       " 'test/15528',\n",
       " 'test/15531',\n",
       " 'test/15532',\n",
       " 'test/15535',\n",
       " 'test/15536',\n",
       " 'test/15539',\n",
       " 'test/15540',\n",
       " 'test/15542',\n",
       " 'test/15543',\n",
       " 'test/15544',\n",
       " 'test/15545',\n",
       " 'test/15547',\n",
       " 'test/15548',\n",
       " 'test/15549',\n",
       " 'test/15550',\n",
       " 'test/15551',\n",
       " 'test/15552',\n",
       " 'test/15553',\n",
       " 'test/15556',\n",
       " 'test/15558',\n",
       " 'test/15559',\n",
       " 'test/15560',\n",
       " 'test/15561',\n",
       " 'test/15562',\n",
       " 'test/15563',\n",
       " 'test/15565',\n",
       " 'test/15566',\n",
       " 'test/15567',\n",
       " 'test/15568',\n",
       " 'test/15569',\n",
       " 'test/15570',\n",
       " 'test/15571',\n",
       " 'test/15572',\n",
       " 'test/15573',\n",
       " 'test/15574',\n",
       " 'test/15575',\n",
       " 'test/15578',\n",
       " 'test/15579',\n",
       " 'test/15580',\n",
       " 'test/15581',\n",
       " 'test/15582',\n",
       " 'test/15583',\n",
       " 'test/15584',\n",
       " 'test/15585',\n",
       " 'test/15590',\n",
       " 'test/15591',\n",
       " 'test/15593',\n",
       " 'test/15594',\n",
       " 'test/15595',\n",
       " 'test/15596',\n",
       " 'test/15597',\n",
       " 'test/15598',\n",
       " 'test/15600',\n",
       " 'test/15601',\n",
       " 'test/15602',\n",
       " 'test/15603',\n",
       " 'test/15605',\n",
       " 'test/15607',\n",
       " 'test/15610',\n",
       " 'test/15613',\n",
       " 'test/15615',\n",
       " 'test/15616',\n",
       " 'test/15617',\n",
       " 'test/15618',\n",
       " 'test/15620',\n",
       " 'test/15621',\n",
       " 'test/15623',\n",
       " 'test/15624',\n",
       " 'test/15625',\n",
       " 'test/15626',\n",
       " 'test/15629',\n",
       " 'test/15632',\n",
       " 'test/15634',\n",
       " 'test/15636',\n",
       " 'test/15637',\n",
       " 'test/15639',\n",
       " 'test/15640',\n",
       " 'test/15641',\n",
       " 'test/15642',\n",
       " 'test/15643',\n",
       " 'test/15646',\n",
       " 'test/15648',\n",
       " 'test/15649',\n",
       " 'test/15651',\n",
       " 'test/15653',\n",
       " 'test/15655',\n",
       " 'test/15656',\n",
       " 'test/15664',\n",
       " 'test/15666',\n",
       " 'test/15667',\n",
       " 'test/15668',\n",
       " 'test/15669',\n",
       " 'test/15672',\n",
       " 'test/15674',\n",
       " 'test/15675',\n",
       " 'test/15676',\n",
       " 'test/15677',\n",
       " 'test/15679',\n",
       " 'test/15680',\n",
       " 'test/15682',\n",
       " 'test/15686',\n",
       " 'test/15688',\n",
       " 'test/15689',\n",
       " 'test/15691',\n",
       " 'test/15692',\n",
       " 'test/15694',\n",
       " 'test/15695',\n",
       " 'test/15696',\n",
       " 'test/15698',\n",
       " 'test/15702',\n",
       " 'test/15703',\n",
       " 'test/15704',\n",
       " 'test/15707',\n",
       " 'test/15708',\n",
       " 'test/15709',\n",
       " 'test/15710',\n",
       " 'test/15713',\n",
       " 'test/15715',\n",
       " 'test/15717',\n",
       " 'test/15719',\n",
       " 'test/15720',\n",
       " 'test/15721',\n",
       " 'test/15723',\n",
       " 'test/15725',\n",
       " 'test/15726',\n",
       " 'test/15727',\n",
       " 'test/15728',\n",
       " 'test/15729',\n",
       " 'test/15732',\n",
       " 'test/15733',\n",
       " 'test/15736',\n",
       " 'test/15737',\n",
       " 'test/15739',\n",
       " 'test/15742',\n",
       " 'test/15749',\n",
       " 'test/15751',\n",
       " 'test/15753',\n",
       " 'test/15757',\n",
       " 'test/15759',\n",
       " 'test/15762',\n",
       " 'test/15767',\n",
       " 'test/15768',\n",
       " 'test/15769',\n",
       " 'test/15772',\n",
       " 'test/15777',\n",
       " 'test/15778',\n",
       " 'test/15780',\n",
       " 'test/15782',\n",
       " 'test/15785',\n",
       " 'test/15790',\n",
       " 'test/15793',\n",
       " 'test/15797',\n",
       " 'test/15798',\n",
       " 'test/15800',\n",
       " 'test/15801',\n",
       " 'test/15803',\n",
       " 'test/15804',\n",
       " 'test/15805',\n",
       " 'test/15807',\n",
       " 'test/15808',\n",
       " 'test/15810',\n",
       " 'test/15811',\n",
       " 'test/15816',\n",
       " 'test/15817',\n",
       " 'test/15819',\n",
       " 'test/15821',\n",
       " 'test/15822',\n",
       " 'test/15823',\n",
       " 'test/15829',\n",
       " 'test/15831',\n",
       " 'test/15832',\n",
       " 'test/15833',\n",
       " 'test/15834',\n",
       " 'test/15836',\n",
       " 'test/15838',\n",
       " 'test/15840',\n",
       " 'test/15841',\n",
       " 'test/15842',\n",
       " 'test/15844',\n",
       " 'test/15845',\n",
       " 'test/15846',\n",
       " 'test/15847',\n",
       " 'test/15851',\n",
       " 'test/15852',\n",
       " 'test/15853',\n",
       " 'test/15854',\n",
       " 'test/15855',\n",
       " 'test/15856',\n",
       " 'test/15858',\n",
       " 'test/15859',\n",
       " 'test/15860',\n",
       " 'test/15861',\n",
       " 'test/15863',\n",
       " 'test/15864',\n",
       " 'test/15865',\n",
       " 'test/15866',\n",
       " 'test/15867',\n",
       " 'test/15868',\n",
       " 'test/15869',\n",
       " 'test/15870',\n",
       " 'test/15871',\n",
       " 'test/15872',\n",
       " 'test/15874',\n",
       " 'test/15875',\n",
       " 'test/15876',\n",
       " 'test/15877',\n",
       " 'test/15878',\n",
       " 'test/15879',\n",
       " 'test/15881',\n",
       " 'test/15885',\n",
       " 'test/15886',\n",
       " 'test/15888',\n",
       " 'test/15889',\n",
       " 'test/15890',\n",
       " 'test/15892',\n",
       " 'test/15893',\n",
       " 'test/15894',\n",
       " 'test/15895',\n",
       " 'test/15896',\n",
       " 'test/15897',\n",
       " 'test/15898',\n",
       " 'test/15899',\n",
       " 'test/15900',\n",
       " 'test/15901',\n",
       " 'test/15902',\n",
       " 'test/15903',\n",
       " 'test/15904',\n",
       " 'test/15906',\n",
       " 'test/15908',\n",
       " 'test/15909',\n",
       " 'test/15910',\n",
       " 'test/15911',\n",
       " 'test/15912',\n",
       " 'test/15913',\n",
       " 'test/15914',\n",
       " 'test/15916',\n",
       " 'test/15917',\n",
       " 'test/15918',\n",
       " 'test/15920',\n",
       " 'test/15921',\n",
       " 'test/15922',\n",
       " 'test/15923',\n",
       " 'test/15924',\n",
       " 'test/15925',\n",
       " 'test/15927',\n",
       " 'test/15928',\n",
       " 'test/15929',\n",
       " 'test/15930',\n",
       " 'test/15932',\n",
       " 'test/15933',\n",
       " 'test/15934',\n",
       " 'test/15937',\n",
       " 'test/15939',\n",
       " 'test/15942',\n",
       " 'test/15944',\n",
       " 'test/15949',\n",
       " 'test/15950',\n",
       " 'test/15951',\n",
       " 'test/15952',\n",
       " 'test/15953',\n",
       " 'test/15956',\n",
       " 'test/15959',\n",
       " 'test/15960',\n",
       " 'test/15961',\n",
       " 'test/15963',\n",
       " 'test/15964',\n",
       " 'test/15967',\n",
       " 'test/15968',\n",
       " 'test/15969',\n",
       " 'test/15970',\n",
       " 'test/15973',\n",
       " 'test/15975',\n",
       " 'test/15976',\n",
       " 'test/15977',\n",
       " 'test/15978',\n",
       " 'test/15979',\n",
       " 'test/15980',\n",
       " 'test/15981',\n",
       " 'test/15984',\n",
       " 'test/15985',\n",
       " 'test/15987',\n",
       " 'test/15988',\n",
       " 'test/15989',\n",
       " 'test/15993',\n",
       " 'test/15995',\n",
       " 'test/15996',\n",
       " 'test/15997',\n",
       " 'test/15999',\n",
       " 'test/16002',\n",
       " 'test/16003',\n",
       " 'test/16004',\n",
       " 'test/16005',\n",
       " 'test/16006',\n",
       " 'test/16007',\n",
       " 'test/16009',\n",
       " 'test/16012',\n",
       " 'test/16013',\n",
       " 'test/16014',\n",
       " 'test/16015',\n",
       " 'test/16016',\n",
       " 'test/16021',\n",
       " 'test/16022',\n",
       " 'test/16023',\n",
       " 'test/16026',\n",
       " 'test/16029',\n",
       " 'test/16030',\n",
       " 'test/16033',\n",
       " 'test/16037',\n",
       " 'test/16040',\n",
       " 'test/16041',\n",
       " 'test/16045',\n",
       " 'test/16052',\n",
       " 'test/16053',\n",
       " 'test/16055',\n",
       " 'test/16063',\n",
       " 'test/16066',\n",
       " 'test/16067',\n",
       " 'test/16068',\n",
       " 'test/16069',\n",
       " 'test/16071',\n",
       " 'test/16072',\n",
       " 'test/16074',\n",
       " 'test/16075',\n",
       " 'test/16076',\n",
       " 'test/16077',\n",
       " 'test/16079',\n",
       " 'test/16080',\n",
       " 'test/16083',\n",
       " 'test/16086',\n",
       " 'test/16088',\n",
       " 'test/16091',\n",
       " 'test/16093',\n",
       " 'test/16094',\n",
       " 'test/16095',\n",
       " 'test/16096',\n",
       " 'test/16097',\n",
       " 'test/16098',\n",
       " 'test/16099',\n",
       " 'test/16100',\n",
       " 'test/16103',\n",
       " 'test/16106',\n",
       " 'test/16107',\n",
       " 'test/16108',\n",
       " 'test/16110',\n",
       " 'test/16111',\n",
       " 'test/16112',\n",
       " 'test/16115',\n",
       " 'test/16117',\n",
       " 'test/16118',\n",
       " 'test/16119',\n",
       " 'test/16120',\n",
       " 'test/16122',\n",
       " 'test/16123',\n",
       " 'test/16125',\n",
       " 'test/16126',\n",
       " 'test/16130',\n",
       " 'test/16133',\n",
       " 'test/16134',\n",
       " 'test/16136',\n",
       " 'test/16139',\n",
       " 'test/16140',\n",
       " 'test/16141',\n",
       " 'test/16142',\n",
       " 'test/16143',\n",
       " 'test/16144',\n",
       " 'test/16145',\n",
       " 'test/16146',\n",
       " 'test/16147',\n",
       " 'test/16148',\n",
       " 'test/16149',\n",
       " 'test/16150',\n",
       " 'test/16152',\n",
       " 'test/16155',\n",
       " 'test/16158',\n",
       " 'test/16159',\n",
       " 'test/16161',\n",
       " 'test/16162',\n",
       " 'test/16163',\n",
       " 'test/16164',\n",
       " 'test/16166',\n",
       " 'test/16170',\n",
       " 'test/16171',\n",
       " 'test/16172',\n",
       " 'test/16173',\n",
       " 'test/16175',\n",
       " 'test/16176',\n",
       " 'test/16177',\n",
       " 'test/16179',\n",
       " 'test/16180',\n",
       " 'test/16185',\n",
       " 'test/16188',\n",
       " 'test/16189',\n",
       " 'test/16190',\n",
       " 'test/16193',\n",
       " 'test/16194',\n",
       " 'test/16195',\n",
       " 'test/16196',\n",
       " 'test/16197',\n",
       " 'test/16200',\n",
       " 'test/16201',\n",
       " 'test/16202',\n",
       " 'test/16203',\n",
       " 'test/16206',\n",
       " 'test/16207',\n",
       " 'test/16210',\n",
       " 'test/16211',\n",
       " 'test/16212',\n",
       " 'test/16213',\n",
       " 'test/16214',\n",
       " 'test/16215',\n",
       " 'test/16216',\n",
       " 'test/16219',\n",
       " 'test/16221',\n",
       " 'test/16223',\n",
       " 'test/16225',\n",
       " 'test/16226',\n",
       " 'test/16228',\n",
       " 'test/16230',\n",
       " 'test/16232',\n",
       " 'test/16233',\n",
       " 'test/16234',\n",
       " 'test/16236',\n",
       " 'test/16238',\n",
       " 'test/16241',\n",
       " 'test/16243',\n",
       " 'test/16244',\n",
       " 'test/16246',\n",
       " 'test/16247',\n",
       " 'test/16248',\n",
       " 'test/16250',\n",
       " 'test/16251',\n",
       " 'test/16252',\n",
       " 'test/16255',\n",
       " 'test/16256',\n",
       " 'test/16257',\n",
       " 'test/16258',\n",
       " 'test/16260',\n",
       " 'test/16262',\n",
       " 'test/16263',\n",
       " 'test/16264',\n",
       " 'test/16265',\n",
       " 'test/16266',\n",
       " 'test/16268',\n",
       " 'test/16269',\n",
       " 'test/16270',\n",
       " 'test/16271',\n",
       " 'test/16274',\n",
       " 'test/16275',\n",
       " 'test/16277',\n",
       " 'test/16278',\n",
       " 'test/16279',\n",
       " 'test/16281',\n",
       " 'test/16282',\n",
       " 'test/16283',\n",
       " 'test/16284',\n",
       " 'test/16285',\n",
       " 'test/16286',\n",
       " 'test/16287',\n",
       " 'test/16288',\n",
       " 'test/16289',\n",
       " 'test/16291',\n",
       " 'test/16294',\n",
       " 'test/16297',\n",
       " 'test/16298',\n",
       " 'test/16299',\n",
       " 'test/16300',\n",
       " 'test/16301',\n",
       " 'test/16302',\n",
       " 'test/16303',\n",
       " 'test/16304',\n",
       " 'test/16307',\n",
       " 'test/16310',\n",
       " 'test/16311',\n",
       " 'test/16312',\n",
       " 'test/16314',\n",
       " 'test/16315',\n",
       " 'test/16316',\n",
       " 'test/16317',\n",
       " 'test/16318',\n",
       " 'test/16319',\n",
       " 'test/16320',\n",
       " 'test/16324',\n",
       " 'test/16327',\n",
       " 'test/16331',\n",
       " 'test/16332',\n",
       " 'test/16336',\n",
       " 'test/16337',\n",
       " 'test/16339',\n",
       " 'test/16342',\n",
       " 'test/16343',\n",
       " 'test/16346',\n",
       " 'test/16347',\n",
       " 'test/16348',\n",
       " 'test/16350',\n",
       " 'test/16354',\n",
       " 'test/16357',\n",
       " 'test/16359',\n",
       " 'test/16360',\n",
       " 'test/16362',\n",
       " 'test/16363',\n",
       " 'test/16365',\n",
       " 'test/16366',\n",
       " 'test/16367',\n",
       " 'test/16369',\n",
       " 'test/16370',\n",
       " 'test/16371',\n",
       " 'test/16372',\n",
       " 'test/16374',\n",
       " 'test/16376',\n",
       " 'test/16377',\n",
       " 'test/16379',\n",
       " 'test/16380',\n",
       " 'test/16383',\n",
       " 'test/16385',\n",
       " 'test/16386',\n",
       " 'test/16388',\n",
       " 'test/16390',\n",
       " 'test/16392',\n",
       " 'test/16393',\n",
       " 'test/16394',\n",
       " 'test/16395',\n",
       " 'test/16396',\n",
       " 'test/16398',\n",
       " 'test/16399',\n",
       " 'test/16400',\n",
       " 'test/16401',\n",
       " 'test/16402',\n",
       " 'test/16403',\n",
       " 'test/16404',\n",
       " 'test/16405',\n",
       " 'test/16406',\n",
       " 'test/16407',\n",
       " 'test/16409',\n",
       " 'test/16410',\n",
       " 'test/16415',\n",
       " 'test/16417',\n",
       " 'test/16418',\n",
       " 'test/16419',\n",
       " 'test/16420',\n",
       " 'test/16421',\n",
       " 'test/16422',\n",
       " 'test/16424',\n",
       " 'test/16426',\n",
       " 'test/16427',\n",
       " 'test/16428',\n",
       " 'test/16429',\n",
       " 'test/16430',\n",
       " 'test/16432',\n",
       " 'test/16433',\n",
       " 'test/16434',\n",
       " 'test/16437',\n",
       " 'test/16438',\n",
       " 'test/16440',\n",
       " 'test/16441',\n",
       " 'test/16442',\n",
       " 'test/16443',\n",
       " 'test/16444',\n",
       " 'test/16448',\n",
       " 'test/16449',\n",
       " 'test/16450',\n",
       " 'test/16454',\n",
       " 'test/16457',\n",
       " 'test/16458',\n",
       " 'test/16459',\n",
       " 'test/16460',\n",
       " 'test/16461',\n",
       " 'test/16463',\n",
       " 'test/16465',\n",
       " 'test/16468',\n",
       " 'test/16469',\n",
       " 'test/16470',\n",
       " 'test/16471',\n",
       " 'test/16472',\n",
       " 'test/16473',\n",
       " 'test/16475',\n",
       " 'test/16476',\n",
       " 'test/16478',\n",
       " 'test/16479',\n",
       " 'test/16480',\n",
       " 'test/16481',\n",
       " 'test/16483',\n",
       " 'test/16486',\n",
       " 'test/16487',\n",
       " 'test/16488',\n",
       " 'test/16490',\n",
       " 'test/16492',\n",
       " 'test/16493',\n",
       " 'test/16495',\n",
       " 'test/16496',\n",
       " 'test/16499',\n",
       " 'test/16502',\n",
       " 'test/16505',\n",
       " 'test/16510',\n",
       " 'test/16512',\n",
       " 'test/16513',\n",
       " 'test/16518',\n",
       " 'test/16519',\n",
       " 'test/16521',\n",
       " 'test/16522',\n",
       " 'test/16523',\n",
       " 'test/16525',\n",
       " 'test/16527',\n",
       " 'test/16530',\n",
       " 'test/16531',\n",
       " 'test/16533',\n",
       " 'test/16538',\n",
       " 'test/16539',\n",
       " 'test/16545',\n",
       " 'test/16546',\n",
       " 'test/16549',\n",
       " 'test/16551',\n",
       " 'test/16554',\n",
       " 'test/16555',\n",
       " 'test/16561',\n",
       " 'test/16563',\n",
       " 'test/16564',\n",
       " 'test/16565',\n",
       " 'test/16568',\n",
       " 'test/16569',\n",
       " 'test/16570',\n",
       " 'test/16574',\n",
       " 'test/16577',\n",
       " 'test/16581',\n",
       " 'test/16583',\n",
       " 'test/16584',\n",
       " 'test/16585',\n",
       " 'test/16587',\n",
       " 'test/16588',\n",
       " 'test/16589',\n",
       " 'test/16590',\n",
       " 'test/16591',\n",
       " ...]"
      ]
     },
     "execution_count": 95,
     "metadata": {},
     "output_type": "execute_result"
    }
   ],
   "source": [
    "reuters.fileids()"
   ]
  },
  {
   "cell_type": "code",
   "execution_count": 96,
   "metadata": {},
   "outputs": [
    {
     "data": {
      "text/plain": [
       "10788"
      ]
     },
     "execution_count": 96,
     "metadata": {},
     "output_type": "execute_result"
    }
   ],
   "source": [
    "len(reuters.fileids())\n",
    "# son 10mil documentos"
   ]
  },
  {
   "cell_type": "code",
   "execution_count": 308,
   "metadata": {},
   "outputs": [
    {
     "data": {
      "text/plain": [
       "['acq',\n",
       " 'alum',\n",
       " 'barley',\n",
       " 'bop',\n",
       " 'carcass',\n",
       " 'castor-oil',\n",
       " 'cocoa',\n",
       " 'coconut',\n",
       " 'coconut-oil',\n",
       " 'coffee',\n",
       " 'copper',\n",
       " 'copra-cake',\n",
       " 'corn',\n",
       " 'cotton',\n",
       " 'cotton-oil',\n",
       " 'cpi',\n",
       " 'cpu',\n",
       " 'crude',\n",
       " 'dfl',\n",
       " 'dlr',\n",
       " 'dmk',\n",
       " 'earn',\n",
       " 'fuel',\n",
       " 'gas',\n",
       " 'gnp',\n",
       " 'gold',\n",
       " 'grain',\n",
       " 'groundnut',\n",
       " 'groundnut-oil',\n",
       " 'heat',\n",
       " 'hog',\n",
       " 'housing',\n",
       " 'income',\n",
       " 'instal-debt',\n",
       " 'interest',\n",
       " 'ipi',\n",
       " 'iron-steel',\n",
       " 'jet',\n",
       " 'jobs',\n",
       " 'l-cattle',\n",
       " 'lead',\n",
       " 'lei',\n",
       " 'lin-oil',\n",
       " 'livestock',\n",
       " 'lumber',\n",
       " 'meal-feed',\n",
       " 'money-fx',\n",
       " 'money-supply',\n",
       " 'naphtha',\n",
       " 'nat-gas',\n",
       " 'nickel',\n",
       " 'nkr',\n",
       " 'nzdlr',\n",
       " 'oat',\n",
       " 'oilseed',\n",
       " 'orange',\n",
       " 'palladium',\n",
       " 'palm-oil',\n",
       " 'palmkernel',\n",
       " 'pet-chem',\n",
       " 'platinum',\n",
       " 'potato',\n",
       " 'propane',\n",
       " 'rand',\n",
       " 'rape-oil',\n",
       " 'rapeseed',\n",
       " 'reserves',\n",
       " 'retail',\n",
       " 'rice',\n",
       " 'rubber',\n",
       " 'rye',\n",
       " 'ship',\n",
       " 'silver',\n",
       " 'sorghum',\n",
       " 'soy-meal',\n",
       " 'soy-oil',\n",
       " 'soybean',\n",
       " 'strategic-metal',\n",
       " 'sugar',\n",
       " 'sun-meal',\n",
       " 'sun-oil',\n",
       " 'sunseed',\n",
       " 'tea',\n",
       " 'tin',\n",
       " 'trade',\n",
       " 'veg-oil',\n",
       " 'wheat',\n",
       " 'wpi',\n",
       " 'yen',\n",
       " 'zinc']"
      ]
     },
     "execution_count": 308,
     "metadata": {},
     "output_type": "execute_result"
    }
   ],
   "source": [
    "reuters.categories()\n",
    "# tengo una matriz de documentos y categorias\n",
    "# el brawn un documento pertenece especificamente a una categoria\n",
    "# aqui no, entonces la multietiqueta permite (no dijo)\n"
   ]
  },
  {
   "cell_type": "code",
   "execution_count": 98,
   "metadata": {},
   "outputs": [
    {
     "data": {
      "text/plain": [
       "90"
      ]
     },
     "execution_count": 98,
     "metadata": {},
     "output_type": "execute_result"
    }
   ],
   "source": [
    "len(reuters.categories())"
   ]
  },
  {
   "cell_type": "code",
   "execution_count": 99,
   "metadata": {},
   "outputs": [],
   "source": [
    "from nltk.corpus import inaugural\n",
    "# los discursos de presidentes usa"
   ]
  },
  {
   "cell_type": "code",
   "execution_count": 100,
   "metadata": {},
   "outputs": [
    {
     "data": {
      "text/plain": [
       "['1789-Washington.txt',\n",
       " '1793-Washington.txt',\n",
       " '1797-Adams.txt',\n",
       " '1801-Jefferson.txt',\n",
       " '1805-Jefferson.txt',\n",
       " '1809-Madison.txt',\n",
       " '1813-Madison.txt',\n",
       " '1817-Monroe.txt',\n",
       " '1821-Monroe.txt',\n",
       " '1825-Adams.txt',\n",
       " '1829-Jackson.txt',\n",
       " '1833-Jackson.txt',\n",
       " '1837-VanBuren.txt',\n",
       " '1841-Harrison.txt',\n",
       " '1845-Polk.txt',\n",
       " '1849-Taylor.txt',\n",
       " '1853-Pierce.txt',\n",
       " '1857-Buchanan.txt',\n",
       " '1861-Lincoln.txt',\n",
       " '1865-Lincoln.txt',\n",
       " '1869-Grant.txt',\n",
       " '1873-Grant.txt',\n",
       " '1877-Hayes.txt',\n",
       " '1881-Garfield.txt',\n",
       " '1885-Cleveland.txt',\n",
       " '1889-Harrison.txt',\n",
       " '1893-Cleveland.txt',\n",
       " '1897-McKinley.txt',\n",
       " '1901-McKinley.txt',\n",
       " '1905-Roosevelt.txt',\n",
       " '1909-Taft.txt',\n",
       " '1913-Wilson.txt',\n",
       " '1917-Wilson.txt',\n",
       " '1921-Harding.txt',\n",
       " '1925-Coolidge.txt',\n",
       " '1929-Hoover.txt',\n",
       " '1933-Roosevelt.txt',\n",
       " '1937-Roosevelt.txt',\n",
       " '1941-Roosevelt.txt',\n",
       " '1945-Roosevelt.txt',\n",
       " '1949-Truman.txt',\n",
       " '1953-Eisenhower.txt',\n",
       " '1957-Eisenhower.txt',\n",
       " '1961-Kennedy.txt',\n",
       " '1965-Johnson.txt',\n",
       " '1969-Nixon.txt',\n",
       " '1973-Nixon.txt',\n",
       " '1977-Carter.txt',\n",
       " '1981-Reagan.txt',\n",
       " '1985-Reagan.txt',\n",
       " '1989-Bush.txt',\n",
       " '1993-Clinton.txt',\n",
       " '1997-Clinton.txt',\n",
       " '2001-Bush.txt',\n",
       " '2005-Bush.txt',\n",
       " '2009-Obama.txt',\n",
       " '2013-Obama.txt',\n",
       " '2017-Trump.txt',\n",
       " '2021-Biden.txt']"
      ]
     },
     "execution_count": 100,
     "metadata": {},
     "output_type": "execute_result"
    }
   ],
   "source": [
    "inaugural.fileids()"
   ]
  },
  {
   "cell_type": "code",
   "execution_count": 101,
   "metadata": {},
   "outputs": [
    {
     "data": {
      "text/plain": [
       "['El', 'grupo', 'estatal', 'Electricité_de_France', ...]"
      ]
     },
     "execution_count": 101,
     "metadata": {},
     "output_type": "execute_result"
    }
   ],
   "source": [
    "nltk.corpus.cess_esp.words()"
   ]
  },
  {
   "cell_type": "code",
   "execution_count": 102,
   "metadata": {},
   "outputs": [
    {
     "data": {
      "text/plain": [
       "192686"
      ]
     },
     "execution_count": 102,
     "metadata": {},
     "output_type": "execute_result"
    }
   ],
   "source": [
    "len(nltk.corpus.cess_esp.words())"
   ]
  },
  {
   "cell_type": "code",
   "execution_count": 103,
   "metadata": {},
   "outputs": [
    {
     "data": {
      "text/plain": [
       "[['El', 'grupo', 'estatal', 'Electricité_de_France', '-Fpa-', 'EDF', '-Fpt-', 'anunció', 'hoy', ',', 'jueves', ',', 'la', 'compra', 'del', '51_por_ciento', 'de', 'la', 'empresa', 'mexicana', 'Electricidad_Águila_de_Altamira', '-Fpa-', 'EAA', '-Fpt-', ',', 'creada', 'por', 'el', 'japonés', 'Mitsubishi_Corporation', 'para', 'poner_en_marcha', 'una', 'central', 'de', 'gas', 'de', '495', 'megavatios', '.'], ['Una', 'portavoz', 'de', 'EDF', 'explicó', 'a', 'EFE', 'que', 'el', 'proyecto', 'para', 'la', 'construcción', 'de', 'Altamira_2', ',', 'al', 'norte', 'de', 'Tampico', ',', 'prevé', 'la', 'utilización', 'de', 'gas', 'natural', 'como', 'combustible', 'principal', 'en', 'una', 'central', 'de', 'ciclo', 'combinado', 'que', 'debe', 'empezar', 'a', 'funcionar', 'en', 'mayo_del_2002', '.'], ...]"
      ]
     },
     "execution_count": 103,
     "metadata": {},
     "output_type": "execute_result"
    }
   ],
   "source": [
    "nltk.corpus.cess_esp.sents()\n",
    "# oraciones dle corpus"
   ]
  },
  {
   "cell_type": "code",
   "execution_count": 104,
   "metadata": {},
   "outputs": [
    {
     "data": {
      "text/plain": [
       "6030"
      ]
     },
     "execution_count": 104,
     "metadata": {},
     "output_type": "execute_result"
    }
   ],
   "source": [
    "len(nltk.corpus.cess_esp.sents())"
   ]
  },
  {
   "cell_type": "code",
   "execution_count": 105,
   "metadata": {},
   "outputs": [],
   "source": [
    "raw = gutenberg.raw(\"burgess-busterbrown.txt\")\n",
    "# otra forma de acceder directo al corps"
   ]
  },
  {
   "cell_type": "code",
   "execution_count": 106,
   "metadata": {},
   "outputs": [
    {
     "data": {
      "text/plain": [
       "'The Adventures of Buster Bear by Thornton W. Burgess 1920]\\r\\n\\r\\nI\\r\\n\\r\\nBUSTER BEAR GOES FISHING\\r\\n\\r\\n\\r\\nBu'"
      ]
     },
     "execution_count": 106,
     "metadata": {},
     "output_type": "execute_result"
    }
   ],
   "source": [
    "raw[1:100]"
   ]
  },
  {
   "cell_type": "code",
   "execution_count": 107,
   "metadata": {},
   "outputs": [],
   "source": [
    "words = gutenberg.words(\"burgess-busterbrown.txt\")"
   ]
  },
  {
   "cell_type": "code",
   "execution_count": 108,
   "metadata": {},
   "outputs": [
    {
     "data": {
      "text/plain": [
       "['The',\n",
       " 'Adventures',\n",
       " 'of',\n",
       " 'Buster',\n",
       " 'Bear',\n",
       " 'by',\n",
       " 'Thornton',\n",
       " 'W',\n",
       " '.',\n",
       " 'Burgess',\n",
       " '1920',\n",
       " ']',\n",
       " 'I',\n",
       " 'BUSTER',\n",
       " 'BEAR',\n",
       " 'GOES',\n",
       " 'FISHING',\n",
       " 'Buster',\n",
       " 'Bear']"
      ]
     },
     "execution_count": 108,
     "metadata": {},
     "output_type": "execute_result"
    }
   ],
   "source": [
    "words[1:20]"
   ]
  },
  {
   "cell_type": "code",
   "execution_count": 109,
   "metadata": {},
   "outputs": [],
   "source": [
    "sents = gutenberg.sents(\"burgess-busterbrown.txt\")"
   ]
  },
  {
   "cell_type": "code",
   "execution_count": 110,
   "metadata": {},
   "outputs": [
    {
     "data": {
      "text/plain": [
       "[['I'],\n",
       " ['BUSTER', 'BEAR', 'GOES', 'FISHING'],\n",
       " ['Buster',\n",
       "  'Bear',\n",
       "  'yawned',\n",
       "  'as',\n",
       "  'he',\n",
       "  'lay',\n",
       "  'on',\n",
       "  'his',\n",
       "  'comfortable',\n",
       "  'bed',\n",
       "  'of',\n",
       "  'leaves',\n",
       "  'and',\n",
       "  'watched',\n",
       "  'the',\n",
       "  'first',\n",
       "  'early',\n",
       "  'morning',\n",
       "  'sunbeams',\n",
       "  'creeping',\n",
       "  'through',\n",
       "  'the',\n",
       "  'Green',\n",
       "  'Forest',\n",
       "  'to',\n",
       "  'chase',\n",
       "  'out',\n",
       "  'the',\n",
       "  'Black',\n",
       "  'Shadows',\n",
       "  '.'],\n",
       " ['Once',\n",
       "  'more',\n",
       "  'he',\n",
       "  'yawned',\n",
       "  ',',\n",
       "  'and',\n",
       "  'slowly',\n",
       "  'got',\n",
       "  'to',\n",
       "  'his',\n",
       "  'feet',\n",
       "  'and',\n",
       "  'shook',\n",
       "  'himself',\n",
       "  '.'],\n",
       " ['Then',\n",
       "  'he',\n",
       "  'walked',\n",
       "  'over',\n",
       "  'to',\n",
       "  'a',\n",
       "  'big',\n",
       "  'pine',\n",
       "  '-',\n",
       "  'tree',\n",
       "  ',',\n",
       "  'stood',\n",
       "  'up',\n",
       "  'on',\n",
       "  'his',\n",
       "  'hind',\n",
       "  'legs',\n",
       "  ',',\n",
       "  'reached',\n",
       "  'as',\n",
       "  'high',\n",
       "  'up',\n",
       "  'on',\n",
       "  'the',\n",
       "  'trunk',\n",
       "  'of',\n",
       "  'the',\n",
       "  'tree',\n",
       "  'as',\n",
       "  'he',\n",
       "  'could',\n",
       "  ',',\n",
       "  'and',\n",
       "  'scratched',\n",
       "  'the',\n",
       "  'bark',\n",
       "  'with',\n",
       "  'his',\n",
       "  'great',\n",
       "  'claws',\n",
       "  '.'],\n",
       " ['After',\n",
       "  'that',\n",
       "  'he',\n",
       "  'yawned',\n",
       "  'until',\n",
       "  'it',\n",
       "  'seemed',\n",
       "  'as',\n",
       "  'if',\n",
       "  'his',\n",
       "  'jaws',\n",
       "  'would',\n",
       "  'crack',\n",
       "  ',',\n",
       "  'and',\n",
       "  'then',\n",
       "  'sat',\n",
       "  'down',\n",
       "  'to',\n",
       "  'think',\n",
       "  'what',\n",
       "  'he',\n",
       "  'wanted',\n",
       "  'for',\n",
       "  'breakfast',\n",
       "  '.'],\n",
       " ['While',\n",
       "  'he',\n",
       "  'sat',\n",
       "  'there',\n",
       "  ',',\n",
       "  'trying',\n",
       "  'to',\n",
       "  'make',\n",
       "  'up',\n",
       "  'his',\n",
       "  'mind',\n",
       "  'what',\n",
       "  'would',\n",
       "  'taste',\n",
       "  'best',\n",
       "  ',',\n",
       "  'he',\n",
       "  'was',\n",
       "  'listening',\n",
       "  'to',\n",
       "  'the',\n",
       "  'sounds',\n",
       "  'that',\n",
       "  'told',\n",
       "  'of',\n",
       "  'the',\n",
       "  'waking',\n",
       "  'of',\n",
       "  'all',\n",
       "  'the',\n",
       "  'little',\n",
       "  'people',\n",
       "  'who',\n",
       "  'live',\n",
       "  'in',\n",
       "  'the',\n",
       "  'Green',\n",
       "  'Forest',\n",
       "  '.'],\n",
       " ['He',\n",
       "  'heard',\n",
       "  'Sammy',\n",
       "  'Jay',\n",
       "  'way',\n",
       "  'off',\n",
       "  'in',\n",
       "  'the',\n",
       "  'distance',\n",
       "  'screaming',\n",
       "  ',',\n",
       "  '\"',\n",
       "  'Thief',\n",
       "  '!'],\n",
       " ['Thief', '!\"'],\n",
       " ['and', 'grinned', '.'],\n",
       " ['\"',\n",
       "  'I',\n",
       "  'wonder',\n",
       "  ',\"',\n",
       "  'thought',\n",
       "  'Buster',\n",
       "  ',',\n",
       "  '\"',\n",
       "  'if',\n",
       "  'some',\n",
       "  'one',\n",
       "  'has',\n",
       "  'stolen',\n",
       "  'Sammy',\n",
       "  \"'\",\n",
       "  's',\n",
       "  'breakfast',\n",
       "  ',',\n",
       "  'or',\n",
       "  'if',\n",
       "  'he',\n",
       "  'has',\n",
       "  'stolen',\n",
       "  'the',\n",
       "  'breakfast',\n",
       "  'of',\n",
       "  'some',\n",
       "  'one',\n",
       "  'else',\n",
       "  '.'],\n",
       " ['Probably', 'he', 'is', 'the', 'thief', 'himself', '.\"'],\n",
       " ['He',\n",
       "  'heard',\n",
       "  'Chatterer',\n",
       "  'the',\n",
       "  'Red',\n",
       "  'Squirrel',\n",
       "  'scolding',\n",
       "  'as',\n",
       "  'fast',\n",
       "  'as',\n",
       "  'he',\n",
       "  'could',\n",
       "  'make',\n",
       "  'his',\n",
       "  'tongue',\n",
       "  'go',\n",
       "  'and',\n",
       "  'working',\n",
       "  'himself',\n",
       "  'into',\n",
       "  'a',\n",
       "  'terrible',\n",
       "  'rage',\n",
       "  '.'],\n",
       " ['\"',\n",
       "  'Must',\n",
       "  'be',\n",
       "  'that',\n",
       "  'Chatterer',\n",
       "  'got',\n",
       "  'out',\n",
       "  'of',\n",
       "  'bed',\n",
       "  'the',\n",
       "  'wrong',\n",
       "  'way',\n",
       "  'this',\n",
       "  'morning',\n",
       "  ',\"',\n",
       "  'thought',\n",
       "  'he',\n",
       "  '.'],\n",
       " ['He',\n",
       "  'heard',\n",
       "  'Blacky',\n",
       "  'the',\n",
       "  'Crow',\n",
       "  'cawing',\n",
       "  'at',\n",
       "  'the',\n",
       "  'top',\n",
       "  'of',\n",
       "  'his',\n",
       "  'lungs',\n",
       "  ',',\n",
       "  'and',\n",
       "  'he',\n",
       "  'knew',\n",
       "  'by',\n",
       "  'the',\n",
       "  'sound',\n",
       "  'that',\n",
       "  'Blacky',\n",
       "  'was',\n",
       "  'getting',\n",
       "  'into',\n",
       "  'mischief',\n",
       "  'of',\n",
       "  'some',\n",
       "  'kind',\n",
       "  '.'],\n",
       " ['He',\n",
       "  'heard',\n",
       "  'the',\n",
       "  'sweet',\n",
       "  'voices',\n",
       "  'of',\n",
       "  'happy',\n",
       "  'little',\n",
       "  'singers',\n",
       "  ',',\n",
       "  'and',\n",
       "  'they',\n",
       "  'were',\n",
       "  'good',\n",
       "  'to',\n",
       "  'hear',\n",
       "  '.'],\n",
       " ['But',\n",
       "  'most',\n",
       "  'of',\n",
       "  'all',\n",
       "  'he',\n",
       "  'listened',\n",
       "  'to',\n",
       "  'a',\n",
       "  'merry',\n",
       "  ',',\n",
       "  'low',\n",
       "  ',',\n",
       "  'silvery',\n",
       "  'laugh',\n",
       "  'that',\n",
       "  'never',\n",
       "  'stopped',\n",
       "  'but',\n",
       "  'went',\n",
       "  'on',\n",
       "  'and',\n",
       "  'on',\n",
       "  ',',\n",
       "  'until',\n",
       "  'he',\n",
       "  'just',\n",
       "  'felt',\n",
       "  'as',\n",
       "  'if',\n",
       "  'he',\n",
       "  'must',\n",
       "  'laugh',\n",
       "  'too',\n",
       "  '.'],\n",
       " ['It', 'was', 'the', 'voice', 'of', 'the', 'Laughing', 'Brook', '.'],\n",
       " ['And',\n",
       "  'as',\n",
       "  'Buster',\n",
       "  'listened',\n",
       "  'it',\n",
       "  'suddenly',\n",
       "  'came',\n",
       "  'to',\n",
       "  'him',\n",
       "  'just',\n",
       "  'what',\n",
       "  'he',\n",
       "  'wanted',\n",
       "  'for',\n",
       "  'breakfast',\n",
       "  '.']]"
      ]
     },
     "execution_count": 110,
     "metadata": {},
     "output_type": "execute_result"
    }
   ],
   "source": [
    "sents[1:20]"
   ]
  },
  {
   "cell_type": "code",
   "execution_count": 111,
   "metadata": {},
   "outputs": [],
   "source": [
    "import requests"
   ]
  },
  {
   "cell_type": "code",
   "execution_count": 112,
   "metadata": {},
   "outputs": [],
   "source": [
    "urlQuijote = 'http://www.gutenberg.org/cache/epub/2000/pg2000.txt'\n",
    "# supongamos que queresmo trabajr con el quijote y crear la relacion de datos (problema qu eplanteo en clase)"
   ]
  },
  {
   "cell_type": "code",
   "execution_count": 113,
   "metadata": {},
   "outputs": [],
   "source": [
    "contenidoQuijote = requests.get(urlQuijote)\n"
   ]
  },
  {
   "cell_type": "code",
   "execution_count": 114,
   "metadata": {},
   "outputs": [
    {
     "data": {
      "text/plain": [
       "requests.models.Response"
      ]
     },
     "execution_count": 114,
     "metadata": {},
     "output_type": "execute_result"
    }
   ],
   "source": [
    "type(contenidoQuijote)"
   ]
  },
  {
   "cell_type": "code",
   "execution_count": 115,
   "metadata": {},
   "outputs": [],
   "source": [
    "ficheroQuijote = open(\"Quijote.txt\",\"wb\")"
   ]
  },
  {
   "cell_type": "code",
   "execution_count": 116,
   "metadata": {},
   "outputs": [
    {
     "data": {
      "text/plain": [
       "2198936"
      ]
     },
     "execution_count": 116,
     "metadata": {},
     "output_type": "execute_result"
    }
   ],
   "source": [
    "ficheroQuijote.write(contenidoQuijote.content)"
   ]
  },
  {
   "cell_type": "code",
   "execution_count": 117,
   "metadata": {},
   "outputs": [],
   "source": [
    "ficheroQuijote.close()"
   ]
  },
  {
   "cell_type": "code",
   "execution_count": 118,
   "metadata": {},
   "outputs": [],
   "source": [
    "from nltk.corpus import PlaintextCorpusReader"
   ]
  },
  {
   "cell_type": "code",
   "execution_count": 119,
   "metadata": {},
   "outputs": [],
   "source": [
    "corpus_root = \".\""
   ]
  },
  {
   "cell_type": "code",
   "execution_count": 120,
   "metadata": {},
   "outputs": [],
   "source": [
    "libros = PlaintextCorpusReader(corpus_root,\".*\")"
   ]
  },
  {
   "cell_type": "code",
   "execution_count": 121,
   "metadata": {},
   "outputs": [
    {
     "data": {
      "text/plain": [
       "['.ipynb_checkpoints/NLTK - Capitulo 2-checkpoint.ipynb',\n",
       " 'NLTK - Capitulo 2.ipynb',\n",
       " 'Quijote.txt']"
      ]
     },
     "execution_count": 121,
     "metadata": {},
     "output_type": "execute_result"
    }
   ],
   "source": [
    "libros.fileids()"
   ]
  },
  {
   "cell_type": "code",
   "execution_count": 122,
   "metadata": {},
   "outputs": [],
   "source": [
    "palabrasQuijote = libros.words(\"Quijote.txt\")"
   ]
  },
  {
   "cell_type": "code",
   "execution_count": 123,
   "metadata": {},
   "outputs": [
    {
     "data": {
      "text/plain": [
       "448672"
      ]
     },
     "execution_count": 123,
     "metadata": {},
     "output_type": "execute_result"
    }
   ],
   "source": [
    "len(palabrasQuijote)"
   ]
  },
  {
   "cell_type": "code",
   "execution_count": 124,
   "metadata": {},
   "outputs": [
    {
     "data": {
      "text/plain": [
       "nltk.corpus.reader.util.StreamBackedCorpusView"
      ]
     },
     "execution_count": 124,
     "metadata": {},
     "output_type": "execute_result"
    }
   ],
   "source": [
    "type(palabrasQuijote)"
   ]
  },
  {
   "cell_type": "code",
   "execution_count": 125,
   "metadata": {},
   "outputs": [
    {
     "data": {
      "text/plain": [
       "['The',\n",
       " 'Project',\n",
       " 'Gutenberg',\n",
       " 'EBook',\n",
       " 'of',\n",
       " 'Don',\n",
       " 'Quijote',\n",
       " ',',\n",
       " 'by',\n",
       " 'Miguel',\n",
       " 'de',\n",
       " 'Cervantes',\n",
       " 'Saavedra',\n",
       " 'This',\n",
       " 'eBook',\n",
       " 'is',\n",
       " 'for',\n",
       " 'the',\n",
       " 'use',\n",
       " 'of']"
      ]
     },
     "execution_count": 125,
     "metadata": {},
     "output_type": "execute_result"
    }
   ],
   "source": [
    "palabrasQuijote[0:20]"
   ]
  },
  {
   "cell_type": "code",
   "execution_count": 126,
   "metadata": {},
   "outputs": [
    {
     "data": {
      "text/plain": [
       "['En',\n",
       " 'un',\n",
       " 'lugar',\n",
       " 'de',\n",
       " 'la',\n",
       " 'Mancha',\n",
       " ',',\n",
       " 'de',\n",
       " 'cuyo',\n",
       " 'nombre',\n",
       " 'no',\n",
       " 'quiero',\n",
       " 'acordarme',\n",
       " ',',\n",
       " 'no',\n",
       " 'ha',\n",
       " 'mucho',\n",
       " 'tiempo',\n",
       " 'que',\n",
       " 'vivía',\n",
       " 'un',\n",
       " 'hidalgo',\n",
       " 'de',\n",
       " 'los',\n",
       " 'de',\n",
       " 'lanza',\n",
       " 'en',\n",
       " 'astillero',\n",
       " ',',\n",
       " 'adarga',\n",
       " 'antigua',\n",
       " ',',\n",
       " 'rocín',\n",
       " 'flaco',\n",
       " 'y',\n",
       " 'galgo',\n",
       " 'corredor',\n",
       " '.',\n",
       " 'Una',\n",
       " 'olla',\n",
       " 'de',\n",
       " 'algo',\n",
       " 'más',\n",
       " 'vaca',\n",
       " 'que',\n",
       " 'carnero',\n",
       " ',',\n",
       " 'salpicón',\n",
       " 'las',\n",
       " 'más',\n",
       " 'noches',\n",
       " ',',\n",
       " 'duelos',\n",
       " 'y',\n",
       " 'quebrantos',\n",
       " 'los',\n",
       " 'sábados',\n",
       " ',',\n",
       " 'lantejas',\n",
       " 'los',\n",
       " 'viernes',\n",
       " ',',\n",
       " 'algún',\n",
       " 'palomino',\n",
       " 'de',\n",
       " 'añadidura',\n",
       " 'los',\n",
       " 'domingos',\n",
       " ',',\n",
       " 'consumían',\n",
       " 'las',\n",
       " 'tres',\n",
       " 'partes',\n",
       " 'de',\n",
       " 'su',\n",
       " 'hacienda',\n",
       " '.',\n",
       " 'El',\n",
       " 'resto',\n",
       " 'della',\n",
       " 'concluían']"
      ]
     },
     "execution_count": 126,
     "metadata": {},
     "output_type": "execute_result"
    }
   ],
   "source": [
    "palabrasQuijote[5619:5700]"
   ]
  },
  {
   "cell_type": "code",
   "execution_count": 127,
   "metadata": {},
   "outputs": [
    {
     "data": {
      "text/plain": [
       "2145"
      ]
     },
     "execution_count": 127,
     "metadata": {},
     "output_type": "execute_result"
    }
   ],
   "source": [
    "palabrasQuijote.count(\"Sancho\")\n",
    "# contar palabra sancho"
   ]
  },
  {
   "cell_type": "code",
   "execution_count": 128,
   "metadata": {},
   "outputs": [
    {
     "data": {
      "text/plain": [
       "2167"
      ]
     },
     "execution_count": 128,
     "metadata": {},
     "output_type": "execute_result"
    }
   ],
   "source": [
    "palabrasQuijote.count(\"Quijote\")"
   ]
  },
  {
   "cell_type": "code",
   "execution_count": 129,
   "metadata": {},
   "outputs": [],
   "source": [
    "textQuijote = nltk.Text(palabrasQuijote)\n",
    "# ahora lo comvertimos para concordancias"
   ]
  },
  {
   "cell_type": "code",
   "execution_count": 130,
   "metadata": {},
   "outputs": [
    {
     "name": "stdout",
     "output_type": "stream",
     "text": [
      "Displaying 12 of 12 matches:\n",
      " Lápice ; otros dicen que la de los molinos de viento ; pero , lo que yo he pod\n",
      "e y jamás imaginada aventura de los molinos de viento , con otros sucesos digno\n",
      "o , descubrieron treinta o cuarenta molinos de viento que hay en aquel campo ; \n",
      "í se parecen no son gigantes , sino molinos de viento , y lo que en ellos parec\n",
      "éndole que , sin duda alguna , eran molinos de viento , y no gigantes , aquello\n",
      "ien lo que hacía , que no eran sino molinos de viento , y no lo podía ignorar s\n",
      " libros ha vuelto estos gigantes en molinos por quitarme la gloria de su vencim\n",
      " poderío . - Peor será esto que los molinos de viento - dijo Sancho -. Mire , s\n",
      "ba y cogía pasaba por mi mano ; los molinos de aceite , los lagares de vino , e\n",
      "nos se atienen a la aventura de los molinos de viento , que a vuestra merced le\n",
      "como se pareció cuando dijo que los molinos de viento eran gigantes , y las mul\n",
      "sido tortas y pan pintado la de los molinos de viento y la temerosa de los bata\n"
     ]
    }
   ],
   "source": [
    "textQuijote.concordance(\"molinos\")\n",
    "# molino asociado a viento"
   ]
  },
  {
   "cell_type": "code",
   "execution_count": 131,
   "metadata": {},
   "outputs": [],
   "source": [
    "hermanos = [('hombre',2),('hombre',0),('hombre',3),('mujer',1),\n",
    "    ('hombre',4),('mujer',0),('mujer',2),('mujer',2),\n",
    "    ('hombre',0),('mujer',0),('hombre',1),('mujer',3),\n",
    "    ('mujer',0),('mujer',0),('hombre',1),('hombre',4),\n",
    "    ('hombre',0),('mujer',0),('hombre',2),('mujer',1)]\n",
    "# en un grupo de personas el sexo y la cantidad de hermanos"
   ]
  },
  {
   "cell_type": "code",
   "execution_count": 132,
   "metadata": {},
   "outputs": [
    {
     "data": {
      "text/plain": [
       "20"
      ]
     },
     "execution_count": 132,
     "metadata": {},
     "output_type": "execute_result"
    }
   ],
   "source": [
    "len(hermanos)"
   ]
  },
  {
   "cell_type": "code",
   "execution_count": 133,
   "metadata": {},
   "outputs": [
    {
     "data": {
      "text/plain": [
       "10"
      ]
     },
     "execution_count": 133,
     "metadata": {},
     "output_type": "execute_result"
    }
   ],
   "source": [
    "len([(s,m) for (s,m) in hermanos if s == 'mujer'])"
   ]
  },
  {
   "cell_type": "code",
   "execution_count": 134,
   "metadata": {},
   "outputs": [
    {
     "data": {
      "text/plain": [
       "10"
      ]
     },
     "execution_count": 134,
     "metadata": {},
     "output_type": "execute_result"
    }
   ],
   "source": [
    "len([(s,m) for (s,m) in hermanos if s == 'hombre'])"
   ]
  },
  {
   "cell_type": "code",
   "execution_count": 135,
   "metadata": {},
   "outputs": [],
   "source": [
    "hermanosGeneral = [m for (s,m) in hermanos]"
   ]
  },
  {
   "cell_type": "code",
   "execution_count": 136,
   "metadata": {},
   "outputs": [
    {
     "data": {
      "text/plain": [
       "[2, 0, 3, 1, 4, 0, 2, 2, 0, 0, 1, 3, 0, 0, 1, 4, 0, 0, 2, 1]"
      ]
     },
     "execution_count": 136,
     "metadata": {},
     "output_type": "execute_result"
    }
   ],
   "source": [
    "hermanosGeneral\n"
   ]
  },
  {
   "cell_type": "code",
   "execution_count": 137,
   "metadata": {},
   "outputs": [],
   "source": [
    "freqHermanosGeneral = nltk.FreqDist(hermanosGeneral)\n",
    "# distribucion general de freucencia"
   ]
  },
  {
   "cell_type": "code",
   "execution_count": 138,
   "metadata": {},
   "outputs": [
    {
     "data": {
      "text/plain": [
       "FreqDist({0: 8, 2: 4, 1: 4, 3: 2, 4: 2})"
      ]
     },
     "execution_count": 138,
     "metadata": {},
     "output_type": "execute_result"
    }
   ],
   "source": [
    "freqHermanosGeneral"
   ]
  },
  {
   "cell_type": "code",
   "execution_count": 139,
   "metadata": {},
   "outputs": [],
   "source": [
    "hermanosHombre = [m for (s,m) in hermanos if s == 'hombre']"
   ]
  },
  {
   "cell_type": "code",
   "execution_count": 140,
   "metadata": {},
   "outputs": [
    {
     "data": {
      "text/plain": [
       "[2, 0, 3, 4, 0, 1, 1, 4, 0, 2]"
      ]
     },
     "execution_count": 140,
     "metadata": {},
     "output_type": "execute_result"
    }
   ],
   "source": [
    "hermanosHombre\n",
    "# distribucion general de freucencia de hombres"
   ]
  },
  {
   "cell_type": "code",
   "execution_count": 141,
   "metadata": {},
   "outputs": [],
   "source": [
    "freqHermanosHombre = nltk.FreqDist(hermanosHombre)"
   ]
  },
  {
   "cell_type": "code",
   "execution_count": 142,
   "metadata": {},
   "outputs": [
    {
     "data": {
      "text/plain": [
       "FreqDist({0: 3, 2: 2, 4: 2, 1: 2, 3: 1})"
      ]
     },
     "execution_count": 142,
     "metadata": {},
     "output_type": "execute_result"
    }
   ],
   "source": [
    "freqHermanosHombre"
   ]
  },
  {
   "cell_type": "code",
   "execution_count": 143,
   "metadata": {},
   "outputs": [],
   "source": [
    "hermanosMujeres = [m for (s,m) in hermanos if s == 'mujer']"
   ]
  },
  {
   "cell_type": "code",
   "execution_count": 144,
   "metadata": {},
   "outputs": [
    {
     "data": {
      "text/plain": [
       "[1, 0, 2, 2, 0, 3, 0, 0, 0, 1]"
      ]
     },
     "execution_count": 144,
     "metadata": {},
     "output_type": "execute_result"
    }
   ],
   "source": [
    "hermanosMujeres\n",
    "# distribucion general de freucencia mujeres"
   ]
  },
  {
   "cell_type": "code",
   "execution_count": 145,
   "metadata": {},
   "outputs": [],
   "source": [
    "freqHermanosMujeres = nltk.FreqDist(hermanosMujeres)"
   ]
  },
  {
   "cell_type": "code",
   "execution_count": 146,
   "metadata": {},
   "outputs": [
    {
     "data": {
      "text/plain": [
       "FreqDist({0: 5, 1: 2, 2: 2, 3: 1})"
      ]
     },
     "execution_count": 146,
     "metadata": {},
     "output_type": "execute_result"
    }
   ],
   "source": [
    "freqHermanosMujeres"
   ]
  },
  {
   "cell_type": "code",
   "execution_count": 147,
   "metadata": {},
   "outputs": [],
   "source": [
    "freqHermanosCond = nltk.ConditionalFreqDist(hermanos)"
   ]
  },
  {
   "cell_type": "code",
   "execution_count": 148,
   "metadata": {},
   "outputs": [
    {
     "data": {
      "text/plain": [
       "<ConditionalFreqDist with 2 conditions>"
      ]
     },
     "execution_count": 148,
     "metadata": {},
     "output_type": "execute_result"
    }
   ],
   "source": [
    "freqHermanosCond\n",
    "# frecuencia condicional de hermanos"
   ]
  },
  {
   "cell_type": "code",
   "execution_count": 149,
   "metadata": {},
   "outputs": [
    {
     "name": "stdout",
     "output_type": "stream",
     "text": [
      "       0 1 2 3 4 \n",
      "hombre 3 2 2 1 2 \n",
      " mujer 5 2 2 1 0 \n"
     ]
    }
   ],
   "source": [
    "freqHermanosCond.tabulate()"
   ]
  },
  {
   "cell_type": "code",
   "execution_count": 150,
   "metadata": {},
   "outputs": [],
   "source": [
    "cfd = nltk.ConditionalFreqDist(\n",
    "        (genre,word)\n",
    "        for genre in brown.categories()\n",
    "        for word in brown.words(categories=genre))"
   ]
  },
  {
   "cell_type": "code",
   "execution_count": 151,
   "metadata": {},
   "outputs": [],
   "source": [
    "genre_word = [(genre,word)\n",
    "              for genre in [\"news\",\"romance\"]\n",
    "              for word in brown.words(categories=genre)]"
   ]
  },
  {
   "cell_type": "code",
   "execution_count": 152,
   "metadata": {},
   "outputs": [
    {
     "data": {
      "text/plain": [
       "170576"
      ]
     },
     "execution_count": 152,
     "metadata": {},
     "output_type": "execute_result"
    }
   ],
   "source": [
    "len(genre_word)"
   ]
  },
  {
   "cell_type": "code",
   "execution_count": 153,
   "metadata": {},
   "outputs": [
    {
     "data": {
      "text/plain": [
       "[('news', 'The'), ('news', 'Fulton'), ('news', 'County'), ('news', 'Grand')]"
      ]
     },
     "execution_count": 153,
     "metadata": {},
     "output_type": "execute_result"
    }
   ],
   "source": [
    "genre_word[:4]"
   ]
  },
  {
   "cell_type": "code",
   "execution_count": 154,
   "metadata": {},
   "outputs": [
    {
     "data": {
      "text/plain": [
       "[('romance', 'afraid'),\n",
       " ('romance', 'not'),\n",
       " ('romance', \"''\"),\n",
       " ('romance', '.')]"
      ]
     },
     "execution_count": 154,
     "metadata": {},
     "output_type": "execute_result"
    }
   ],
   "source": [
    "genre_word[-4:]"
   ]
  },
  {
   "cell_type": "code",
   "execution_count": 155,
   "metadata": {},
   "outputs": [],
   "source": [
    "cfd = nltk.ConditionalFreqDist(genre_word)"
   ]
  },
  {
   "cell_type": "code",
   "execution_count": 156,
   "metadata": {},
   "outputs": [
    {
     "data": {
      "text/plain": [
       "<ConditionalFreqDist with 2 conditions>"
      ]
     },
     "execution_count": 156,
     "metadata": {},
     "output_type": "execute_result"
    }
   ],
   "source": [
    "cfd"
   ]
  },
  {
   "cell_type": "code",
   "execution_count": 157,
   "metadata": {},
   "outputs": [
    {
     "data": {
      "text/plain": [
       "['news', 'romance']"
      ]
     },
     "execution_count": 157,
     "metadata": {},
     "output_type": "execute_result"
    }
   ],
   "source": [
    "cfd.conditions()"
   ]
  },
  {
   "cell_type": "code",
   "execution_count": 158,
   "metadata": {},
   "outputs": [
    {
     "name": "stdout",
     "output_type": "stream",
     "text": [
      "<FreqDist with 14394 samples and 100554 outcomes>\n"
     ]
    }
   ],
   "source": [
    "print(cfd[\"news\"])"
   ]
  },
  {
   "cell_type": "code",
   "execution_count": 159,
   "metadata": {},
   "outputs": [
    {
     "name": "stdout",
     "output_type": "stream",
     "text": [
      "<FreqDist with 8452 samples and 70022 outcomes>\n"
     ]
    }
   ],
   "source": [
    "print(cfd[\"romance\"])"
   ]
  },
  {
   "cell_type": "code",
   "execution_count": 160,
   "metadata": {},
   "outputs": [
    {
     "data": {
      "text/plain": [
       "[(',', 3899),\n",
       " ('.', 3736),\n",
       " ('the', 2758),\n",
       " ('and', 1776),\n",
       " ('to', 1502),\n",
       " ('a', 1335),\n",
       " ('of', 1186),\n",
       " ('``', 1045),\n",
       " (\"''\", 1044),\n",
       " ('was', 993),\n",
       " ('I', 951),\n",
       " ('in', 875),\n",
       " ('he', 702),\n",
       " ('had', 692),\n",
       " ('?', 690)]"
      ]
     },
     "execution_count": 160,
     "metadata": {},
     "output_type": "execute_result"
    }
   ],
   "source": [
    "cfd[\"romance\"].most_common(15)"
   ]
  },
  {
   "cell_type": "code",
   "execution_count": 161,
   "metadata": {},
   "outputs": [
    {
     "data": {
      "text/plain": [
       "193"
      ]
     },
     "execution_count": 161,
     "metadata": {},
     "output_type": "execute_result"
    }
   ],
   "source": [
    "cfd[\"romance\"][\"could\"]"
   ]
  },
  {
   "cell_type": "code",
   "execution_count": 162,
   "metadata": {},
   "outputs": [],
   "source": [
    "from nltk.corpus import inaugural"
   ]
  },
  {
   "cell_type": "code",
   "execution_count": 163,
   "metadata": {},
   "outputs": [],
   "source": [
    "cfd = nltk.ConditionalFreqDist(\n",
    "        (target, fileid[:4])\n",
    "        for fileid in inaugural.fileids()\n",
    "        for w in inaugural.words(fileid)\n",
    "        for target in [\"america\",\"citizen\"]\n",
    "        if w.lower().startswith(target))"
   ]
  },
  {
   "cell_type": "code",
   "execution_count": 164,
   "metadata": {},
   "outputs": [
    {
     "data": {
      "text/plain": [
       "<ConditionalFreqDist with 2 conditions>"
      ]
     },
     "execution_count": 164,
     "metadata": {},
     "output_type": "execute_result"
    }
   ],
   "source": [
    "cfd"
   ]
  },
  {
   "cell_type": "code",
   "execution_count": 165,
   "metadata": {},
   "outputs": [
    {
     "name": "stdout",
     "output_type": "stream",
     "text": [
      "        1789 1793 1797 1801 1805 1809 1813 1817 1821 1825 1829 1833 1837 1841 1845 1849 1853 1857 1861 1865 1869 1873 1877 1881 1885 1889 1893 1897 1901 1905 1909 1917 1921 1925 1929 1933 1937 1941 1945 1949 1953 1957 1961 1965 1969 1973 1977 1981 1985 1989 1993 1997 2001 2005 2009 2013 2017 2021 \n",
      "america    2    1    8    0    1    0    1    1    2    0    0    2    2    7    0    2    2    3    2    1    0    0    1    2    4    6    9    9    7    0   12    4   24   11   12    2    5   12    2    4    6    7    7   10   10   23    5   16   21   11   33   31   20   30   15   19   35   40 \n",
      "citizen    5    1    6    7   10    1    4   14   15    3    2    3    7   38   11    2    4    7    7    0    5    3    9    9   13   12   10   10    2    1    6    3    6    5   12    1    2    1    1    1    7    0    5    4    1    1    0    3    6    3    2   10   11    7    2    8    4    1 \n"
     ]
    }
   ],
   "source": [
    "cfd.tabulate()"
   ]
  },
  {
   "cell_type": "code",
   "execution_count": 166,
   "metadata": {},
   "outputs": [],
   "source": [
    "from nltk.corpus import udhr"
   ]
  },
  {
   "cell_type": "code",
   "execution_count": 167,
   "metadata": {},
   "outputs": [
    {
     "data": {
      "text/plain": [
       "['Abkhaz-Cyrillic+Abkh',\n",
       " 'Abkhaz-UTF8',\n",
       " 'Achehnese-Latin1',\n",
       " 'Achuar-Shiwiar-Latin1',\n",
       " 'Adja-UTF8',\n",
       " 'Afaan_Oromo_Oromiffa-Latin1',\n",
       " 'Afrikaans-Latin1',\n",
       " 'Aguaruna-Latin1',\n",
       " 'Akuapem_Twi-UTF8',\n",
       " 'Albanian_Shqip-Latin1',\n",
       " 'Amahuaca',\n",
       " 'Amahuaca-Latin1',\n",
       " 'Amarakaeri-Latin1',\n",
       " 'Amuesha-Yanesha-UTF8',\n",
       " 'Arabela-Latin1',\n",
       " 'Arabic_Alarabia-Arabic',\n",
       " 'Asante-UTF8',\n",
       " 'Ashaninca-Latin1',\n",
       " 'Asheninca-Latin1',\n",
       " 'Asturian_Bable-Latin1',\n",
       " 'Aymara-Latin1',\n",
       " 'Balinese-Latin1',\n",
       " 'Bambara-UTF8',\n",
       " 'Baoule-UTF8',\n",
       " 'Basque_Euskara-Latin1',\n",
       " 'Batonu_Bariba-UTF8',\n",
       " 'Belorus_Belaruski-Cyrillic',\n",
       " 'Belorus_Belaruski-UTF8',\n",
       " 'Bemba-Latin1',\n",
       " 'Bengali-UTF8',\n",
       " 'Beti-UTF8',\n",
       " 'Bichelamar-Latin1',\n",
       " 'Bikol_Bicolano-Latin1',\n",
       " 'Bora-Latin1',\n",
       " 'Bosnian_Bosanski-Cyrillic',\n",
       " 'Bosnian_Bosanski-Latin2',\n",
       " 'Bosnian_Bosanski-UTF8',\n",
       " 'Breton-Latin1',\n",
       " 'Bugisnese-Latin1',\n",
       " 'Bulgarian_Balgarski-Cyrillic',\n",
       " 'Bulgarian_Balgarski-UTF8',\n",
       " 'Cakchiquel-Latin1',\n",
       " 'Campa_Pajonalino-Latin1',\n",
       " 'Candoshi-Shapra-Latin1',\n",
       " 'Caquinte-Latin1',\n",
       " 'Cashibo-Cacataibo-Latin1',\n",
       " 'Cashinahua-Latin1',\n",
       " 'Catalan-Latin1',\n",
       " 'Catalan_Catala-Latin1',\n",
       " 'Cebuano-Latin1',\n",
       " 'Chamorro-Latin1',\n",
       " 'Chayahuita-Latin1',\n",
       " 'Chechewa_Nyanja-Latin1',\n",
       " 'Chickasaw-Latin1',\n",
       " 'Chinanteco-Ajitlan-Latin1',\n",
       " 'Chinanteco-UTF8',\n",
       " 'Chinese_Mandarin-GB2312',\n",
       " 'Chuuk_Trukese-Latin1',\n",
       " 'Cokwe-Latin1',\n",
       " 'Corsican-Latin1',\n",
       " 'Croatian_Hrvatski-Latin2',\n",
       " 'Czech-Latin2',\n",
       " 'Czech-UTF8',\n",
       " 'Czech_Cesky-Latin2',\n",
       " 'Czech_Cesky-UTF8',\n",
       " 'Dagaare-UTF8',\n",
       " 'Dagbani-UTF8',\n",
       " 'Dangme-UTF8',\n",
       " 'Danish_Dansk-Latin1',\n",
       " 'Dendi-UTF8',\n",
       " 'Ditammari-UTF8',\n",
       " 'Dutch_Nederlands-Latin1',\n",
       " 'Edo-Latin1',\n",
       " 'English-Latin1',\n",
       " 'Esperanto-UTF8',\n",
       " 'Estonian_Eesti-Latin1',\n",
       " 'Ewe_Eve-UTF8',\n",
       " 'Fante-UTF8',\n",
       " 'Faroese-Latin1',\n",
       " 'Farsi_Persian-UTF8',\n",
       " 'Farsi_Persian-v2-UTF8',\n",
       " 'Fijian-Latin1',\n",
       " 'Filipino_Tagalog-Latin1',\n",
       " 'Finnish_Suomi-Latin1',\n",
       " 'Fon-UTF8',\n",
       " 'French_Francais-Latin1',\n",
       " 'Frisian-Latin1',\n",
       " 'Friulian_Friulano-Latin1',\n",
       " 'Ga-UTF8',\n",
       " 'Gagauz_Gagauzi-UTF8',\n",
       " 'Galician_Galego-Latin1',\n",
       " 'Garifuna_Garifuna-Latin1',\n",
       " 'German_Deutsch-Latin1',\n",
       " 'Gonja-UTF8',\n",
       " 'Greek_Ellinika-Greek',\n",
       " 'Greek_Ellinika-UTF8',\n",
       " 'Greenlandic_Inuktikut-Latin1',\n",
       " 'Guarani-Latin1',\n",
       " 'Guen_Mina-UTF8',\n",
       " 'HaitianCreole_Kreyol-Latin1',\n",
       " 'HaitianCreole_Popular-Latin1',\n",
       " 'Hani-Latin1',\n",
       " 'Hausa_Haoussa-Latin1',\n",
       " 'Hawaiian-UTF8',\n",
       " 'Hebrew_Ivrit-Hebrew',\n",
       " 'Hebrew_Ivrit-UTF8',\n",
       " 'Hiligaynon-Latin1',\n",
       " 'Hindi-UTF8',\n",
       " 'Hindi_web-UTF8',\n",
       " 'Hmong_Miao-Sichuan-Guizhou-Yunnan-Latin1',\n",
       " 'Hmong_Miao-SouthernEast-Guizhou-Latin1',\n",
       " 'Hmong_Miao_Northern-East-Guizhou-Latin1',\n",
       " 'Hrvatski_Croatian-Latin2',\n",
       " 'Huasteco-Latin1',\n",
       " 'Huitoto_Murui-Latin1',\n",
       " 'Hungarian_Magyar-Latin1',\n",
       " 'Hungarian_Magyar-Latin2',\n",
       " 'Hungarian_Magyar-UTF8',\n",
       " 'Ibibio_Efik-Latin1',\n",
       " 'Icelandic_Yslenska-Latin1',\n",
       " 'Ido-Latin1',\n",
       " 'Igbo-UTF8',\n",
       " 'Iloko_Ilocano-Latin1',\n",
       " 'Indonesian-Latin1',\n",
       " 'Interlingua-Latin1',\n",
       " 'Inuktikut_Greenlandic-Latin1',\n",
       " 'IrishGaelic_Gaeilge-Latin1',\n",
       " 'Italian-Latin1',\n",
       " 'Italian_Italiano-Latin1',\n",
       " 'Japanese_Nihongo-EUC',\n",
       " 'Japanese_Nihongo-SJIS',\n",
       " 'Japanese_Nihongo-UTF8',\n",
       " 'Javanese-Latin1',\n",
       " 'Jola-Fogny_Diola-UTF8',\n",
       " 'Kabye-UTF8',\n",
       " 'Kannada-UTF8',\n",
       " 'Kaonde-Latin1',\n",
       " 'Kapampangan-Latin1',\n",
       " 'Kasem-UTF8',\n",
       " 'Kazakh-Cyrillic',\n",
       " 'Kazakh-UTF8',\n",
       " 'Kiche_Quiche-Latin1',\n",
       " 'Kicongo-Latin1',\n",
       " 'Kimbundu_Mbundu-Latin1',\n",
       " 'Kinyamwezi_Nyamwezi-Latin1',\n",
       " 'Kinyarwanda-Latin1',\n",
       " 'Kituba-Latin1',\n",
       " 'Korean_Hankuko-UTF8',\n",
       " 'Kpelewo-UTF8',\n",
       " 'Krio-UTF8',\n",
       " 'Kurdish-UTF8',\n",
       " 'Lamnso_Lam-nso-UTF8',\n",
       " 'Latin_Latina-Latin1',\n",
       " 'Latin_Latina-v2-Latin1',\n",
       " 'Latvian-Latin1',\n",
       " 'Limba-UTF8',\n",
       " 'Lingala-Latin1',\n",
       " 'Lithuanian_Lietuviskai-Baltic',\n",
       " 'Lozi-Latin1',\n",
       " 'Luba-Kasai_Tshiluba-Latin1',\n",
       " 'Luganda_Ganda-Latin1',\n",
       " 'Lunda_Chokwe-lunda-Latin1',\n",
       " 'Luvale-Latin1',\n",
       " 'Luxembourgish_Letzebuergeusch-Latin1',\n",
       " 'Macedonian-UTF8',\n",
       " 'Madurese-Latin1',\n",
       " 'Makonde-Latin1',\n",
       " 'Malagasy-Latin1',\n",
       " 'Malay_BahasaMelayu-Latin1',\n",
       " 'Maltese-UTF8',\n",
       " 'Mam-Latin1',\n",
       " 'Maninka-UTF8',\n",
       " 'Maori-Latin1',\n",
       " 'Mapudungun_Mapuzgun-Latin1',\n",
       " 'Mapudungun_Mapuzgun-UTF8',\n",
       " 'Marshallese-Latin1',\n",
       " 'Matses-Latin1',\n",
       " 'Mayan_Yucateco-Latin1',\n",
       " 'Mazahua_Jnatrjo-UTF8',\n",
       " 'Mazateco-Latin1',\n",
       " 'Mende-UTF8',\n",
       " 'Mikmaq_Micmac-Mikmaq-Latin1',\n",
       " 'Minangkabau-Latin1',\n",
       " 'Miskito_Miskito-Latin1',\n",
       " 'Mixteco-Latin1',\n",
       " 'Mongolian_Khalkha-Cyrillic',\n",
       " 'Mongolian_Khalkha-UTF8',\n",
       " 'Moore_More-UTF8',\n",
       " 'Nahuatl-Latin1',\n",
       " 'Ndebele-Latin1',\n",
       " 'Nepali-UTF8',\n",
       " 'Ngangela_Nyemba-Latin1',\n",
       " 'NigerianPidginEnglish-Latin1',\n",
       " 'Nomatsiguenga-Latin1',\n",
       " 'NorthernSotho_Pedi-Sepedi-Latin1',\n",
       " 'Norwegian-Latin1',\n",
       " 'Norwegian_Norsk-Bokmal-Latin1',\n",
       " 'Norwegian_Norsk-Nynorsk-Latin1',\n",
       " 'Nyanja_Chechewa-Latin1',\n",
       " 'Nyanja_Chinyanja-Latin1',\n",
       " 'Nzema-UTF8',\n",
       " 'OccitanAuvergnat-Latin1',\n",
       " 'OccitanLanguedocien-Latin1',\n",
       " 'Oromiffa_AfaanOromo-Latin1',\n",
       " 'Osetin_Ossetian-UTF8',\n",
       " 'Oshiwambo_Ndonga-Latin1',\n",
       " 'Otomi_Nahnu-Latin1',\n",
       " 'Paez-Latin1',\n",
       " 'Palauan-Latin1',\n",
       " 'Peuhl-UTF8',\n",
       " 'Picard-Latin1',\n",
       " 'Pipil-Latin1',\n",
       " 'Polish-Latin2',\n",
       " 'Polish_Polski-Latin2',\n",
       " 'Ponapean-Latin1',\n",
       " 'Portuguese_Portugues-Latin1',\n",
       " 'Pulaar-UTF8',\n",
       " 'Punjabi_Panjabi-UTF8',\n",
       " 'Purhepecha-UTF8',\n",
       " 'Qechi_Kekchi-Latin1',\n",
       " 'Quechua-Latin1',\n",
       " 'Quichua-Latin1',\n",
       " 'Rarotongan_MaoriCookIslands-Latin1',\n",
       " 'Rhaeto-Romance_Rumantsch-Latin1',\n",
       " 'Romani-Latin1',\n",
       " 'Romani-UTF8',\n",
       " 'Romanian-Latin2',\n",
       " 'Romanian_Romana-Latin2',\n",
       " 'Rukonzo_Konjo-Latin1',\n",
       " 'Rundi_Kirundi-Latin1',\n",
       " 'Runyankore-rukiga_Nkore-kiga-Latin1',\n",
       " 'Russian-Cyrillic',\n",
       " 'Russian-UTF8',\n",
       " 'Russian_Russky-Cyrillic',\n",
       " 'Russian_Russky-UTF8',\n",
       " 'Sami_Lappish-UTF8',\n",
       " 'Sammarinese-Latin1',\n",
       " 'Samoan-Latin1',\n",
       " 'Sango_Sangho-Latin1',\n",
       " 'Sanskrit-UTF8',\n",
       " 'Saraiki-UTF8',\n",
       " 'Sardinian-Latin1',\n",
       " 'ScottishGaelic_GaidhligAlbanach-Latin1',\n",
       " 'Seereer-UTF8',\n",
       " 'Serbian_Srpski-Cyrillic',\n",
       " 'Serbian_Srpski-Latin2',\n",
       " 'Serbian_Srpski-UTF8',\n",
       " 'Sharanahua-Latin1',\n",
       " 'Shipibo-Conibo-Latin1',\n",
       " 'Shona-Latin1',\n",
       " 'Sinhala-UTF8',\n",
       " 'Siswati-Latin1',\n",
       " 'Slovak-Latin2',\n",
       " 'Slovak_Slovencina-Latin2',\n",
       " 'Slovenian_Slovenscina-Latin2',\n",
       " 'SolomonsPidgin_Pijin-Latin1',\n",
       " 'Somali-Latin1',\n",
       " 'Soninke_Soninkanxaane-UTF8',\n",
       " 'Sorbian-Latin2',\n",
       " 'SouthernSotho_Sotho-Sesotho-Sutu-Sesutu-Latin1',\n",
       " 'Spanish-Latin1',\n",
       " 'Spanish_Espanol-Latin1',\n",
       " 'Sukuma-Latin1',\n",
       " 'Sundanese-Latin1',\n",
       " 'Sussu_Soussou-Sosso-Soso-Susu-UTF8',\n",
       " 'Swaheli-Latin1',\n",
       " 'Swahili_Kiswahili-Latin1',\n",
       " 'Swedish_Svenska-Latin1',\n",
       " 'Tahitian-UTF8',\n",
       " 'Tenek_Huasteco-Latin1',\n",
       " 'Tetum-Latin1',\n",
       " 'Themne_Temne-UTF8',\n",
       " 'Tiv-Latin1',\n",
       " 'Toba-UTF8',\n",
       " 'Tojol-abal-Latin1',\n",
       " 'TokPisin-Latin1',\n",
       " 'Tonga-Latin1',\n",
       " 'Tongan_Tonga-Latin1',\n",
       " 'Totonaco-Latin1',\n",
       " 'Trukese_Chuuk-Latin1',\n",
       " 'Turkish_Turkce-Turkish',\n",
       " 'Turkish_Turkce-UTF8',\n",
       " 'Tzeltal-Latin1',\n",
       " 'Tzotzil-Latin1',\n",
       " 'Uighur_Uyghur-Latin1',\n",
       " 'Uighur_Uyghur-UTF8',\n",
       " 'Ukrainian-Cyrillic',\n",
       " 'Ukrainian-UTF8',\n",
       " 'Umbundu-Latin1',\n",
       " 'Urarina-Latin1',\n",
       " 'Uzbek-Latin1',\n",
       " 'Vietnamese-ALRN-UTF8',\n",
       " 'Vietnamese-UTF8',\n",
       " 'Vlach-Latin1',\n",
       " 'Walloon_Wallon-Latin1',\n",
       " 'Wama-UTF8',\n",
       " 'Waray-Latin1',\n",
       " 'Wayuu-Latin1',\n",
       " 'Welsh_Cymraeg-Latin1',\n",
       " 'WesternSotho_Tswana-Setswana-Latin1',\n",
       " 'Wolof-Latin1',\n",
       " 'Xhosa-Latin1',\n",
       " 'Yagua-Latin1',\n",
       " 'Yao-Latin1',\n",
       " 'Yapese-Latin1',\n",
       " 'Yoruba-UTF8',\n",
       " 'Zapoteco-Latin1',\n",
       " 'Zapoteco-SanLucasQuiavini-Latin1',\n",
       " 'Zhuang-Latin1',\n",
       " 'Zulu-Latin1']"
      ]
     },
     "execution_count": 167,
     "metadata": {},
     "output_type": "execute_result"
    }
   ],
   "source": [
    "udhr.fileids()"
   ]
  },
  {
   "cell_type": "code",
   "execution_count": 168,
   "metadata": {},
   "outputs": [],
   "source": [
    "languages = ['Spanish', 'English']"
   ]
  },
  {
   "cell_type": "code",
   "execution_count": 169,
   "metadata": {},
   "outputs": [
    {
     "data": {
      "text/plain": [
       "310"
      ]
     },
     "execution_count": 169,
     "metadata": {},
     "output_type": "execute_result"
    }
   ],
   "source": [
    "len(udhr.fileids())\n",
    "# declaracion de derechos humanos traducida bien a varios idiomas"
   ]
  },
  {
   "cell_type": "code",
   "execution_count": 170,
   "metadata": {},
   "outputs": [
    {
     "data": {
      "text/plain": [
       "9999"
      ]
     },
     "execution_count": 170,
     "metadata": {},
     "output_type": "execute_result"
    }
   ],
   "source": [
    "len(udhr.raw('Spanish-Latin1'))"
   ]
  },
  {
   "cell_type": "code",
   "execution_count": null,
   "metadata": {},
   "outputs": [],
   "source": []
  },
  {
   "cell_type": "code",
   "execution_count": 171,
   "metadata": {},
   "outputs": [
    {
     "data": {
      "text/plain": [
       "['Spanish', 'English']"
      ]
     },
     "execution_count": 171,
     "metadata": {},
     "output_type": "execute_result"
    }
   ],
   "source": [
    "languages"
   ]
  },
  {
   "cell_type": "code",
   "execution_count": 172,
   "metadata": {},
   "outputs": [
    {
     "data": {
      "text/plain": [
       "[('Spanish', 11),\n",
       " ('Spanish', 9),\n",
       " ('Spanish', 2),\n",
       " ('Spanish', 8),\n",
       " ('Spanish', 7),\n",
       " ('Spanish', 8),\n",
       " ('Spanish', 1),\n",
       " ('Spanish', 10),\n",
       " ('Spanish', 3),\n",
       " ('Spanish', 2),\n",
       " ('Spanish', 8),\n",
       " ('Spanish', 7),\n",
       " ('Spanish', 2),\n",
       " ('Spanish', 2),\n",
       " ('Spanish', 10),\n",
       " ('Spanish', 3),\n",
       " ('Spanish', 1),\n",
       " ('Spanish', 1),\n",
       " ('Spanish', 3),\n",
       " ('Spanish', 2),\n",
       " ('Spanish', 2),\n",
       " ('Spanish', 2),\n",
       " ('Spanish', 2),\n",
       " ('Spanish', 9),\n",
       " ('Spanish', 2),\n",
       " ('Spanish', 4),\n",
       " ('Spanish', 9),\n",
       " ('Spanish', 12),\n",
       " ('Spanish', 3),\n",
       " ('Spanish', 2),\n",
       " ('Spanish', 8),\n",
       " ('Spanish', 1),\n",
       " ('Spanish', 2),\n",
       " ('Spanish', 8),\n",
       " ('Spanish', 1),\n",
       " ('Spanish', 2),\n",
       " ('Spanish', 3),\n",
       " ('Spanish', 2),\n",
       " ('Spanish', 2),\n",
       " ('Spanish', 5),\n",
       " ('Spanish', 6),\n",
       " ('Spanish', 3),\n",
       " ('Spanish', 4),\n",
       " ('Spanish', 2),\n",
       " ('Spanish', 14),\n",
       " ('Spanish', 2),\n",
       " ('Spanish', 2),\n",
       " ('Spanish', 8),\n",
       " ('Spanish', 10),\n",
       " ('Spanish', 1),\n",
       " ('Spanish', 2),\n",
       " ('Spanish', 3),\n",
       " ('Spanish', 8),\n",
       " ('Spanish', 7),\n",
       " ('Spanish', 1),\n",
       " ('Spanish', 12),\n",
       " ('Spanish', 2),\n",
       " ('Spanish', 5),\n",
       " ('Spanish', 3),\n",
       " ('Spanish', 8),\n",
       " ('Spanish', 2),\n",
       " ('Spanish', 2),\n",
       " ('Spanish', 7),\n",
       " ('Spanish', 6),\n",
       " ('Spanish', 1),\n",
       " ('Spanish', 12),\n",
       " ('Spanish', 3),\n",
       " ('Spanish', 2),\n",
       " ('Spanish', 15),\n",
       " ('Spanish', 1),\n",
       " ('Spanish', 2),\n",
       " ('Spanish', 11),\n",
       " ('Spanish', 2),\n",
       " ('Spanish', 3),\n",
       " ('Spanish', 8),\n",
       " ('Spanish', 7),\n",
       " ('Spanish', 3),\n",
       " ('Spanish', 9),\n",
       " ('Spanish', 5),\n",
       " ('Spanish', 2),\n",
       " ('Spanish', 8),\n",
       " ('Spanish', 11),\n",
       " ('Spanish', 4),\n",
       " ('Spanish', 2),\n",
       " ('Spanish', 10),\n",
       " ('Spanish', 2),\n",
       " ('Spanish', 2),\n",
       " ('Spanish', 9),\n",
       " ('Spanish', 1),\n",
       " ('Spanish', 1),\n",
       " ('Spanish', 3),\n",
       " ('Spanish', 2),\n",
       " ('Spanish', 2),\n",
       " ('Spanish', 10),\n",
       " ('Spanish', 1),\n",
       " ('Spanish', 4),\n",
       " ('Spanish', 2),\n",
       " ('Spanish', 10),\n",
       " ('Spanish', 3),\n",
       " ('Spanish', 7),\n",
       " ('Spanish', 3),\n",
       " ('Spanish', 6),\n",
       " ('Spanish', 1),\n",
       " ('Spanish', 2),\n",
       " ('Spanish', 12),\n",
       " ('Spanish', 2),\n",
       " ('Spanish', 2),\n",
       " ('Spanish', 5),\n",
       " ('Spanish', 2),\n",
       " ('Spanish', 3),\n",
       " ('Spanish', 3),\n",
       " ('Spanish', 5),\n",
       " ('Spanish', 7),\n",
       " ('Spanish', 1),\n",
       " ('Spanish', 9),\n",
       " ('Spanish', 3),\n",
       " ('Spanish', 5),\n",
       " ('Spanish', 1),\n",
       " ('Spanish', 2),\n",
       " ('Spanish', 2),\n",
       " ('Spanish', 7),\n",
       " ('Spanish', 1),\n",
       " ('Spanish', 9),\n",
       " ('Spanish', 2),\n",
       " ('Spanish', 2),\n",
       " ('Spanish', 8),\n",
       " ('Spanish', 2),\n",
       " ('Spanish', 7),\n",
       " ('Spanish', 1),\n",
       " ('Spanish', 2),\n",
       " ('Spanish', 2),\n",
       " ('Spanish', 8),\n",
       " ('Spanish', 2),\n",
       " ('Spanish', 9),\n",
       " ('Spanish', 1),\n",
       " ('Spanish', 12),\n",
       " ('Spanish', 8),\n",
       " ('Spanish', 3),\n",
       " ('Spanish', 3),\n",
       " ('Spanish', 8),\n",
       " ('Spanish', 7),\n",
       " ('Spanish', 4),\n",
       " ('Spanish', 10),\n",
       " ('Spanish', 3),\n",
       " ('Spanish', 2),\n",
       " ('Spanish', 7),\n",
       " ('Spanish', 2),\n",
       " ('Spanish', 7),\n",
       " ('Spanish', 1),\n",
       " ('Spanish', 1),\n",
       " ('Spanish', 3),\n",
       " ('Spanish', 2),\n",
       " ('Spanish', 3),\n",
       " ('Spanish', 2),\n",
       " ('Spanish', 6),\n",
       " ('Spanish', 2),\n",
       " ('Spanish', 2),\n",
       " ('Spanish', 3),\n",
       " ('Spanish', 9),\n",
       " ('Spanish', 2),\n",
       " ('Spanish', 7),\n",
       " ('Spanish', 7),\n",
       " ('Spanish', 2),\n",
       " ('Spanish', 2),\n",
       " ('Spanish', 8),\n",
       " ('Spanish', 6),\n",
       " ('Spanish', 2),\n",
       " ('Spanish', 7),\n",
       " ('Spanish', 1),\n",
       " ('Spanish', 2),\n",
       " ('Spanish', 8),\n",
       " ('Spanish', 1),\n",
       " ('Spanish', 12),\n",
       " ('Spanish', 7),\n",
       " ('Spanish', 8),\n",
       " ('Spanish', 8),\n",
       " ('Spanish', 2),\n",
       " ('Spanish', 10),\n",
       " ('Spanish', 2),\n",
       " ('Spanish', 10),\n",
       " ('Spanish', 9),\n",
       " ('Spanish', 5),\n",
       " ('Spanish', 3),\n",
       " ('Spanish', 8),\n",
       " ('Spanish', 1),\n",
       " ('Spanish', 12),\n",
       " ('Spanish', 3),\n",
       " ('Spanish', 3),\n",
       " ('Spanish', 7),\n",
       " ('Spanish', 2),\n",
       " ('Spanish', 3),\n",
       " ('Spanish', 8),\n",
       " ('Spanish', 6),\n",
       " ('Spanish', 3),\n",
       " ('Spanish', 10),\n",
       " ('Spanish', 2),\n",
       " ('Spanish', 2),\n",
       " ('Spanish', 5),\n",
       " ('Spanish', 2),\n",
       " ('Spanish', 2),\n",
       " ('Spanish', 2),\n",
       " ('Spanish', 3),\n",
       " ('Spanish', 8),\n",
       " ('Spanish', 13),\n",
       " ('Spanish', 3),\n",
       " ('Spanish', 6),\n",
       " ('Spanish', 1),\n",
       " ('Spanish', 2),\n",
       " ('Spanish', 2),\n",
       " ('Spanish', 8),\n",
       " ('Spanish', 1),\n",
       " ('Spanish', 2),\n",
       " ('Spanish', 5),\n",
       " ('Spanish', 2),\n",
       " ('Spanish', 2),\n",
       " ('Spanish', 7),\n",
       " ('Spanish', 6),\n",
       " ('Spanish', 1),\n",
       " ('Spanish', 2),\n",
       " ('Spanish', 2),\n",
       " ('Spanish', 8),\n",
       " ('Spanish', 2),\n",
       " ('Spanish', 8),\n",
       " ('Spanish', 2),\n",
       " ('Spanish', 7),\n",
       " ('Spanish', 1),\n",
       " ('Spanish', 7),\n",
       " ('Spanish', 1),\n",
       " ('Spanish', 1),\n",
       " ('Spanish', 2),\n",
       " ('Spanish', 3),\n",
       " ('Spanish', 9),\n",
       " ('Spanish', 9),\n",
       " ('Spanish', 1),\n",
       " ('Spanish', 8),\n",
       " ('Spanish', 2),\n",
       " ('Spanish', 8),\n",
       " ('Spanish', 6),\n",
       " ('Spanish', 1),\n",
       " ('Spanish', 1),\n",
       " ('Spanish', 6),\n",
       " ('Spanish', 2),\n",
       " ('Spanish', 5),\n",
       " ('Spanish', 2),\n",
       " ('Spanish', 4),\n",
       " ('Spanish', 6),\n",
       " ('Spanish', 2),\n",
       " ('Spanish', 2),\n",
       " ('Spanish', 8),\n",
       " ('Spanish', 3),\n",
       " ('Spanish', 6),\n",
       " ('Spanish', 2),\n",
       " ('Spanish', 2),\n",
       " ('Spanish', 8),\n",
       " ('Spanish', 1),\n",
       " ('Spanish', 12),\n",
       " ('Spanish', 3),\n",
       " ('Spanish', 3),\n",
       " ('Spanish', 7),\n",
       " ('Spanish', 8),\n",
       " ('Spanish', 2),\n",
       " ('Spanish', 3),\n",
       " ('Spanish', 12),\n",
       " ('Spanish', 1),\n",
       " ('Spanish', 8),\n",
       " ('Spanish', 1),\n",
       " ('Spanish', 2),\n",
       " ('Spanish', 11),\n",
       " ('Spanish', 3),\n",
       " ('Spanish', 2),\n",
       " ('Spanish', 12),\n",
       " ('Spanish', 2),\n",
       " ('Spanish', 3),\n",
       " ('Spanish', 8),\n",
       " ('Spanish', 6),\n",
       " ('Spanish', 1),\n",
       " ('Spanish', 2),\n",
       " ('Spanish', 7),\n",
       " ('Spanish', 9),\n",
       " ('Spanish', 1),\n",
       " ('Spanish', 8),\n",
       " ('Spanish', 1),\n",
       " ('Spanish', 3),\n",
       " ('Spanish', 8),\n",
       " ('Spanish', 1),\n",
       " ('Spanish', 10),\n",
       " ('Spanish', 13),\n",
       " ('Spanish', 3),\n",
       " ('Spanish', 6),\n",
       " ('Spanish', 1),\n",
       " ('Spanish', 1),\n",
       " ('Spanish', 12),\n",
       " ('Spanish', 3),\n",
       " ('Spanish', 3),\n",
       " ('Spanish', 10),\n",
       " ('Spanish', 5),\n",
       " ('Spanish', 2),\n",
       " ('Spanish', 5),\n",
       " ('Spanish', 8),\n",
       " ('Spanish', 1),\n",
       " ('Spanish', 10),\n",
       " ('Spanish', 2),\n",
       " ('Spanish', 2),\n",
       " ('Spanish', 2),\n",
       " ('Spanish', 5),\n",
       " ('Spanish', 11),\n",
       " ('Spanish', 4),\n",
       " ('Spanish', 2),\n",
       " ('Spanish', 5),\n",
       " ('Spanish', 12),\n",
       " ('Spanish', 2),\n",
       " ('Spanish', 5),\n",
       " ('Spanish', 10),\n",
       " ('Spanish', 1),\n",
       " ('Spanish', 2),\n",
       " ('Spanish', 8),\n",
       " ('Spanish', 7),\n",
       " ('Spanish', 8),\n",
       " ('Spanish', 2),\n",
       " ('Spanish', 8),\n",
       " ('Spanish', 11),\n",
       " ('Spanish', 9),\n",
       " ('Spanish', 2),\n",
       " ('Spanish', 8),\n",
       " ('Spanish', 7),\n",
       " ('Spanish', 4),\n",
       " ('Spanish', 5),\n",
       " ('Spanish', 5),\n",
       " ('Spanish', 3),\n",
       " ('Spanish', 2),\n",
       " ('Spanish', 3),\n",
       " ('Spanish', 5),\n",
       " ('Spanish', 3),\n",
       " ('Spanish', 7),\n",
       " ('Spanish', 1),\n",
       " ('Spanish', 8),\n",
       " ('Spanish', 5),\n",
       " ('Spanish', 10),\n",
       " ('Spanish', 1),\n",
       " ('Spanish', 1),\n",
       " ('Spanish', 3),\n",
       " ('Spanish', 2),\n",
       " ('Spanish', 3),\n",
       " ('Spanish', 5),\n",
       " ('Spanish', 3),\n",
       " ('Spanish', 10),\n",
       " ('Spanish', 4),\n",
       " ('Spanish', 3),\n",
       " ('Spanish', 13),\n",
       " ('Spanish', 1),\n",
       " ('Spanish', 12),\n",
       " ('Spanish', 14),\n",
       " ('Spanish', 2),\n",
       " ('Spanish', 4),\n",
       " ('Spanish', 1),\n",
       " ('Spanish', 9),\n",
       " ('Spanish', 1),\n",
       " ('Spanish', 8),\n",
       " ('Spanish', 2),\n",
       " ('Spanish', 9),\n",
       " ('Spanish', 1),\n",
       " ('Spanish', 2),\n",
       " ('Spanish', 9),\n",
       " ('Spanish', 1),\n",
       " ('Spanish', 2),\n",
       " ('Spanish', 7),\n",
       " ('Spanish', 1),\n",
       " ('Spanish', 5),\n",
       " ('Spanish', 8),\n",
       " ('Spanish', 1),\n",
       " ('Spanish', 10),\n",
       " ('Spanish', 1),\n",
       " ('Spanish', 1),\n",
       " ('Spanish', 8),\n",
       " ('Spanish', 1),\n",
       " ('Spanish', 3),\n",
       " ('Spanish', 7),\n",
       " ('Spanish', 11),\n",
       " ('Spanish', 2),\n",
       " ('Spanish', 8),\n",
       " ('Spanish', 8),\n",
       " ('Spanish', 1),\n",
       " ('Spanish', 13),\n",
       " ('Spanish', 1),\n",
       " ('Spanish', 2),\n",
       " ('Spanish', 14),\n",
       " ('Spanish', 1),\n",
       " ('Spanish', 10),\n",
       " ('Spanish', 11),\n",
       " ('Spanish', 1),\n",
       " ('Spanish', 9),\n",
       " ('Spanish', 1),\n",
       " ('Spanish', 5),\n",
       " ('Spanish', 5),\n",
       " ('Spanish', 3),\n",
       " ('Spanish', 7),\n",
       " ('Spanish', 2),\n",
       " ('Spanish', 3),\n",
       " ('Spanish', 7),\n",
       " ('Spanish', 8),\n",
       " ('Spanish', 4),\n",
       " ('Spanish', 5),\n",
       " ('Spanish', 3),\n",
       " ('Spanish', 2),\n",
       " ('Spanish', 3),\n",
       " ('Spanish', 11),\n",
       " ('Spanish', 9),\n",
       " ('Spanish', 4),\n",
       " ('Spanish', 2),\n",
       " ('Spanish', 12),\n",
       " ('Spanish', 1),\n",
       " ('Spanish', 8),\n",
       " ('Spanish', 1),\n",
       " ('Spanish', 5),\n",
       " ('Spanish', 3),\n",
       " ('Spanish', 5),\n",
       " ('Spanish', 7),\n",
       " ('Spanish', 5),\n",
       " ('Spanish', 6),\n",
       " ('Spanish', 1),\n",
       " ('Spanish', 7),\n",
       " ('Spanish', 2),\n",
       " ('Spanish', 8),\n",
       " ('Spanish', 1),\n",
       " ('Spanish', 8),\n",
       " ('Spanish', 1),\n",
       " ('Spanish', 1),\n",
       " ('Spanish', 7),\n",
       " ('Spanish', 4),\n",
       " ('Spanish', 5),\n",
       " ('Spanish', 2),\n",
       " ('Spanish', 5),\n",
       " ('Spanish', 1),\n",
       " ('Spanish', 10),\n",
       " ('Spanish', 1),\n",
       " ('Spanish', 5),\n",
       " ('Spanish', 11),\n",
       " ('Spanish', 14),\n",
       " ('Spanish', 3),\n",
       " ('Spanish', 4),\n",
       " ('Spanish', 3),\n",
       " ('Spanish', 3),\n",
       " ('Spanish', 5),\n",
       " ('Spanish', 1),\n",
       " ('Spanish', 8),\n",
       " ('Spanish', 1),\n",
       " ('Spanish', 4),\n",
       " ('Spanish', 7),\n",
       " ('Spanish', 5),\n",
       " ('Spanish', 3),\n",
       " ('Spanish', 8),\n",
       " ('Spanish', 1),\n",
       " ('Spanish', 10),\n",
       " ('Spanish', 11),\n",
       " ('Spanish', 2),\n",
       " ('Spanish', 4),\n",
       " ('Spanish', 11),\n",
       " ('Spanish', 1),\n",
       " ('Spanish', 3),\n",
       " ('Spanish', 10),\n",
       " ('Spanish', 6),\n",
       " ('Spanish', 2),\n",
       " ('Spanish', 4),\n",
       " ('Spanish', 1),\n",
       " ('Spanish', 5),\n",
       " ('Spanish', 1),\n",
       " ('Spanish', 4),\n",
       " ('Spanish', 1),\n",
       " ('Spanish', 6),\n",
       " ('Spanish', 1),\n",
       " ('Spanish', 8),\n",
       " ('Spanish', 1),\n",
       " ('Spanish', 7),\n",
       " ('Spanish', 8),\n",
       " ('Spanish', 1),\n",
       " ('Spanish', 2),\n",
       " ('Spanish', 9),\n",
       " ('Spanish', 4),\n",
       " ('Spanish', 6),\n",
       " ('Spanish', 1),\n",
       " ('Spanish', 6),\n",
       " ('Spanish', 8),\n",
       " ('Spanish', 1),\n",
       " ('Spanish', 6),\n",
       " ('Spanish', 1),\n",
       " ('Spanish', 8),\n",
       " ('Spanish', 9),\n",
       " ('Spanish', 1),\n",
       " ('Spanish', 10),\n",
       " ('Spanish', 1),\n",
       " ('Spanish', 9),\n",
       " ('Spanish', 4),\n",
       " ('Spanish', 9),\n",
       " ('Spanish', 1),\n",
       " ('Spanish', 6),\n",
       " ('Spanish', 1),\n",
       " ('Spanish', 2),\n",
       " ('Spanish', 2),\n",
       " ('Spanish', 4),\n",
       " ('Spanish', 10),\n",
       " ('Spanish', 6),\n",
       " ('Spanish', 7),\n",
       " ('Spanish', 2),\n",
       " ('Spanish', 2),\n",
       " ('Spanish', 9),\n",
       " ('Spanish', 8),\n",
       " ('Spanish', 1),\n",
       " ('Spanish', 8),\n",
       " ('Spanish', 1),\n",
       " ('Spanish', 13),\n",
       " ('Spanish', 3),\n",
       " ('Spanish', 4),\n",
       " ('Spanish', 1),\n",
       " ('Spanish', 10),\n",
       " ('Spanish', 2),\n",
       " ('Spanish', 4),\n",
       " ('Spanish', 12),\n",
       " ('Spanish', 7),\n",
       " ('Spanish', 3),\n",
       " ('Spanish', 7),\n",
       " ('Spanish', 1),\n",
       " ('Spanish', 5),\n",
       " ('Spanish', 2),\n",
       " ('Spanish', 2),\n",
       " ('Spanish', 5),\n",
       " ('Spanish', 2),\n",
       " ('Spanish', 2),\n",
       " ('Spanish', 4),\n",
       " ('Spanish', 13),\n",
       " ('Spanish', 1),\n",
       " ('Spanish', 4),\n",
       " ('Spanish', 2),\n",
       " ('Spanish', 2),\n",
       " ('Spanish', 10),\n",
       " ('Spanish', 4),\n",
       " ('Spanish', 14),\n",
       " ('Spanish', 10),\n",
       " ('Spanish', 1),\n",
       " ('Spanish', 2),\n",
       " ('Spanish', 8),\n",
       " ('Spanish', 1),\n",
       " ('Spanish', 8),\n",
       " ('Spanish', 1),\n",
       " ('Spanish', 9),\n",
       " ('Spanish', 4),\n",
       " ('Spanish', 10),\n",
       " ('Spanish', 2),\n",
       " ('Spanish', 9),\n",
       " ('Spanish', 1),\n",
       " ('Spanish', 8),\n",
       " ('Spanish', 1),\n",
       " ('Spanish', 4),\n",
       " ('Spanish', 9),\n",
       " ('Spanish', 5),\n",
       " ('Spanish', 7),\n",
       " ('Spanish', 1),\n",
       " ('Spanish', 2),\n",
       " ('Spanish', 4),\n",
       " ('Spanish', 1),\n",
       " ('Spanish', 1),\n",
       " ('Spanish', 2),\n",
       " ('Spanish', 8),\n",
       " ('Spanish', 1),\n",
       " ('Spanish', 1),\n",
       " ('Spanish', 2),\n",
       " ('Spanish', 9),\n",
       " ('Spanish', 2),\n",
       " ('Spanish', 2),\n",
       " ('Spanish', 7),\n",
       " ('Spanish', 1),\n",
       " ('Spanish', 8),\n",
       " ('Spanish', 1),\n",
       " ('Spanish', 5),\n",
       " ('Spanish', 6),\n",
       " ('Spanish', 8),\n",
       " ('Spanish', 1),\n",
       " ('Spanish', 10),\n",
       " ('Spanish', 2),\n",
       " ('Spanish', 1),\n",
       " ('Spanish', 11),\n",
       " ('Spanish', 1),\n",
       " ('Spanish', 2),\n",
       " ('Spanish', 10),\n",
       " ('Spanish', 1),\n",
       " ('Spanish', 2),\n",
       " ('Spanish', 5),\n",
       " ('Spanish', 2),\n",
       " ('Spanish', 8),\n",
       " ('Spanish', 5),\n",
       " ('Spanish', 10),\n",
       " ('Spanish', 2),\n",
       " ('Spanish', 5),\n",
       " ('Spanish', 3),\n",
       " ('Spanish', 6),\n",
       " ('Spanish', 1),\n",
       " ('Spanish', 8),\n",
       " ('Spanish', 1),\n",
       " ('Spanish', 5),\n",
       " ('Spanish', 4),\n",
       " ('Spanish', 8),\n",
       " ('Spanish', 1),\n",
       " ('Spanish', 8),\n",
       " ('Spanish', 2),\n",
       " ('Spanish', 1),\n",
       " ('Spanish', 5),\n",
       " ('Spanish', 1),\n",
       " ('Spanish', 6),\n",
       " ('Spanish', 7),\n",
       " ('Spanish', 1),\n",
       " ('Spanish', 9),\n",
       " ('Spanish', 1),\n",
       " ('Spanish', 11),\n",
       " ('Spanish', 1),\n",
       " ('Spanish', 8),\n",
       " ('Spanish', 1),\n",
       " ('Spanish', 4),\n",
       " ('Spanish', 3),\n",
       " ('Spanish', 6),\n",
       " ('Spanish', 5),\n",
       " ('Spanish', 7),\n",
       " ('Spanish', 1),\n",
       " ('Spanish', 2),\n",
       " ('Spanish', 5),\n",
       " ('Spanish', 6),\n",
       " ('Spanish', 1),\n",
       " ('Spanish', 2),\n",
       " ('Spanish', 14),\n",
       " ('Spanish', 2),\n",
       " ('Spanish', 2),\n",
       " ('Spanish', 12),\n",
       " ('Spanish', 8),\n",
       " ('Spanish', 1),\n",
       " ('Spanish', 8),\n",
       " ('Spanish', 1),\n",
       " ('Spanish', 5),\n",
       " ('Spanish', 3),\n",
       " ('Spanish', 7),\n",
       " ('Spanish', 4),\n",
       " ('Spanish', 2),\n",
       " ('Spanish', 3),\n",
       " ('Spanish', 1),\n",
       " ('Spanish', 6),\n",
       " ('Spanish', 1),\n",
       " ('Spanish', 3),\n",
       " ('Spanish', 10),\n",
       " ('Spanish', 1),\n",
       " ('Spanish', 7),\n",
       " ('Spanish', 1),\n",
       " ('Spanish', 5),\n",
       " ('Spanish', 10),\n",
       " ('Spanish', 2),\n",
       " ('Spanish', 2),\n",
       " ('Spanish', 3),\n",
       " ('Spanish', 1),\n",
       " ('Spanish', 5),\n",
       " ('Spanish', 6),\n",
       " ('Spanish', 7),\n",
       " ('Spanish', 1),\n",
       " ('Spanish', 5),\n",
       " ('Spanish', 10),\n",
       " ('Spanish', 6),\n",
       " ('Spanish', 4),\n",
       " ('Spanish', 14),\n",
       " ('Spanish', 3),\n",
       " ('Spanish', 8),\n",
       " ('Spanish', 4),\n",
       " ('Spanish', 11),\n",
       " ('Spanish', 1),\n",
       " ('Spanish', 6),\n",
       " ('Spanish', 4),\n",
       " ('Spanish', 11),\n",
       " ('Spanish', 1),\n",
       " ('Spanish', 3),\n",
       " ('Spanish', 14),\n",
       " ('Spanish', 1),\n",
       " ('Spanish', 8),\n",
       " ('Spanish', 1),\n",
       " ('Spanish', 4),\n",
       " ('Spanish', 7),\n",
       " ('Spanish', 5),\n",
       " ('Spanish', 7),\n",
       " ('Spanish', 1),\n",
       " ('Spanish', 2),\n",
       " ('Spanish', 7),\n",
       " ('Spanish', 8),\n",
       " ('Spanish', 1),\n",
       " ('Spanish', 4),\n",
       " ('Spanish', 3),\n",
       " ('Spanish', 10),\n",
       " ('Spanish', 10),\n",
       " ('Spanish', 11),\n",
       " ('Spanish', 1),\n",
       " ('Spanish', 3),\n",
       " ('Spanish', 2),\n",
       " ('Spanish', 6),\n",
       " ('Spanish', 6),\n",
       " ('Spanish', 5),\n",
       " ('Spanish', 3),\n",
       " ('Spanish', 6),\n",
       " ('Spanish', 3),\n",
       " ('Spanish', 8),\n",
       " ('Spanish', 13),\n",
       " ('Spanish', 11),\n",
       " ('Spanish', 3),\n",
       " ('Spanish', 2),\n",
       " ('Spanish', 12),\n",
       " ('Spanish', 1),\n",
       " ('Spanish', 3),\n",
       " ('Spanish', 2),\n",
       " ('Spanish', 3),\n",
       " ('Spanish', 1),\n",
       " ('Spanish', 8),\n",
       " ('Spanish', 1),\n",
       " ('Spanish', 5),\n",
       " ('Spanish', 5),\n",
       " ('Spanish', 3),\n",
       " ('Spanish', 15),\n",
       " ('Spanish', 8),\n",
       " ('Spanish', 1),\n",
       " ('Spanish', 5),\n",
       " ('Spanish', 2),\n",
       " ('Spanish', 10),\n",
       " ('Spanish', 1),\n",
       " ('Spanish', 8),\n",
       " ('Spanish', 2),\n",
       " ('Spanish', 4),\n",
       " ('Spanish', 7),\n",
       " ('Spanish', 5),\n",
       " ('Spanish', 7),\n",
       " ('Spanish', 1),\n",
       " ('Spanish', 2),\n",
       " ('Spanish', 11),\n",
       " ('Spanish', 2),\n",
       " ('Spanish', 5),\n",
       " ('Spanish', 8),\n",
       " ('Spanish', 1),\n",
       " ('Spanish', 1),\n",
       " ('Spanish', 3),\n",
       " ('Spanish', 4),\n",
       " ('Spanish', 12),\n",
       " ('Spanish', 1),\n",
       " ('Spanish', 3),\n",
       " ('Spanish', 8),\n",
       " ('Spanish', 3),\n",
       " ('Spanish', 2),\n",
       " ('Spanish', 8),\n",
       " ('Spanish', 13),\n",
       " ('Spanish', 1),\n",
       " ('Spanish', 9),\n",
       " ('Spanish', 1),\n",
       " ('Spanish', 4),\n",
       " ('Spanish', 2),\n",
       " ('Spanish', 13),\n",
       " ('Spanish', 2),\n",
       " ('Spanish', 3),\n",
       " ('Spanish', 8),\n",
       " ('Spanish', 1),\n",
       " ('Spanish', 12),\n",
       " ('Spanish', 1),\n",
       " ('Spanish', 4),\n",
       " ('Spanish', 2),\n",
       " ('Spanish', 6),\n",
       " ('Spanish', 2),\n",
       " ('Spanish', 9),\n",
       " ('Spanish', 9),\n",
       " ('Spanish', 6),\n",
       " ('Spanish', 4),\n",
       " ('Spanish', 2),\n",
       " ('Spanish', 7),\n",
       " ('Spanish', 5),\n",
       " ('Spanish', 1),\n",
       " ('Spanish', 8),\n",
       " ('Spanish', 2),\n",
       " ('Spanish', 4),\n",
       " ('Spanish', 7),\n",
       " ('Spanish', 7),\n",
       " ('Spanish', 2),\n",
       " ('Spanish', 6),\n",
       " ('Spanish', 5),\n",
       " ('Spanish', 7),\n",
       " ('Spanish', 1),\n",
       " ('Spanish', 3),\n",
       " ('Spanish', 2),\n",
       " ('Spanish', 7),\n",
       " ('Spanish', 2),\n",
       " ('Spanish', 9),\n",
       " ('Spanish', 8),\n",
       " ('Spanish', 2),\n",
       " ('Spanish', 2),\n",
       " ('Spanish', 6),\n",
       " ('Spanish', 2),\n",
       " ('Spanish', 12),\n",
       " ('Spanish', 1),\n",
       " ('Spanish', 8),\n",
       " ('Spanish', 1),\n",
       " ('Spanish', 2),\n",
       " ('Spanish', 3),\n",
       " ('Spanish', 1),\n",
       " ('Spanish', 2),\n",
       " ('Spanish', 6),\n",
       " ('Spanish', 7),\n",
       " ('Spanish', 2),\n",
       " ('Spanish', 2),\n",
       " ('Spanish', 3),\n",
       " ('Spanish', 2),\n",
       " ('Spanish', 2),\n",
       " ('Spanish', 5),\n",
       " ('Spanish', 9),\n",
       " ('Spanish', 5),\n",
       " ('Spanish', 3),\n",
       " ('Spanish', 9),\n",
       " ('Spanish', 10),\n",
       " ('Spanish', 4),\n",
       " ('Spanish', 2),\n",
       " ('Spanish', 7),\n",
       " ('Spanish', 1),\n",
       " ('Spanish', 5),\n",
       " ('Spanish', 4),\n",
       " ('Spanish', 9),\n",
       " ('Spanish', 3),\n",
       " ('Spanish', 5),\n",
       " ('Spanish', 1),\n",
       " ('Spanish', 9),\n",
       " ('Spanish', 3),\n",
       " ('Spanish', 2),\n",
       " ('Spanish', 2),\n",
       " ('Spanish', 7),\n",
       " ('Spanish', 2),\n",
       " ('Spanish', 9),\n",
       " ('Spanish', 2),\n",
       " ('Spanish', 6),\n",
       " ('Spanish', 10),\n",
       " ('Spanish', 5),\n",
       " ('Spanish', 2),\n",
       " ('Spanish', 7),\n",
       " ('Spanish', 8),\n",
       " ('Spanish', 1),\n",
       " ('Spanish', 13),\n",
       " ('Spanish', 1),\n",
       " ('Spanish', 7),\n",
       " ('Spanish', 2),\n",
       " ('Spanish', 8),\n",
       " ('Spanish', 4),\n",
       " ('Spanish', 3),\n",
       " ('Spanish', 5),\n",
       " ('Spanish', 3),\n",
       " ('Spanish', 2),\n",
       " ('Spanish', 9),\n",
       " ('Spanish', 2),\n",
       " ('Spanish', 2),\n",
       " ('Spanish', 7),\n",
       " ('Spanish', 2),\n",
       " ('Spanish', 2),\n",
       " ('Spanish', 8),\n",
       " ('Spanish', 3),\n",
       " ('Spanish', 6),\n",
       " ('Spanish', 1),\n",
       " ('Spanish', 8),\n",
       " ('Spanish', 2),\n",
       " ('Spanish', 5),\n",
       " ('Spanish', 4),\n",
       " ('Spanish', 6),\n",
       " ('Spanish', 2),\n",
       " ('Spanish', 11),\n",
       " ('Spanish', 11),\n",
       " ('Spanish', 2),\n",
       " ('Spanish', 2),\n",
       " ('Spanish', 4),\n",
       " ('Spanish', 7),\n",
       " ('Spanish', 1),\n",
       " ('Spanish', 2),\n",
       " ('Spanish', 7),\n",
       " ('Spanish', 1),\n",
       " ('Spanish', 2),\n",
       " ('Spanish', 9),\n",
       " ('Spanish', 1),\n",
       " ('Spanish', 2),\n",
       " ('Spanish', 15),\n",
       " ('Spanish', 1),\n",
       " ('Spanish', 2),\n",
       " ('Spanish', 2),\n",
       " ('Spanish', 7),\n",
       " ('Spanish', 1),\n",
       " ('Spanish', 2),\n",
       " ('Spanish', 5),\n",
       " ('Spanish', 1),\n",
       " ('Spanish', 1),\n",
       " ('Spanish', 2),\n",
       " ('Spanish', 10),\n",
       " ('Spanish', 1),\n",
       " ('Spanish', 4),\n",
       " ('Spanish', 7),\n",
       " ('Spanish', 5),\n",
       " ('Spanish', 7),\n",
       " ('Spanish', 1),\n",
       " ('Spanish', 2),\n",
       " ('Spanish', 10),\n",
       " ('Spanish', 2),\n",
       " ('Spanish', 2),\n",
       " ('Spanish', 3),\n",
       " ('Spanish', 6),\n",
       " ('Spanish', 5),\n",
       " ('Spanish', 11),\n",
       " ('Spanish', 1),\n",
       " ('Spanish', 7),\n",
       " ('Spanish', 1),\n",
       " ('Spanish', 8),\n",
       " ('Spanish', 2),\n",
       " ('Spanish', 4),\n",
       " ('Spanish', 7),\n",
       " ('Spanish', 5),\n",
       " ('Spanish', 7),\n",
       " ('Spanish', 1),\n",
       " ('Spanish', 8),\n",
       " ('Spanish', 10),\n",
       " ('Spanish', 1),\n",
       " ('Spanish', 1),\n",
       " ('Spanish', 6),\n",
       " ('Spanish', 2),\n",
       " ('Spanish', 10),\n",
       " ('Spanish', 2),\n",
       " ('Spanish', 2),\n",
       " ('Spanish', 10),\n",
       " ('Spanish', 2),\n",
       " ('Spanish', 2),\n",
       " ('Spanish', 6),\n",
       " ('Spanish', 1),\n",
       " ('Spanish', 4),\n",
       " ('Spanish', 7),\n",
       " ('Spanish', 5),\n",
       " ('Spanish', 7),\n",
       " ('Spanish', 1),\n",
       " ('Spanish', 5),\n",
       " ('Spanish', 2),\n",
       " ('Spanish', 9),\n",
       " ('Spanish', 4),\n",
       " ('Spanish', 1),\n",
       " ('Spanish', 7),\n",
       " ('Spanish', 2),\n",
       " ('Spanish', 6),\n",
       " ('Spanish', 1),\n",
       " ('Spanish', 1),\n",
       " ('Spanish', 1),\n",
       " ('Spanish', 8),\n",
       " ('Spanish', 1),\n",
       " ('Spanish', 2),\n",
       " ('Spanish', 4),\n",
       " ('Spanish', 1),\n",
       " ('Spanish', 8),\n",
       " ('Spanish', 2),\n",
       " ('Spanish', 2),\n",
       " ('Spanish', 4),\n",
       " ('Spanish', 2),\n",
       " ('Spanish', 11),\n",
       " ('Spanish', 1),\n",
       " ('Spanish', 4),\n",
       " ('Spanish', 7),\n",
       " ('Spanish', 5),\n",
       " ('Spanish', 7),\n",
       " ('Spanish', 1),\n",
       " ('Spanish', 6),\n",
       " ('Spanish', 5),\n",
       " ('Spanish', 1),\n",
       " ('Spanish', 1),\n",
       " ('Spanish', 1),\n",
       " ('Spanish', 9),\n",
       " ('Spanish', 2),\n",
       " ('Spanish', 2),\n",
       " ('Spanish', 1),\n",
       " ('Spanish', 2),\n",
       " ('Spanish', 9),\n",
       " ('Spanish', 4),\n",
       " ('Spanish', 1),\n",
       " ('Spanish', 4),\n",
       " ('Spanish', 7),\n",
       " ('Spanish', 2),\n",
       " ('Spanish', 5),\n",
       " ('Spanish', 3),\n",
       " ('Spanish', 8),\n",
       " ('Spanish', 6),\n",
       " ('Spanish', 3),\n",
       " ('Spanish', 6),\n",
       " ('Spanish', 8),\n",
       " ('Spanish', 9),\n",
       " ('Spanish', 9),\n",
       " ('Spanish', 3),\n",
       " ('Spanish', 7),\n",
       " ('Spanish', 7),\n",
       " ('Spanish', 1),\n",
       " ('Spanish', 3),\n",
       " ('Spanish', 5),\n",
       " ('Spanish', 8),\n",
       " ('Spanish', 1),\n",
       " ('Spanish', 3),\n",
       " ('Spanish', 10),\n",
       " ('Spanish', 1),\n",
       " ('Spanish', 10),\n",
       " ('Spanish', 2),\n",
       " ('Spanish', 3),\n",
       " ('Spanish', 8),\n",
       " ...]"
      ]
     },
     "execution_count": 172,
     "metadata": {},
     "output_type": "execute_result"
    }
   ],
   "source": [
    "[(lang, len(word)) for lang in languages for word in udhr.words(lang + '-Latin1')]\n",
    "# ejemplo construyendo pares par cada lenguaje entre longitud de palabra segun lenguaje en pares"
   ]
  },
  {
   "cell_type": "code",
   "execution_count": 173,
   "metadata": {},
   "outputs": [],
   "source": [
    "cfd = nltk.ConditionalFreqDist((lang,len(word))\n",
    "                                for lang in languages\n",
    "                                for word in udhr.words(lang + '-Latin1'))\n",
    "# el tamaño de palabras por distancia (creo que dijo) va muy rapido el puto"
   ]
  },
  {
   "cell_type": "code",
   "execution_count": 174,
   "metadata": {},
   "outputs": [
    {
     "name": "stdout",
     "output_type": "stream",
     "text": [
      "           0    1    2    3    4    5    6    7    8    9 \n",
      "Spanish    0  356  721  871  972 1096 1173 1329 1487 1563 \n",
      "English    0  185  525  883  997 1166 1283 1440 1558 1638 \n"
     ]
    }
   ],
   "source": [
    "cfd.tabulate(conditions=[\"Spanish\",\"English\"],\n",
    "            samples=range(10), cumulative=True)"
   ]
  },
  {
   "cell_type": "code",
   "execution_count": 175,
   "metadata": {},
   "outputs": [
    {
     "name": "stdout",
     "output_type": "stream",
     "text": [
      "          0   1   2   3   4   5   6   7   8   9 \n",
      "Spanish   0 356 365 150 101 124  77 156 158  76 \n",
      "English   0 185 340 358 114 169 117 157 118  80 \n"
     ]
    }
   ],
   "source": [
    "cfd.tabulate(conditions=[\"Spanish\",\"English\"],\n",
    "            samples=range(10), cumulative=False)"
   ]
  },
  {
   "cell_type": "code",
   "execution_count": 176,
   "metadata": {},
   "outputs": [],
   "source": [
    "sent = ['En','un','lugar','de','la','mancha']\n",
    "# preparando todo para bigramas"
   ]
  },
  {
   "cell_type": "code",
   "execution_count": 177,
   "metadata": {},
   "outputs": [
    {
     "data": {
      "text/plain": [
       "['En', 'un', 'lugar', 'de', 'la', 'mancha']"
      ]
     },
     "execution_count": 177,
     "metadata": {},
     "output_type": "execute_result"
    }
   ],
   "source": [
    "sent"
   ]
  },
  {
   "cell_type": "code",
   "execution_count": 178,
   "metadata": {},
   "outputs": [
    {
     "data": {
      "text/plain": [
       "[('En', 'un'),\n",
       " ('un', 'lugar'),\n",
       " ('lugar', 'de'),\n",
       " ('de', 'la'),\n",
       " ('la', 'mancha')]"
      ]
     },
     "execution_count": 178,
     "metadata": {},
     "output_type": "execute_result"
    }
   ],
   "source": [
    "list(nltk.bigrams(sent))\n",
    "# conjunto de pares de las palabras consecutivas, a aprtidel texto (en un, en un lugar, en un lugar de la) y asi)"
   ]
  },
  {
   "cell_type": "code",
   "execution_count": 179,
   "metadata": {},
   "outputs": [],
   "source": [
    "def generate_model(cfdist, word, num=15):\n",
    "    for i in range(num):\n",
    "        print(word, end=' ')\n",
    "        word = cfdist[word].max()\n",
    "# como podria generar frases inspirandose en un libro, como algoritmo\n",
    "# si tengo una distribucion de frecuencia del texto, entonces puedo con los bigramas, una freq condicional, logro que para cada palabra del os pares obtengo la distribucion de frencuencia d¡de las palabras mas comunes\n",
    "# parte de una semilla y con 15 ya la arma, recorre todo y imprime la que esta y la maxima de la distribucion condicional de frecuenci amde es apalaabra"
   ]
  },
  {
   "cell_type": "code",
   "execution_count": 180,
   "metadata": {},
   "outputs": [],
   "source": [
    "text = nltk.corpus.genesis.words(\"english-kjv.txt\")\n",
    "# toma el libro"
   ]
  },
  {
   "cell_type": "code",
   "execution_count": 181,
   "metadata": {},
   "outputs": [],
   "source": [
    "bigrams = nltk.bigrams(text)\n"
   ]
  },
  {
   "cell_type": "code",
   "execution_count": 182,
   "metadata": {},
   "outputs": [],
   "source": [
    "cfd = nltk.ConditionalFreqDist(bigrams)"
   ]
  },
  {
   "cell_type": "code",
   "execution_count": 183,
   "metadata": {},
   "outputs": [
    {
     "data": {
      "text/plain": [
       "FreqDist({'creature': 7, 'thing': 4, 'substance': 2, 'soul': 1, '.': 1, ',': 1})"
      ]
     },
     "execution_count": 183,
     "metadata": {},
     "output_type": "execute_result"
    }
   ],
   "source": [
    "cfd[\"living\"]"
   ]
  },
  {
   "cell_type": "code",
   "execution_count": 184,
   "metadata": {},
   "outputs": [
    {
     "name": "stdout",
     "output_type": "stream",
     "text": [
      "said , and the land of the land of the land of the land of "
     ]
    }
   ],
   "source": [
    "generate_model(cfd, \"said\")"
   ]
  },
  {
   "cell_type": "code",
   "execution_count": 185,
   "metadata": {},
   "outputs": [],
   "source": [
    "import random\n",
    "\n",
    "def generate_model(cfdist, word, num=15):\n",
    "    sentence = []\n",
    "    for i in range(num):\n",
    "        print(word, end=' ')\n",
    "        mc = cfdist[word].most_common(5)\n",
    "        sentence.append(word)\n",
    "        word = mc[random.randint(0,len(mc)-1)][0]\n",
    "    print()\n",
    "    "
   ]
  },
  {
   "cell_type": "code",
   "execution_count": 186,
   "metadata": {},
   "outputs": [],
   "source": [
    "bigramsQuijote = nltk.bigrams(palabrasQuijote)"
   ]
  },
  {
   "cell_type": "code",
   "execution_count": 187,
   "metadata": {},
   "outputs": [
    {
     "data": {
      "text/plain": [
       "<generator object bigrams at 0x000001990E3464A0>"
      ]
     },
     "execution_count": 187,
     "metadata": {},
     "output_type": "execute_result"
    }
   ],
   "source": [
    "bigramsQuijote"
   ]
  },
  {
   "cell_type": "code",
   "execution_count": 188,
   "metadata": {},
   "outputs": [],
   "source": [
    "cfdQuijote = nltk.ConditionalFreqDist(bigramsQuijote)"
   ]
  },
  {
   "cell_type": "code",
   "execution_count": 189,
   "metadata": {},
   "outputs": [
    {
     "data": {
      "text/plain": [
       "FreqDist({'la': 258, 'el': 248, 'los': 113, 'no': 108, 'las': 107, 'lo': 98, 'su': 93, 'ser': 63, 'donde': 62, 'cierto': 51, ...})"
      ]
     },
     "execution_count": 189,
     "metadata": {},
     "output_type": "execute_result"
    }
   ],
   "source": [
    "cfdQuijote['por']\n",
    "# cuales son los seguidores mas frecuentes de la palabra por\n",
    "# EL MODELO DE LENGUAJE ME DA SECUENCIAS PROBABILISTICAS DEL LENGUAJE EL DE BGRAMAS ES MAS LOCAL\n",
    "# MAXIMIZAR LA COHERENCIA ES CON LA ESTRUCTURA MAS GRANDE"
   ]
  },
  {
   "cell_type": "code",
   "execution_count": 190,
   "metadata": {},
   "outputs": [
    {
     "name": "stdout",
     "output_type": "stream",
     "text": [
      "Yo lo es de su amo . Pero , y , como se había dado la mano , y el cura , y de las cuales , que el cual \n"
     ]
    }
   ],
   "source": [
    "generate_model(cfdQuijote, \"Yo\", 30)\n",
    "# es como el bigrama permite esto y nada mas"
   ]
  },
  {
   "cell_type": "code",
   "execution_count": 191,
   "metadata": {},
   "outputs": [],
   "source": [
    "def unusual_words(text):\n",
    "    text_vocab = set(w.lower() for w in text if w.isalpha())\n",
    "    english_vocab = set(w.lower() for w in nltk.corpus.words.words())\n",
    "    unusual = text_vocab - english_vocab\n",
    "    return sorted(unusual)\n",
    "# Crear con el ingles y un corpus y sacar las que no estan en el diccionario general\n"
   ]
  },
  {
   "cell_type": "code",
   "execution_count": 192,
   "metadata": {},
   "outputs": [
    {
     "data": {
      "text/plain": [
       "['abbeyland',\n",
       " 'abhorred',\n",
       " 'abilities',\n",
       " 'abounded',\n",
       " 'abridgement',\n",
       " 'abused',\n",
       " 'abuses',\n",
       " 'accents',\n",
       " 'accepting',\n",
       " 'accommodations',\n",
       " 'accompanied',\n",
       " 'accounted',\n",
       " 'accounts',\n",
       " 'accustomary',\n",
       " 'aches',\n",
       " 'acknowledging',\n",
       " 'acknowledgment',\n",
       " 'acknowledgments',\n",
       " 'acquaintances',\n",
       " 'acquiesced',\n",
       " 'acquitted',\n",
       " 'acquitting',\n",
       " 'acted',\n",
       " 'actions',\n",
       " 'adapted',\n",
       " 'adding',\n",
       " 'additions',\n",
       " 'addressed',\n",
       " 'addresses',\n",
       " 'addressing',\n",
       " 'adhering',\n",
       " 'adieus',\n",
       " 'adjusting',\n",
       " 'administering',\n",
       " 'admirers',\n",
       " 'admires',\n",
       " 'admitting',\n",
       " 'adorned',\n",
       " 'advances',\n",
       " 'advantages',\n",
       " 'affairs',\n",
       " 'affections',\n",
       " 'affects',\n",
       " 'affixed',\n",
       " 'afflictions',\n",
       " 'afforded',\n",
       " 'affording',\n",
       " 'ages',\n",
       " 'agitated',\n",
       " 'agonies',\n",
       " 'ailments',\n",
       " 'aimed',\n",
       " 'alarms',\n",
       " 'alienated',\n",
       " 'alighted',\n",
       " 'alleged',\n",
       " 'allenham',\n",
       " 'allowances',\n",
       " 'allowed',\n",
       " 'allowing',\n",
       " 'alluded',\n",
       " 'alterations',\n",
       " 'altered',\n",
       " 'altering',\n",
       " 'amended',\n",
       " 'amounted',\n",
       " 'amusements',\n",
       " 'ankles',\n",
       " 'annamaria',\n",
       " 'annexed',\n",
       " 'announced',\n",
       " 'announcing',\n",
       " 'annuities',\n",
       " 'annum',\n",
       " 'answered',\n",
       " 'answering',\n",
       " 'answers',\n",
       " 'anticipated',\n",
       " 'anticipating',\n",
       " 'anticipations',\n",
       " 'anymore',\n",
       " 'apartments',\n",
       " 'apologies',\n",
       " 'apologising',\n",
       " 'apologized',\n",
       " 'appearances',\n",
       " 'appeared',\n",
       " 'appearing',\n",
       " 'appeased',\n",
       " 'appetites',\n",
       " 'applauded',\n",
       " 'applying',\n",
       " 'appointed',\n",
       " 'apprehended',\n",
       " 'apprehensions',\n",
       " 'approached',\n",
       " 'approved',\n",
       " 'arbour',\n",
       " 'ardour',\n",
       " 'arguments',\n",
       " 'arranged',\n",
       " 'arrangements',\n",
       " 'arranging',\n",
       " 'arrived',\n",
       " 'arrives',\n",
       " 'arriving',\n",
       " 'ascended',\n",
       " 'ascertained',\n",
       " 'asked',\n",
       " 'asking',\n",
       " 'assembled',\n",
       " 'assemblies',\n",
       " 'asserted',\n",
       " 'assertions',\n",
       " 'assiduities',\n",
       " 'assisted',\n",
       " 'assisting',\n",
       " 'associating',\n",
       " 'assurances',\n",
       " 'astonished',\n",
       " 'atoned',\n",
       " 'atoning',\n",
       " 'attaching',\n",
       " 'attachments',\n",
       " 'attacked',\n",
       " 'attacks',\n",
       " 'attained',\n",
       " 'attempted',\n",
       " 'attempting',\n",
       " 'attempts',\n",
       " 'attendants',\n",
       " 'attended',\n",
       " 'attending',\n",
       " 'attentions',\n",
       " 'attracted',\n",
       " 'attractions',\n",
       " 'attributed',\n",
       " 'attributing',\n",
       " 'auditors',\n",
       " 'augmenting',\n",
       " 'austen',\n",
       " 'authorised',\n",
       " 'authors',\n",
       " 'availed',\n",
       " 'avignon',\n",
       " 'avoided',\n",
       " 'avoiding',\n",
       " 'awaited',\n",
       " 'awakened',\n",
       " 'awaking',\n",
       " 'bags',\n",
       " 'balls',\n",
       " 'banished',\n",
       " 'barouches',\n",
       " 'bathed',\n",
       " 'bears',\n",
       " 'beasts',\n",
       " 'beauties',\n",
       " 'became',\n",
       " 'bedrooms',\n",
       " 'beds',\n",
       " 'befallen',\n",
       " 'befalls',\n",
       " 'befell',\n",
       " 'began',\n",
       " 'begged',\n",
       " 'begins',\n",
       " 'behaved',\n",
       " 'beings',\n",
       " 'believed',\n",
       " 'believes',\n",
       " 'belonged',\n",
       " 'belongs',\n",
       " 'benefited',\n",
       " 'bequeathed',\n",
       " 'berkeley',\n",
       " 'bestowed',\n",
       " 'betrayed',\n",
       " 'betraying',\n",
       " 'biased',\n",
       " 'blackest',\n",
       " 'blameable',\n",
       " 'blessings',\n",
       " 'blights',\n",
       " 'blossoms',\n",
       " 'blundered',\n",
       " 'blushed',\n",
       " 'blushes',\n",
       " 'bolder',\n",
       " 'bones',\n",
       " 'bonomi',\n",
       " 'books',\n",
       " 'booksellers',\n",
       " 'borrowed',\n",
       " 'bottoms',\n",
       " 'boys',\n",
       " 'breakfasting',\n",
       " 'bribing',\n",
       " 'brightened',\n",
       " 'brighter',\n",
       " 'bringing',\n",
       " 'brings',\n",
       " 'broader',\n",
       " 'brothers',\n",
       " 'bruised',\n",
       " 'buildings',\n",
       " 'bursts',\n",
       " 'buying',\n",
       " 'called',\n",
       " 'calls',\n",
       " 'calming',\n",
       " 'candles',\n",
       " 'candour',\n",
       " 'canvassing',\n",
       " 'cards',\n",
       " 'cares',\n",
       " 'caresses',\n",
       " 'careys',\n",
       " 'carriages',\n",
       " 'carries',\n",
       " 'cases',\n",
       " 'casts',\n",
       " 'cats',\n",
       " 'caused',\n",
       " 'ceased',\n",
       " 'ceasing',\n",
       " 'censured',\n",
       " 'centre',\n",
       " 'certainties',\n",
       " 'chagrined',\n",
       " 'chairs',\n",
       " 'chambers',\n",
       " 'chanced',\n",
       " 'changed',\n",
       " 'changes',\n",
       " 'changing',\n",
       " 'characters',\n",
       " 'charged',\n",
       " 'charmed',\n",
       " 'charms',\n",
       " 'cheated',\n",
       " 'checking',\n",
       " 'cheeks',\n",
       " 'cheerfuller',\n",
       " 'cherished',\n",
       " 'cherries',\n",
       " 'children',\n",
       " 'choked',\n",
       " 'chuse',\n",
       " 'chusing',\n",
       " 'circles',\n",
       " 'circumstances',\n",
       " 'civilities',\n",
       " 'claimed',\n",
       " 'claiming',\n",
       " 'claims',\n",
       " 'clarke',\n",
       " 'cleared',\n",
       " 'cleveland',\n",
       " 'clogged',\n",
       " 'closing',\n",
       " 'clouds',\n",
       " 'coats',\n",
       " 'collecting',\n",
       " 'coloured',\n",
       " 'colouring',\n",
       " 'combe',\n",
       " 'comforted',\n",
       " 'comforts',\n",
       " 'comings',\n",
       " 'commanded',\n",
       " 'commands',\n",
       " 'commended',\n",
       " 'comments',\n",
       " 'commissioned',\n",
       " 'commonest',\n",
       " 'communicated',\n",
       " 'companions',\n",
       " 'compared',\n",
       " 'compares',\n",
       " 'comparisons',\n",
       " 'complained',\n",
       " 'complaining',\n",
       " 'complaints',\n",
       " 'completed',\n",
       " 'compliments',\n",
       " 'comprehended',\n",
       " 'concealing',\n",
       " 'concerns',\n",
       " 'concessions',\n",
       " 'concluded',\n",
       " 'conclusions',\n",
       " 'conditions',\n",
       " 'conducted',\n",
       " 'confessed',\n",
       " 'confidante',\n",
       " 'conforming',\n",
       " 'congratulated',\n",
       " 'congratulating',\n",
       " 'congratulations',\n",
       " 'conjectured',\n",
       " 'conjectures',\n",
       " 'conjecturing',\n",
       " 'connections',\n",
       " 'conquests',\n",
       " 'consented',\n",
       " 'consequences',\n",
       " 'considerations',\n",
       " 'considers',\n",
       " 'consisted',\n",
       " 'consists',\n",
       " 'consoled',\n",
       " 'conspired',\n",
       " 'constantia',\n",
       " 'consulted',\n",
       " 'contained',\n",
       " 'containing',\n",
       " 'contend',\n",
       " 'contenting',\n",
       " 'continuing',\n",
       " 'contradicted',\n",
       " 'contrasted',\n",
       " 'contributed',\n",
       " 'contributing',\n",
       " 'contrived',\n",
       " 'contrives',\n",
       " 'contriving',\n",
       " 'controlled',\n",
       " 'conveniences',\n",
       " 'conversations',\n",
       " 'conversed',\n",
       " 'conversing',\n",
       " 'conveyed',\n",
       " 'conveying',\n",
       " 'copying',\n",
       " 'cordials',\n",
       " 'cottages',\n",
       " 'counsellor',\n",
       " 'counteracted',\n",
       " 'couples',\n",
       " 'courted',\n",
       " 'courting',\n",
       " 'courtland',\n",
       " 'cousins',\n",
       " 'cowper',\n",
       " 'cows',\n",
       " 'coxcombs',\n",
       " 'cramps',\n",
       " 'created',\n",
       " 'creating',\n",
       " 'creatures',\n",
       " 'cries',\n",
       " 'crimsoned',\n",
       " 'curtsying',\n",
       " 'cutlets',\n",
       " 'danced',\n",
       " 'dances',\n",
       " 'dared',\n",
       " 'darker',\n",
       " 'dartford',\n",
       " 'dashwood',\n",
       " 'dashwoods',\n",
       " 'daughters',\n",
       " 'davies',\n",
       " 'dawdled',\n",
       " 'dawlish',\n",
       " 'dawned',\n",
       " 'dearer',\n",
       " 'dearest',\n",
       " 'debated',\n",
       " 'debts',\n",
       " 'deceived',\n",
       " 'deciding',\n",
       " 'decisions',\n",
       " 'declares',\n",
       " 'declaring',\n",
       " 'declining',\n",
       " 'deemed',\n",
       " 'deeper',\n",
       " 'deepest',\n",
       " 'defects',\n",
       " 'defended',\n",
       " 'deficiencies',\n",
       " 'degrees',\n",
       " 'delaford',\n",
       " 'delayed',\n",
       " 'delays',\n",
       " 'deliberating',\n",
       " 'delicacies',\n",
       " 'delighful',\n",
       " 'delineated',\n",
       " 'delivered',\n",
       " 'demanded',\n",
       " 'demands',\n",
       " 'demonstrations',\n",
       " 'demur',\n",
       " 'denied',\n",
       " 'dennison',\n",
       " 'denoted',\n",
       " 'denoting',\n",
       " 'departing',\n",
       " 'depended',\n",
       " 'depends',\n",
       " 'deprived',\n",
       " 'described',\n",
       " 'describing',\n",
       " 'deserts',\n",
       " 'deserves',\n",
       " 'designs',\n",
       " 'desiring',\n",
       " 'despatch',\n",
       " 'despatching',\n",
       " 'despised',\n",
       " 'despising',\n",
       " 'destroyed',\n",
       " 'destroys',\n",
       " 'detaining',\n",
       " 'detected',\n",
       " 'detecting',\n",
       " 'determining',\n",
       " 'deterred',\n",
       " 'detested',\n",
       " 'devolved',\n",
       " 'died',\n",
       " 'dies',\n",
       " 'differed',\n",
       " 'differing',\n",
       " 'difficulties',\n",
       " 'dimensions',\n",
       " 'diminished',\n",
       " 'dined',\n",
       " 'dinners',\n",
       " 'directing',\n",
       " 'directions',\n",
       " 'disagreements',\n",
       " 'disappeared',\n",
       " 'disappointments',\n",
       " 'disapproved',\n",
       " 'disapproves',\n",
       " 'disapproving',\n",
       " 'discarded',\n",
       " 'discharged',\n",
       " 'disclaiming',\n",
       " 'disclosing',\n",
       " 'discontents',\n",
       " 'discovering',\n",
       " 'discussions',\n",
       " 'disgraced',\n",
       " 'disinherited',\n",
       " 'disliked',\n",
       " 'dismissed',\n",
       " 'dismounted',\n",
       " 'dispatched',\n",
       " 'dispatches',\n",
       " 'dispersing',\n",
       " 'disposing',\n",
       " 'disputes',\n",
       " 'disqualifications',\n",
       " 'disregarded',\n",
       " 'dissembling',\n",
       " 'dissented',\n",
       " 'distresses',\n",
       " 'distrusts',\n",
       " 'diverted',\n",
       " 'doatingly',\n",
       " 'donavan',\n",
       " 'doomed',\n",
       " 'dooming',\n",
       " 'doors',\n",
       " 'dorsetshire',\n",
       " 'doubted',\n",
       " 'doubts',\n",
       " 'douceur',\n",
       " 'downs',\n",
       " 'dr',\n",
       " 'drains',\n",
       " 'drawings',\n",
       " 'draws',\n",
       " 'dreaded',\n",
       " 'dreading',\n",
       " 'dreaming',\n",
       " 'dresses',\n",
       " 'drives',\n",
       " 'dropped',\n",
       " 'drops',\n",
       " 'drury',\n",
       " 'duets',\n",
       " 'duties',\n",
       " 'earlier',\n",
       " 'earliest',\n",
       " 'earned',\n",
       " 'ears',\n",
       " 'echoed',\n",
       " 'editions',\n",
       " 'edtions',\n",
       " 'effected',\n",
       " 'effecting',\n",
       " 'effusions',\n",
       " 'ellison',\n",
       " 'ellisons',\n",
       " 'eloping',\n",
       " 'eluded',\n",
       " 'embellishments',\n",
       " 'embraced',\n",
       " 'embraces',\n",
       " 'employments',\n",
       " 'enabled',\n",
       " 'enamoured',\n",
       " 'encouraged',\n",
       " 'encouragements',\n",
       " 'encroachments',\n",
       " 'encumbered',\n",
       " 'endeavoring',\n",
       " 'endeavors',\n",
       " 'endeavour',\n",
       " 'endeavoured',\n",
       " 'endeavouring',\n",
       " 'endeavours',\n",
       " 'endowed',\n",
       " 'ends',\n",
       " 'endured',\n",
       " 'enfeebled',\n",
       " 'enforcing',\n",
       " 'engagements',\n",
       " 'england',\n",
       " 'enjoyed',\n",
       " 'enjoyments',\n",
       " 'enquired',\n",
       " 'enquiries',\n",
       " 'enquiring',\n",
       " 'ensued',\n",
       " 'ensured',\n",
       " 'entered',\n",
       " 'entertained',\n",
       " 'entitled',\n",
       " 'entreated',\n",
       " 'entreaties',\n",
       " 'entrusted',\n",
       " 'equalled',\n",
       " 'equals',\n",
       " 'erred',\n",
       " 'errors',\n",
       " 'escaped',\n",
       " 'esq',\n",
       " 'establishing',\n",
       " 'esteemed',\n",
       " 'esteeming',\n",
       " 'esteems',\n",
       " 'estimating',\n",
       " 'estranged',\n",
       " 'evenings',\n",
       " 'events',\n",
       " 'evils',\n",
       " 'examined',\n",
       " 'exceeded',\n",
       " 'excellencies',\n",
       " 'exchanged',\n",
       " 'exclaimed',\n",
       " 'exclamations',\n",
       " 'excused',\n",
       " 'excuses',\n",
       " 'exercised',\n",
       " 'exercising',\n",
       " 'exerted',\n",
       " 'exertions',\n",
       " 'exeter',\n",
       " 'exhilarated',\n",
       " 'existed',\n",
       " 'expectations',\n",
       " 'expected',\n",
       " 'expecting',\n",
       " 'expects',\n",
       " 'expenses',\n",
       " 'experiencing',\n",
       " 'explained',\n",
       " 'explanations',\n",
       " 'expressing',\n",
       " 'expressions',\n",
       " 'extolling',\n",
       " 'extorted',\n",
       " 'extorting',\n",
       " 'extremest',\n",
       " 'eyeing',\n",
       " 'eyes',\n",
       " 'faces',\n",
       " 'facts',\n",
       " 'failed',\n",
       " 'falls',\n",
       " 'familiarized',\n",
       " 'families',\n",
       " 'fancying',\n",
       " 'fates',\n",
       " 'fatigued',\n",
       " 'fatigues',\n",
       " 'faults',\n",
       " 'favour',\n",
       " 'favourable',\n",
       " 'favourite',\n",
       " 'favourites',\n",
       " 'fearing',\n",
       " 'fears',\n",
       " 'features',\n",
       " 'feelings',\n",
       " 'feels',\n",
       " 'feet',\n",
       " 'felicitations',\n",
       " 'females',\n",
       " 'ferrars',\n",
       " 'fetches',\n",
       " 'fettered',\n",
       " 'finds',\n",
       " 'finest',\n",
       " 'fingers',\n",
       " 'flattered',\n",
       " 'flatteries',\n",
       " 'flowed',\n",
       " 'fluctuating',\n",
       " 'flushed',\n",
       " 'foibles',\n",
       " 'followed',\n",
       " 'follows',\n",
       " 'fond',\n",
       " 'footsteps',\n",
       " 'forebodings',\n",
       " 'foreplanned',\n",
       " 'foresaw',\n",
       " 'foreseeing',\n",
       " 'foreseen',\n",
       " 'forfeited',\n",
       " 'forfeiting',\n",
       " 'forgave',\n",
       " 'forgiven',\n",
       " 'forms',\n",
       " 'forsaking',\n",
       " 'fortunes',\n",
       " 'forwarded',\n",
       " 'foundations',\n",
       " 'founded',\n",
       " 'fowls',\n",
       " 'friendliest',\n",
       " 'friends',\n",
       " 'frightens',\n",
       " 'froid',\n",
       " 'frosts',\n",
       " 'fulfil',\n",
       " 'fulfilled',\n",
       " 'fullest',\n",
       " 'gained',\n",
       " 'gales',\n",
       " 'gardens',\n",
       " 'garrets',\n",
       " 'gates',\n",
       " 'gathered',\n",
       " 'generations',\n",
       " 'gentlemen',\n",
       " 'gigs',\n",
       " 'gilberts',\n",
       " 'girls',\n",
       " 'gives',\n",
       " 'glances',\n",
       " 'gloried',\n",
       " 'gloves',\n",
       " 'godby',\n",
       " 'goings',\n",
       " 'goodby',\n",
       " 'governed',\n",
       " 'gowns',\n",
       " 'graces',\n",
       " 'grandmothers',\n",
       " 'granted',\n",
       " 'greatest',\n",
       " 'grieves',\n",
       " 'grows',\n",
       " 'guardians',\n",
       " 'guessed',\n",
       " 'guests',\n",
       " 'guided',\n",
       " 'guineas',\n",
       " 'habits',\n",
       " 'hallooing',\n",
       " 'hands',\n",
       " 'handsomer',\n",
       " 'handsomest',\n",
       " 'hang',\n",
       " 'hanover',\n",
       " 'happened',\n",
       " 'happens',\n",
       " 'hardened',\n",
       " 'hardships',\n",
       " 'harley',\n",
       " 'has',\n",
       " 'hastened',\n",
       " 'hastening',\n",
       " 'hated',\n",
       " 'hates',\n",
       " 'hating',\n",
       " 'having',\n",
       " 'hazarded',\n",
       " 'hazarding',\n",
       " 'heads',\n",
       " 'heard',\n",
       " 'hears',\n",
       " 'heightened',\n",
       " 'heightening',\n",
       " 'heights',\n",
       " 'heirs',\n",
       " 'held',\n",
       " 'hens',\n",
       " 'henshawe',\n",
       " 'hesitated',\n",
       " 'hiding',\n",
       " 'hills',\n",
       " 'hinted',\n",
       " 'hints',\n",
       " 'hoarded',\n",
       " 'holborn',\n",
       " 'holburn',\n",
       " 'holds',\n",
       " 'holidays',\n",
       " 'homes',\n",
       " 'honeysuckles',\n",
       " 'honiton',\n",
       " 'honour',\n",
       " 'honourable',\n",
       " 'honourably',\n",
       " 'honoured',\n",
       " 'honours',\n",
       " 'hopes',\n",
       " 'hoping',\n",
       " 'horrors',\n",
       " 'horses',\n",
       " 'hours',\n",
       " 'houses',\n",
       " 'howsever',\n",
       " 'humbled',\n",
       " 'humiliations',\n",
       " 'humored',\n",
       " 'humoured',\n",
       " 'humouring',\n",
       " 'hunted',\n",
       " 'hunters',\n",
       " 'hunts',\n",
       " 'hurrying',\n",
       " 'husbands',\n",
       " 'huswifes',\n",
       " 'ideas',\n",
       " 'idled',\n",
       " 'idolized',\n",
       " 'ii',\n",
       " 'imaginations',\n",
       " 'imagined',\n",
       " 'imagining',\n",
       " 'imbibed',\n",
       " 'immoveable',\n",
       " 'imparted',\n",
       " 'imperfections',\n",
       " 'implied',\n",
       " 'implies',\n",
       " 'impoverished',\n",
       " 'impoverishing',\n",
       " 'improved',\n",
       " 'improvements',\n",
       " 'imputed',\n",
       " 'inclinations',\n",
       " 'inclined',\n",
       " 'inclosing',\n",
       " 'including',\n",
       " 'incommoded',\n",
       " 'inconveniences',\n",
       " 'increased',\n",
       " 'incurred',\n",
       " 'incurring',\n",
       " 'indulged',\n",
       " 'infants',\n",
       " 'inflicted',\n",
       " 'inflicting',\n",
       " 'influenced',\n",
       " 'inforce',\n",
       " 'inforced',\n",
       " 'informing',\n",
       " 'inhabitants',\n",
       " 'inhabiting',\n",
       " 'inheriting',\n",
       " 'injuries',\n",
       " 'inquired',\n",
       " 'inquiries',\n",
       " 'insinuations',\n",
       " 'insisted',\n",
       " 'installed',\n",
       " 'instigated',\n",
       " 'instructions',\n",
       " 'insulted',\n",
       " 'intends',\n",
       " 'intentions',\n",
       " 'intents',\n",
       " 'interests',\n",
       " 'interposed',\n",
       " 'interspersed',\n",
       " 'intervals',\n",
       " 'interviews',\n",
       " 'intimated',\n",
       " 'introduced',\n",
       " 'introducing',\n",
       " 'intruded',\n",
       " 'invented',\n",
       " 'inventing',\n",
       " 'invitations',\n",
       " 'invited',\n",
       " 'irritated',\n",
       " 'irritates',\n",
       " 'issued',\n",
       " 'jealousies',\n",
       " 'jenning',\n",
       " 'jennings',\n",
       " 'jewels',\n",
       " 'jilting',\n",
       " 'joined',\n",
       " 'joked',\n",
       " 'jokes',\n",
       " 'joking',\n",
       " 'joys',\n",
       " 'judged',\n",
       " 'judging',\n",
       " 'judgments',\n",
       " 'jumbled',\n",
       " 'justified',\n",
       " 'keeps',\n",
       " 'keys',\n",
       " 'kicked',\n",
       " 'kinder',\n",
       " 'kindest',\n",
       " 'kingham',\n",
       " 'kissed',\n",
       " 'kisses',\n",
       " 'knees',\n",
       " 'knives',\n",
       " 'knows',\n",
       " 'laboured',\n",
       " 'lamentations',\n",
       " 'lamps',\n",
       " 'lanes',\n",
       " 'languages',\n",
       " 'larger',\n",
       " 'largest',\n",
       " 'lasted',\n",
       " 'laughed',\n",
       " 'laughs',\n",
       " 'leagued',\n",
       " 'legacies',\n",
       " 'lengthened',\n",
       " 'lengths',\n",
       " 'lessened',\n",
       " 'lessening',\n",
       " 'letters',\n",
       " 'letting',\n",
       " 'lies',\n",
       " 'lifted',\n",
       " 'lightened',\n",
       " 'liked',\n",
       " 'likes',\n",
       " 'limbs',\n",
       " 'limits',\n",
       " 'lines',\n",
       " 'lingered',\n",
       " 'lingering',\n",
       " 'lips',\n",
       " 'listened',\n",
       " 'lives',\n",
       " 'livings',\n",
       " 'll',\n",
       " 'lodges',\n",
       " 'loitered',\n",
       " 'lombardy',\n",
       " 'london',\n",
       " 'longed',\n",
       " 'longest',\n",
       " 'longstaple',\n",
       " 'looked',\n",
       " 'looks',\n",
       " 'loved',\n",
       " 'lovers',\n",
       " 'loves',\n",
       " 'lowered',\n",
       " 'lurking',\n",
       " 'magna',\n",
       " 'maids',\n",
       " 'maintained',\n",
       " 'makes',\n",
       " 'mama',\n",
       " 'managed',\n",
       " 'marlborough',\n",
       " 'marriages',\n",
       " 'marries',\n",
       " 'matters',\n",
       " 'maxims',\n",
       " 'meadows',\n",
       " 'meals',\n",
       " 'means',\n",
       " 'meantime',\n",
       " 'measures',\n",
       " 'medicines',\n",
       " 'meditated',\n",
       " 'meditations',\n",
       " 'meetings',\n",
       " 'mentioned',\n",
       " 'mentioning',\n",
       " 'merest',\n",
       " 'merits',\n",
       " 'merrier',\n",
       " 'messages',\n",
       " 'middleton',\n",
       " 'middletons',\n",
       " 'militated',\n",
       " 'minds',\n",
       " 'minutes',\n",
       " 'misapplied',\n",
       " 'misinformed',\n",
       " 'missed',\n",
       " 'misses',\n",
       " 'mistakes',\n",
       " 'mixing',\n",
       " 'modestest',\n",
       " 'mohrs',\n",
       " 'moments',\n",
       " 'months',\n",
       " 'mosquitoes',\n",
       " 'mothers',\n",
       " 'motives',\n",
       " 'moved',\n",
       " 'murmurings',\n",
       " 'muttered',\n",
       " 'nabobs',\n",
       " 'named',\n",
       " 'names',\n",
       " 'natured',\n",
       " 'nearer',\n",
       " 'needed',\n",
       " 'neglected',\n",
       " 'neighbour',\n",
       " 'neighbourhood',\n",
       " 'neighbouring',\n",
       " 'neighbourly',\n",
       " 'neighbours',\n",
       " 'nerves',\n",
       " 'nests',\n",
       " 'nettles',\n",
       " 'newer',\n",
       " 'newspapers',\n",
       " 'nicest',\n",
       " 'nieces',\n",
       " 'nipped',\n",
       " 'nodded',\n",
       " 'nods',\n",
       " 'noisier',\n",
       " 'notes',\n",
       " 'noticed',\n",
       " 'noticing',\n",
       " 'notions',\n",
       " 'nt',\n",
       " 'nurses',\n",
       " 'obeyed',\n",
       " 'objected',\n",
       " 'objections',\n",
       " 'objects',\n",
       " 'obligations',\n",
       " 'observations',\n",
       " 'observed',\n",
       " 'obstacles',\n",
       " 'obstructed',\n",
       " 'obtained',\n",
       " 'obtaining',\n",
       " 'obviated',\n",
       " 'obviating',\n",
       " 'occasioned',\n",
       " 'occasions',\n",
       " 'occupations',\n",
       " 'occupied',\n",
       " 'occurred',\n",
       " 'oddest',\n",
       " 'offence',\n",
       " 'offences',\n",
       " 'offending',\n",
       " 'offered',\n",
       " 'offices',\n",
       " 'oftener',\n",
       " 'oftenest',\n",
       " 'oldest',\n",
       " 'olives',\n",
       " 'omitted',\n",
       " 'ones',\n",
       " 'opened',\n",
       " 'opinions',\n",
       " 'opportunities',\n",
       " 'ordained',\n",
       " 'orders',\n",
       " 'originated',\n",
       " 'ornamented',\n",
       " 'ornaments',\n",
       " 'others',\n",
       " 'outdone',\n",
       " ...]"
      ]
     },
     "execution_count": 192,
     "metadata": {},
     "output_type": "execute_result"
    }
   ],
   "source": [
    "unusual_words(nltk.corpus.gutenberg.words(\"austen-sense.txt\"))\n",
    "# palabras inusuales"
   ]
  },
  {
   "cell_type": "code",
   "execution_count": 193,
   "metadata": {},
   "outputs": [],
   "source": [
    "from nltk.corpus import stopwords"
   ]
  },
  {
   "cell_type": "code",
   "execution_count": 194,
   "metadata": {},
   "outputs": [
    {
     "data": {
      "text/plain": [
       "['i',\n",
       " 'me',\n",
       " 'my',\n",
       " 'myself',\n",
       " 'we',\n",
       " 'our',\n",
       " 'ours',\n",
       " 'ourselves',\n",
       " 'you',\n",
       " \"you're\",\n",
       " \"you've\",\n",
       " \"you'll\",\n",
       " \"you'd\",\n",
       " 'your',\n",
       " 'yours',\n",
       " 'yourself',\n",
       " 'yourselves',\n",
       " 'he',\n",
       " 'him',\n",
       " 'his',\n",
       " 'himself',\n",
       " 'she',\n",
       " \"she's\",\n",
       " 'her',\n",
       " 'hers',\n",
       " 'herself',\n",
       " 'it',\n",
       " \"it's\",\n",
       " 'its',\n",
       " 'itself',\n",
       " 'they',\n",
       " 'them',\n",
       " 'their',\n",
       " 'theirs',\n",
       " 'themselves',\n",
       " 'what',\n",
       " 'which',\n",
       " 'who',\n",
       " 'whom',\n",
       " 'this',\n",
       " 'that',\n",
       " \"that'll\",\n",
       " 'these',\n",
       " 'those',\n",
       " 'am',\n",
       " 'is',\n",
       " 'are',\n",
       " 'was',\n",
       " 'were',\n",
       " 'be',\n",
       " 'been',\n",
       " 'being',\n",
       " 'have',\n",
       " 'has',\n",
       " 'had',\n",
       " 'having',\n",
       " 'do',\n",
       " 'does',\n",
       " 'did',\n",
       " 'doing',\n",
       " 'a',\n",
       " 'an',\n",
       " 'the',\n",
       " 'and',\n",
       " 'but',\n",
       " 'if',\n",
       " 'or',\n",
       " 'because',\n",
       " 'as',\n",
       " 'until',\n",
       " 'while',\n",
       " 'of',\n",
       " 'at',\n",
       " 'by',\n",
       " 'for',\n",
       " 'with',\n",
       " 'about',\n",
       " 'against',\n",
       " 'between',\n",
       " 'into',\n",
       " 'through',\n",
       " 'during',\n",
       " 'before',\n",
       " 'after',\n",
       " 'above',\n",
       " 'below',\n",
       " 'to',\n",
       " 'from',\n",
       " 'up',\n",
       " 'down',\n",
       " 'in',\n",
       " 'out',\n",
       " 'on',\n",
       " 'off',\n",
       " 'over',\n",
       " 'under',\n",
       " 'again',\n",
       " 'further',\n",
       " 'then',\n",
       " 'once',\n",
       " 'here',\n",
       " 'there',\n",
       " 'when',\n",
       " 'where',\n",
       " 'why',\n",
       " 'how',\n",
       " 'all',\n",
       " 'any',\n",
       " 'both',\n",
       " 'each',\n",
       " 'few',\n",
       " 'more',\n",
       " 'most',\n",
       " 'other',\n",
       " 'some',\n",
       " 'such',\n",
       " 'no',\n",
       " 'nor',\n",
       " 'not',\n",
       " 'only',\n",
       " 'own',\n",
       " 'same',\n",
       " 'so',\n",
       " 'than',\n",
       " 'too',\n",
       " 'very',\n",
       " 's',\n",
       " 't',\n",
       " 'can',\n",
       " 'will',\n",
       " 'just',\n",
       " 'don',\n",
       " \"don't\",\n",
       " 'should',\n",
       " \"should've\",\n",
       " 'now',\n",
       " 'd',\n",
       " 'll',\n",
       " 'm',\n",
       " 'o',\n",
       " 're',\n",
       " 've',\n",
       " 'y',\n",
       " 'ain',\n",
       " 'aren',\n",
       " \"aren't\",\n",
       " 'couldn',\n",
       " \"couldn't\",\n",
       " 'didn',\n",
       " \"didn't\",\n",
       " 'doesn',\n",
       " \"doesn't\",\n",
       " 'hadn',\n",
       " \"hadn't\",\n",
       " 'hasn',\n",
       " \"hasn't\",\n",
       " 'haven',\n",
       " \"haven't\",\n",
       " 'isn',\n",
       " \"isn't\",\n",
       " 'ma',\n",
       " 'mightn',\n",
       " \"mightn't\",\n",
       " 'mustn',\n",
       " \"mustn't\",\n",
       " 'needn',\n",
       " \"needn't\",\n",
       " 'shan',\n",
       " \"shan't\",\n",
       " 'shouldn',\n",
       " \"shouldn't\",\n",
       " 'wasn',\n",
       " \"wasn't\",\n",
       " 'weren',\n",
       " \"weren't\",\n",
       " 'won',\n",
       " \"won't\",\n",
       " 'wouldn',\n",
       " \"wouldn't\"]"
      ]
     },
     "execution_count": 194,
     "metadata": {},
     "output_type": "execute_result"
    }
   ],
   "source": [
    "stopwords.words(\"english\")\n",
    "# palabras comunes que no añaden informacion ene l idioma, las mas usuadas en si mismo"
   ]
  },
  {
   "cell_type": "code",
   "execution_count": 195,
   "metadata": {},
   "outputs": [
    {
     "data": {
      "text/plain": [
       "['arabic',\n",
       " 'azerbaijani',\n",
       " 'bengali',\n",
       " 'danish',\n",
       " 'dutch',\n",
       " 'english',\n",
       " 'finnish',\n",
       " 'french',\n",
       " 'german',\n",
       " 'greek',\n",
       " 'hungarian',\n",
       " 'indonesian',\n",
       " 'italian',\n",
       " 'kazakh',\n",
       " 'nepali',\n",
       " 'norwegian',\n",
       " 'portuguese',\n",
       " 'romanian',\n",
       " 'russian',\n",
       " 'slovene',\n",
       " 'spanish',\n",
       " 'swedish',\n",
       " 'tajik',\n",
       " 'turkish']"
      ]
     },
     "execution_count": 195,
     "metadata": {},
     "output_type": "execute_result"
    }
   ],
   "source": [
    "stopwords.fileids()"
   ]
  },
  {
   "cell_type": "code",
   "execution_count": 196,
   "metadata": {},
   "outputs": [
    {
     "data": {
      "text/plain": [
       "['de',\n",
       " 'la',\n",
       " 'que',\n",
       " 'el',\n",
       " 'en',\n",
       " 'y',\n",
       " 'a',\n",
       " 'los',\n",
       " 'del',\n",
       " 'se',\n",
       " 'las',\n",
       " 'por',\n",
       " 'un',\n",
       " 'para',\n",
       " 'con',\n",
       " 'no',\n",
       " 'una',\n",
       " 'su',\n",
       " 'al',\n",
       " 'lo',\n",
       " 'como',\n",
       " 'más',\n",
       " 'pero',\n",
       " 'sus',\n",
       " 'le',\n",
       " 'ya',\n",
       " 'o',\n",
       " 'este',\n",
       " 'sí',\n",
       " 'porque',\n",
       " 'esta',\n",
       " 'entre',\n",
       " 'cuando',\n",
       " 'muy',\n",
       " 'sin',\n",
       " 'sobre',\n",
       " 'también',\n",
       " 'me',\n",
       " 'hasta',\n",
       " 'hay',\n",
       " 'donde',\n",
       " 'quien',\n",
       " 'desde',\n",
       " 'todo',\n",
       " 'nos',\n",
       " 'durante',\n",
       " 'todos',\n",
       " 'uno',\n",
       " 'les',\n",
       " 'ni',\n",
       " 'contra',\n",
       " 'otros',\n",
       " 'ese',\n",
       " 'eso',\n",
       " 'ante',\n",
       " 'ellos',\n",
       " 'e',\n",
       " 'esto',\n",
       " 'mí',\n",
       " 'antes',\n",
       " 'algunos',\n",
       " 'qué',\n",
       " 'unos',\n",
       " 'yo',\n",
       " 'otro',\n",
       " 'otras',\n",
       " 'otra',\n",
       " 'él',\n",
       " 'tanto',\n",
       " 'esa',\n",
       " 'estos',\n",
       " 'mucho',\n",
       " 'quienes',\n",
       " 'nada',\n",
       " 'muchos',\n",
       " 'cual',\n",
       " 'poco',\n",
       " 'ella',\n",
       " 'estar',\n",
       " 'estas',\n",
       " 'algunas',\n",
       " 'algo',\n",
       " 'nosotros',\n",
       " 'mi',\n",
       " 'mis',\n",
       " 'tú',\n",
       " 'te',\n",
       " 'ti',\n",
       " 'tu',\n",
       " 'tus',\n",
       " 'ellas',\n",
       " 'nosotras',\n",
       " 'vosotros',\n",
       " 'vosotras',\n",
       " 'os',\n",
       " 'mío',\n",
       " 'mía',\n",
       " 'míos',\n",
       " 'mías',\n",
       " 'tuyo',\n",
       " 'tuya',\n",
       " 'tuyos',\n",
       " 'tuyas',\n",
       " 'suyo',\n",
       " 'suya',\n",
       " 'suyos',\n",
       " 'suyas',\n",
       " 'nuestro',\n",
       " 'nuestra',\n",
       " 'nuestros',\n",
       " 'nuestras',\n",
       " 'vuestro',\n",
       " 'vuestra',\n",
       " 'vuestros',\n",
       " 'vuestras',\n",
       " 'esos',\n",
       " 'esas',\n",
       " 'estoy',\n",
       " 'estás',\n",
       " 'está',\n",
       " 'estamos',\n",
       " 'estáis',\n",
       " 'están',\n",
       " 'esté',\n",
       " 'estés',\n",
       " 'estemos',\n",
       " 'estéis',\n",
       " 'estén',\n",
       " 'estaré',\n",
       " 'estarás',\n",
       " 'estará',\n",
       " 'estaremos',\n",
       " 'estaréis',\n",
       " 'estarán',\n",
       " 'estaría',\n",
       " 'estarías',\n",
       " 'estaríamos',\n",
       " 'estaríais',\n",
       " 'estarían',\n",
       " 'estaba',\n",
       " 'estabas',\n",
       " 'estábamos',\n",
       " 'estabais',\n",
       " 'estaban',\n",
       " 'estuve',\n",
       " 'estuviste',\n",
       " 'estuvo',\n",
       " 'estuvimos',\n",
       " 'estuvisteis',\n",
       " 'estuvieron',\n",
       " 'estuviera',\n",
       " 'estuvieras',\n",
       " 'estuviéramos',\n",
       " 'estuvierais',\n",
       " 'estuvieran',\n",
       " 'estuviese',\n",
       " 'estuvieses',\n",
       " 'estuviésemos',\n",
       " 'estuvieseis',\n",
       " 'estuviesen',\n",
       " 'estando',\n",
       " 'estado',\n",
       " 'estada',\n",
       " 'estados',\n",
       " 'estadas',\n",
       " 'estad',\n",
       " 'he',\n",
       " 'has',\n",
       " 'ha',\n",
       " 'hemos',\n",
       " 'habéis',\n",
       " 'han',\n",
       " 'haya',\n",
       " 'hayas',\n",
       " 'hayamos',\n",
       " 'hayáis',\n",
       " 'hayan',\n",
       " 'habré',\n",
       " 'habrás',\n",
       " 'habrá',\n",
       " 'habremos',\n",
       " 'habréis',\n",
       " 'habrán',\n",
       " 'habría',\n",
       " 'habrías',\n",
       " 'habríamos',\n",
       " 'habríais',\n",
       " 'habrían',\n",
       " 'había',\n",
       " 'habías',\n",
       " 'habíamos',\n",
       " 'habíais',\n",
       " 'habían',\n",
       " 'hube',\n",
       " 'hubiste',\n",
       " 'hubo',\n",
       " 'hubimos',\n",
       " 'hubisteis',\n",
       " 'hubieron',\n",
       " 'hubiera',\n",
       " 'hubieras',\n",
       " 'hubiéramos',\n",
       " 'hubierais',\n",
       " 'hubieran',\n",
       " 'hubiese',\n",
       " 'hubieses',\n",
       " 'hubiésemos',\n",
       " 'hubieseis',\n",
       " 'hubiesen',\n",
       " 'habiendo',\n",
       " 'habido',\n",
       " 'habida',\n",
       " 'habidos',\n",
       " 'habidas',\n",
       " 'soy',\n",
       " 'eres',\n",
       " 'es',\n",
       " 'somos',\n",
       " 'sois',\n",
       " 'son',\n",
       " 'sea',\n",
       " 'seas',\n",
       " 'seamos',\n",
       " 'seáis',\n",
       " 'sean',\n",
       " 'seré',\n",
       " 'serás',\n",
       " 'será',\n",
       " 'seremos',\n",
       " 'seréis',\n",
       " 'serán',\n",
       " 'sería',\n",
       " 'serías',\n",
       " 'seríamos',\n",
       " 'seríais',\n",
       " 'serían',\n",
       " 'era',\n",
       " 'eras',\n",
       " 'éramos',\n",
       " 'erais',\n",
       " 'eran',\n",
       " 'fui',\n",
       " 'fuiste',\n",
       " 'fue',\n",
       " 'fuimos',\n",
       " 'fuisteis',\n",
       " 'fueron',\n",
       " 'fuera',\n",
       " 'fueras',\n",
       " 'fuéramos',\n",
       " 'fuerais',\n",
       " 'fueran',\n",
       " 'fuese',\n",
       " 'fueses',\n",
       " 'fuésemos',\n",
       " 'fueseis',\n",
       " 'fuesen',\n",
       " 'sintiendo',\n",
       " 'sentido',\n",
       " 'sentida',\n",
       " 'sentidos',\n",
       " 'sentidas',\n",
       " 'siente',\n",
       " 'sentid',\n",
       " 'tengo',\n",
       " 'tienes',\n",
       " 'tiene',\n",
       " 'tenemos',\n",
       " 'tenéis',\n",
       " 'tienen',\n",
       " 'tenga',\n",
       " 'tengas',\n",
       " 'tengamos',\n",
       " 'tengáis',\n",
       " 'tengan',\n",
       " 'tendré',\n",
       " 'tendrás',\n",
       " 'tendrá',\n",
       " 'tendremos',\n",
       " 'tendréis',\n",
       " 'tendrán',\n",
       " 'tendría',\n",
       " 'tendrías',\n",
       " 'tendríamos',\n",
       " 'tendríais',\n",
       " 'tendrían',\n",
       " 'tenía',\n",
       " 'tenías',\n",
       " 'teníamos',\n",
       " 'teníais',\n",
       " 'tenían',\n",
       " 'tuve',\n",
       " 'tuviste',\n",
       " 'tuvo',\n",
       " 'tuvimos',\n",
       " 'tuvisteis',\n",
       " 'tuvieron',\n",
       " 'tuviera',\n",
       " 'tuvieras',\n",
       " 'tuviéramos',\n",
       " 'tuvierais',\n",
       " 'tuvieran',\n",
       " 'tuviese',\n",
       " 'tuvieses',\n",
       " 'tuviésemos',\n",
       " 'tuvieseis',\n",
       " 'tuviesen',\n",
       " 'teniendo',\n",
       " 'tenido',\n",
       " 'tenida',\n",
       " 'tenidos',\n",
       " 'tenidas',\n",
       " 'tened']"
      ]
     },
     "execution_count": 196,
     "metadata": {},
     "output_type": "execute_result"
    }
   ],
   "source": [
    "stopwords.words(\"spanish\")\n",
    "# para español lo mismo"
   ]
  },
  {
   "cell_type": "code",
   "execution_count": 197,
   "metadata": {},
   "outputs": [],
   "source": [
    "names = nltk.corpus.names"
   ]
  },
  {
   "cell_type": "code",
   "execution_count": 198,
   "metadata": {},
   "outputs": [
    {
     "data": {
      "text/plain": [
       "['female.txt', 'male.txt']"
      ]
     },
     "execution_count": 198,
     "metadata": {},
     "output_type": "execute_result"
    }
   ],
   "source": [
    "names.fileids()"
   ]
  },
  {
   "cell_type": "code",
   "execution_count": 199,
   "metadata": {},
   "outputs": [],
   "source": [
    "male_names = names.words(\"male.txt\")"
   ]
  },
  {
   "cell_type": "code",
   "execution_count": 200,
   "metadata": {},
   "outputs": [
    {
     "data": {
      "text/plain": [
       "['Aamir', 'Aaron', 'Abbey', 'Abbie', 'Abbot']"
      ]
     },
     "execution_count": 200,
     "metadata": {},
     "output_type": "execute_result"
    }
   ],
   "source": [
    "male_names[:5]"
   ]
  },
  {
   "cell_type": "code",
   "execution_count": 201,
   "metadata": {},
   "outputs": [],
   "source": [
    "female_names = names.words(\"female.txt\")"
   ]
  },
  {
   "cell_type": "code",
   "execution_count": 202,
   "metadata": {},
   "outputs": [
    {
     "data": {
      "text/plain": [
       "['Abagael', 'Abagail', 'Abbe', 'Abbey', 'Abbi']"
      ]
     },
     "execution_count": 202,
     "metadata": {},
     "output_type": "execute_result"
    }
   ],
   "source": [
    "female_names[:5]"
   ]
  },
  {
   "cell_type": "code",
   "execution_count": 203,
   "metadata": {},
   "outputs": [],
   "source": [
    "cfd = nltk.ConditionalFreqDist(\n",
    "                (fileid, name[-1])\n",
    "                for fileid in names.fileids()\n",
    "                for name in names.words(fileid))"
   ]
  },
  {
   "cell_type": "code",
   "execution_count": 204,
   "metadata": {},
   "outputs": [
    {
     "data": {
      "text/plain": [
       "<ConditionalFreqDist with 2 conditions>"
      ]
     },
     "execution_count": 204,
     "metadata": {},
     "output_type": "execute_result"
    }
   ],
   "source": [
    "cfd"
   ]
  },
  {
   "cell_type": "code",
   "execution_count": 205,
   "metadata": {},
   "outputs": [
    {
     "data": {
      "text/plain": [
       "['female.txt', 'male.txt']"
      ]
     },
     "execution_count": 205,
     "metadata": {},
     "output_type": "execute_result"
    }
   ],
   "source": [
    "cfd.conditions()"
   ]
  },
  {
   "cell_type": "code",
   "execution_count": 206,
   "metadata": {},
   "outputs": [
    {
     "data": {
      "text/plain": [
       "FreqDist({'a': 1773, 'e': 1432, 'y': 461, 'n': 386, 'i': 317, 'l': 179, 'h': 105, 's': 93, 't': 68, 'r': 47, ...})"
      ]
     },
     "execution_count": 206,
     "metadata": {},
     "output_type": "execute_result"
    }
   ],
   "source": [
    "cfd[\"female.txt\"]"
   ]
  },
  {
   "cell_type": "code",
   "execution_count": 207,
   "metadata": {},
   "outputs": [
    {
     "data": {
      "text/plain": [
       "FreqDist({'n': 478, 'e': 468, 'y': 332, 's': 230, 'd': 228, 'r': 190, 'l': 187, 'o': 165, 't': 164, 'h': 93, ...})"
      ]
     },
     "execution_count": 207,
     "metadata": {},
     "output_type": "execute_result"
    }
   ],
   "source": [
    "cfd[\"male.txt\"]"
   ]
  },
  {
   "cell_type": "code",
   "execution_count": 208,
   "metadata": {},
   "outputs": [
    {
     "data": {
      "image/png": "[encoded data removed]",
      "text/plain": [
       "<Figure size 432x288 with 1 Axes>"
      ]
     },
     "metadata": {
      "needs_background": "light"
     },
     "output_type": "display_data"
    },
    {
     "data": {
      "text/plain": [
       "<AxesSubplot:xlabel='Samples', ylabel='Counts'>"
      ]
     },
     "execution_count": 208,
     "metadata": {},
     "output_type": "execute_result"
    }
   ],
   "source": [
    "cfd.plot()"
   ]
  },
  {
   "cell_type": "code",
   "execution_count": 209,
   "metadata": {},
   "outputs": [],
   "source": [
    "entries = nltk.corpus.cmudict.entries()"
   ]
  },
  {
   "cell_type": "code",
   "execution_count": 210,
   "metadata": {},
   "outputs": [
    {
     "data": {
      "text/plain": [
       "133737"
      ]
     },
     "execution_count": 210,
     "metadata": {},
     "output_type": "execute_result"
    }
   ],
   "source": [
    "len(entries)\n",
    "# especificacion acustica de 133 mil palabras"
   ]
  },
  {
   "cell_type": "code",
   "execution_count": 211,
   "metadata": {},
   "outputs": [
    {
     "data": {
      "text/plain": [
       "[('a', ['AH0']),\n",
       " ('a.', ['EY1']),\n",
       " ('a', ['EY1']),\n",
       " ('a42128',\n",
       "  ['EY1',\n",
       "   'F',\n",
       "   'AO1',\n",
       "   'R',\n",
       "   'T',\n",
       "   'UW1',\n",
       "   'W',\n",
       "   'AH1',\n",
       "   'N',\n",
       "   'T',\n",
       "   'UW1',\n",
       "   'EY1',\n",
       "   'T']),\n",
       " ('aaa', ['T', 'R', 'IH2', 'P', 'AH0', 'L', 'EY1'])]"
      ]
     },
     "execution_count": 211,
     "metadata": {},
     "output_type": "execute_result"
    }
   ],
   "source": [
    "entries[:5]"
   ]
  },
  {
   "cell_type": "code",
   "execution_count": 212,
   "metadata": {},
   "outputs": [],
   "source": [
    "m_n = [(w,p) for (w,p) in entries if len(w) == 3 and w.startswith('m') and w.endswith('n')]"
   ]
  },
  {
   "cell_type": "code",
   "execution_count": 213,
   "metadata": {},
   "outputs": [
    {
     "name": "stdout",
     "output_type": "stream",
     "text": [
      "('man', ['M', 'AE1', 'N'])\n",
      "('men', ['M', 'EH1', 'N'])\n",
      "('min', ['M', 'IH1', 'N'])\n",
      "('mon', ['M', 'OW1', 'N'])\n",
      "('mon', ['M', 'AA1', 'N'])\n",
      "('mun', ['M', 'AH1', 'N'])\n"
     ]
    }
   ],
   "source": [
    "for w in m_n:\n",
    "    print(w)"
   ]
  },
  {
   "cell_type": "code",
   "execution_count": 214,
   "metadata": {},
   "outputs": [
    {
     "name": "stdout",
     "output_type": "stream",
     "text": [
      "('fire', ['F', 'AY1', 'ER0'])\n",
      "('fire', ['F', 'AY1', 'R'])\n"
     ]
    }
   ],
   "source": [
    "for entry in entries[42372:42374]:\n",
    "    print(entry)"
   ]
  },
  {
   "cell_type": "code",
   "execution_count": 215,
   "metadata": {},
   "outputs": [],
   "source": [
    "prondict = nltk.corpus.cmudict.dict()"
   ]
  },
  {
   "cell_type": "code",
   "execution_count": 216,
   "metadata": {},
   "outputs": [
    {
     "data": {
      "text/plain": [
       "dict"
      ]
     },
     "execution_count": 216,
     "metadata": {},
     "output_type": "execute_result"
    }
   ],
   "source": [
    "type(prondict)"
   ]
  },
  {
   "cell_type": "code",
   "execution_count": 217,
   "metadata": {},
   "outputs": [
    {
     "data": {
      "text/plain": [
       "123455"
      ]
     },
     "execution_count": 217,
     "metadata": {},
     "output_type": "execute_result"
    }
   ],
   "source": [
    "len(prondict.keys())"
   ]
  },
  {
   "cell_type": "code",
   "execution_count": 218,
   "metadata": {},
   "outputs": [
    {
     "data": {
      "text/plain": [
       "['a', 'a.', 'a42128', 'aaa', 'aaberg']"
      ]
     },
     "execution_count": 218,
     "metadata": {},
     "output_type": "execute_result"
    }
   ],
   "source": [
    "list(prondict.keys())[:5]"
   ]
  },
  {
   "cell_type": "code",
   "execution_count": 219,
   "metadata": {},
   "outputs": [
    {
     "data": {
      "text/plain": [
       "[['AH0'], ['EY1']]"
      ]
     },
     "execution_count": 219,
     "metadata": {},
     "output_type": "execute_result"
    }
   ],
   "source": [
    "prondict[\"a\"]"
   ]
  },
  {
   "cell_type": "code",
   "execution_count": 220,
   "metadata": {},
   "outputs": [
    {
     "data": {
      "text/plain": [
       "[['M', 'AE1', 'N']]"
      ]
     },
     "execution_count": 220,
     "metadata": {},
     "output_type": "execute_result"
    }
   ],
   "source": [
    "prondict[\"man\"]"
   ]
  },
  {
   "cell_type": "code",
   "execution_count": 221,
   "metadata": {},
   "outputs": [
    {
     "data": {
      "text/plain": [
       "[['R', 'IY0', 'P', 'AO1', 'R', 'T'], ['R', 'IH0', 'P', 'AO1', 'R', 'T']]"
      ]
     },
     "execution_count": 221,
     "metadata": {},
     "output_type": "execute_result"
    }
   ],
   "source": [
    "prondict[\"report\"]"
   ]
  },
  {
   "cell_type": "code",
   "execution_count": 222,
   "metadata": {},
   "outputs": [],
   "source": [
    "def synthesize(sentence):\n",
    "    return [ph for w in sentence for ph in prondict[w.lower()][0]]"
   ]
  },
  {
   "cell_type": "code",
   "execution_count": 223,
   "metadata": {},
   "outputs": [
    {
     "data": {
      "text/plain": [
       "['M', 'AE1', 'N']"
      ]
     },
     "execution_count": 223,
     "metadata": {},
     "output_type": "execute_result"
    }
   ],
   "source": [
    "synthesize([\"man\"])"
   ]
  },
  {
   "cell_type": "code",
   "execution_count": 224,
   "metadata": {},
   "outputs": [
    {
     "data": {
      "text/plain": [
       "['HH',\n",
       " 'AH0',\n",
       " 'L',\n",
       " 'OW1',\n",
       " 'M',\n",
       " 'AY1',\n",
       " 'N',\n",
       " 'EY1',\n",
       " 'M',\n",
       " 'IH1',\n",
       " 'Z',\n",
       " 'P',\n",
       " 'IY1',\n",
       " 'T',\n",
       " 'ER0']"
      ]
     },
     "execution_count": 224,
     "metadata": {},
     "output_type": "execute_result"
    }
   ],
   "source": [
    "synthesize([\"Hello\",\"My\",\"name\",\"is\",\"Peter\"])\n",
    "# como pronunciarlo aunque nos iempre es lineal porque hay  silbas que tienen mas de una pronunciacion"
   ]
  },
  {
   "cell_type": "code",
   "execution_count": 225,
   "metadata": {},
   "outputs": [],
   "source": [
    "from nltk.corpus import swadesh"
   ]
  },
  {
   "cell_type": "code",
   "execution_count": 226,
   "metadata": {},
   "outputs": [
    {
     "data": {
      "text/plain": [
       "['be',\n",
       " 'bg',\n",
       " 'bs',\n",
       " 'ca',\n",
       " 'cs',\n",
       " 'cu',\n",
       " 'de',\n",
       " 'en',\n",
       " 'es',\n",
       " 'fr',\n",
       " 'hr',\n",
       " 'it',\n",
       " 'la',\n",
       " 'mk',\n",
       " 'nl',\n",
       " 'pl',\n",
       " 'pt',\n",
       " 'ro',\n",
       " 'ru',\n",
       " 'sk',\n",
       " 'sl',\n",
       " 'sr',\n",
       " 'sw',\n",
       " 'uk']"
      ]
     },
     "execution_count": 226,
     "metadata": {},
     "output_type": "execute_result"
    }
   ],
   "source": [
    "swadesh.fileids()"
   ]
  },
  {
   "cell_type": "code",
   "execution_count": 227,
   "metadata": {},
   "outputs": [
    {
     "data": {
      "text/plain": [
       "['I',\n",
       " 'you (singular), thou',\n",
       " 'he',\n",
       " 'we',\n",
       " 'you (plural)',\n",
       " 'they',\n",
       " 'this',\n",
       " 'that',\n",
       " 'here',\n",
       " 'there',\n",
       " 'who',\n",
       " 'what',\n",
       " 'where',\n",
       " 'when',\n",
       " 'how',\n",
       " 'not',\n",
       " 'all',\n",
       " 'many',\n",
       " 'some',\n",
       " 'few',\n",
       " 'other',\n",
       " 'one',\n",
       " 'two',\n",
       " 'three',\n",
       " 'four',\n",
       " 'five',\n",
       " 'big',\n",
       " 'long',\n",
       " 'wide',\n",
       " 'thick',\n",
       " 'heavy',\n",
       " 'small',\n",
       " 'short',\n",
       " 'narrow',\n",
       " 'thin',\n",
       " 'woman',\n",
       " 'man (adult male)',\n",
       " 'man (human being)',\n",
       " 'child',\n",
       " 'wife',\n",
       " 'husband',\n",
       " 'mother',\n",
       " 'father',\n",
       " 'animal',\n",
       " 'fish',\n",
       " 'bird',\n",
       " 'dog',\n",
       " 'louse',\n",
       " 'snake',\n",
       " 'worm',\n",
       " 'tree',\n",
       " 'forest',\n",
       " 'stick',\n",
       " 'fruit',\n",
       " 'seed',\n",
       " 'leaf',\n",
       " 'root',\n",
       " 'bark (from tree)',\n",
       " 'flower',\n",
       " 'grass',\n",
       " 'rope',\n",
       " 'skin',\n",
       " 'meat',\n",
       " 'blood',\n",
       " 'bone',\n",
       " 'fat (noun)',\n",
       " 'egg',\n",
       " 'horn',\n",
       " 'tail',\n",
       " 'feather',\n",
       " 'hair',\n",
       " 'head',\n",
       " 'ear',\n",
       " 'eye',\n",
       " 'nose',\n",
       " 'mouth',\n",
       " 'tooth',\n",
       " 'tongue',\n",
       " 'fingernail',\n",
       " 'foot',\n",
       " 'leg',\n",
       " 'knee',\n",
       " 'hand',\n",
       " 'wing',\n",
       " 'belly',\n",
       " 'guts',\n",
       " 'neck',\n",
       " 'back',\n",
       " 'breast',\n",
       " 'heart',\n",
       " 'liver',\n",
       " 'drink',\n",
       " 'eat',\n",
       " 'bite',\n",
       " 'suck',\n",
       " 'spit',\n",
       " 'vomit',\n",
       " 'blow',\n",
       " 'breathe',\n",
       " 'laugh',\n",
       " 'see',\n",
       " 'hear',\n",
       " 'know (a fact)',\n",
       " 'think',\n",
       " 'smell',\n",
       " 'fear',\n",
       " 'sleep',\n",
       " 'live',\n",
       " 'die',\n",
       " 'kill',\n",
       " 'fight',\n",
       " 'hunt',\n",
       " 'hit',\n",
       " 'cut',\n",
       " 'split',\n",
       " 'stab',\n",
       " 'scratch',\n",
       " 'dig',\n",
       " 'swim',\n",
       " 'fly (verb)',\n",
       " 'walk',\n",
       " 'come',\n",
       " 'lie',\n",
       " 'sit',\n",
       " 'stand',\n",
       " 'turn',\n",
       " 'fall',\n",
       " 'give',\n",
       " 'hold',\n",
       " 'squeeze',\n",
       " 'rub',\n",
       " 'wash',\n",
       " 'wipe',\n",
       " 'pull',\n",
       " 'push',\n",
       " 'throw',\n",
       " 'tie',\n",
       " 'sew',\n",
       " 'count',\n",
       " 'say',\n",
       " 'sing',\n",
       " 'play',\n",
       " 'float',\n",
       " 'flow',\n",
       " 'freeze',\n",
       " 'swell',\n",
       " 'sun',\n",
       " 'moon',\n",
       " 'star',\n",
       " 'water',\n",
       " 'rain',\n",
       " 'river',\n",
       " 'lake',\n",
       " 'sea',\n",
       " 'salt',\n",
       " 'stone',\n",
       " 'sand',\n",
       " 'dust',\n",
       " 'earth',\n",
       " 'cloud',\n",
       " 'fog',\n",
       " 'sky',\n",
       " 'wind',\n",
       " 'snow',\n",
       " 'ice',\n",
       " 'smoke',\n",
       " 'fire',\n",
       " 'ashes',\n",
       " 'burn',\n",
       " 'road',\n",
       " 'mountain',\n",
       " 'red',\n",
       " 'green',\n",
       " 'yellow',\n",
       " 'white',\n",
       " 'black',\n",
       " 'night',\n",
       " 'day',\n",
       " 'year',\n",
       " 'warm',\n",
       " 'cold',\n",
       " 'full',\n",
       " 'new',\n",
       " 'old',\n",
       " 'good',\n",
       " 'bad',\n",
       " 'rotten',\n",
       " 'dirty',\n",
       " 'straight',\n",
       " 'round',\n",
       " 'sharp',\n",
       " 'dull',\n",
       " 'smooth',\n",
       " 'wet',\n",
       " 'dry',\n",
       " 'correct',\n",
       " 'near',\n",
       " 'far',\n",
       " 'right',\n",
       " 'left',\n",
       " 'at',\n",
       " 'in',\n",
       " 'with',\n",
       " 'and',\n",
       " 'if',\n",
       " 'because',\n",
       " 'name']"
      ]
     },
     "execution_count": 227,
     "metadata": {},
     "output_type": "execute_result"
    }
   ],
   "source": [
    "swadesh.words(\"en\")"
   ]
  },
  {
   "cell_type": "code",
   "execution_count": 228,
   "metadata": {},
   "outputs": [
    {
     "data": {
      "text/plain": [
       "['yo',\n",
       " 'tú, usted',\n",
       " 'él',\n",
       " 'nosotros',\n",
       " 'vosotros, ustedes',\n",
       " 'ellos, ellas',\n",
       " 'este',\n",
       " 'ese, aquel',\n",
       " 'aquí, acá',\n",
       " 'ahí, allí, allá',\n",
       " 'quien',\n",
       " 'que',\n",
       " 'donde',\n",
       " 'cuando',\n",
       " 'como',\n",
       " 'no',\n",
       " 'todo',\n",
       " 'muchos',\n",
       " 'algunos, unos',\n",
       " 'poco',\n",
       " 'otro',\n",
       " 'uno',\n",
       " 'dos',\n",
       " 'tres',\n",
       " 'cuatro',\n",
       " 'cinco',\n",
       " 'grande',\n",
       " 'largo',\n",
       " 'ancho',\n",
       " 'gordo',\n",
       " 'pesado',\n",
       " 'pequeño',\n",
       " 'corto',\n",
       " 'estrecho, angosto',\n",
       " 'delgado, flaco',\n",
       " 'mujer',\n",
       " 'hombre',\n",
       " 'hombre',\n",
       " 'niño',\n",
       " 'esposa, mujer',\n",
       " 'esposo, marido',\n",
       " 'madre',\n",
       " 'padre',\n",
       " 'animal',\n",
       " 'pez, pescado',\n",
       " 'ave, pájaro',\n",
       " 'perro',\n",
       " 'piojo',\n",
       " 'serpiente, culebra',\n",
       " 'gusano',\n",
       " 'árbol',\n",
       " 'bosque',\n",
       " 'palo',\n",
       " 'fruta',\n",
       " 'semilla',\n",
       " 'hoja',\n",
       " 'raíz',\n",
       " 'corteza',\n",
       " 'flor',\n",
       " 'hierba, pasto',\n",
       " 'cuerda',\n",
       " 'piel',\n",
       " 'carne',\n",
       " 'sangre',\n",
       " 'hueso',\n",
       " 'grasa',\n",
       " 'huevo',\n",
       " 'cuerno',\n",
       " 'cola',\n",
       " 'pluma',\n",
       " 'cabello, pelo',\n",
       " 'cabeza',\n",
       " 'oreja',\n",
       " 'ojo',\n",
       " 'nariz',\n",
       " 'boca',\n",
       " 'diente',\n",
       " 'lengua',\n",
       " 'uña',\n",
       " 'pie',\n",
       " 'pierna',\n",
       " 'rodilla',\n",
       " 'mano',\n",
       " 'ala',\n",
       " 'barriga, vientre, panza',\n",
       " 'entrañas, tripas',\n",
       " 'cuello',\n",
       " 'espalda',\n",
       " 'pecho, seno',\n",
       " 'corazón',\n",
       " 'hígado',\n",
       " 'beber, tomar',\n",
       " 'comer',\n",
       " 'morder',\n",
       " 'chupar',\n",
       " 'escupir',\n",
       " 'vomitar',\n",
       " 'soplar',\n",
       " 'respirar',\n",
       " 'reír',\n",
       " 'ver',\n",
       " 'oír',\n",
       " 'saber',\n",
       " 'pensar',\n",
       " 'oler',\n",
       " 'temer',\n",
       " 'dormir',\n",
       " 'vivir',\n",
       " 'morir',\n",
       " 'matar',\n",
       " 'pelear',\n",
       " 'cazar',\n",
       " 'golpear',\n",
       " 'cortar',\n",
       " 'partir',\n",
       " 'apuñalar',\n",
       " 'arañar, rascar',\n",
       " 'cavar',\n",
       " 'nadar',\n",
       " 'volar',\n",
       " 'caminar',\n",
       " 'venir',\n",
       " 'echarse, acostarse, tenderse',\n",
       " 'sentarse',\n",
       " 'estar de pie',\n",
       " 'voltear',\n",
       " 'caer',\n",
       " 'dar',\n",
       " 'sostener',\n",
       " 'apretar',\n",
       " 'frotar',\n",
       " 'lavar',\n",
       " 'limpiar',\n",
       " 'tirar',\n",
       " 'empujar',\n",
       " 'tirar',\n",
       " 'atar',\n",
       " 'coser',\n",
       " 'contar',\n",
       " 'decir',\n",
       " 'cantar',\n",
       " 'jugar',\n",
       " 'flotar',\n",
       " 'fluir',\n",
       " 'helar',\n",
       " 'hincharse',\n",
       " 'sol',\n",
       " 'luna',\n",
       " 'estrella',\n",
       " 'agua',\n",
       " 'lluvia',\n",
       " 'río',\n",
       " 'lago',\n",
       " 'mar',\n",
       " 'sal',\n",
       " 'piedra',\n",
       " 'arena',\n",
       " 'polvo',\n",
       " 'tierra',\n",
       " 'nube',\n",
       " 'niebla',\n",
       " 'cielo',\n",
       " 'viento',\n",
       " 'nieve',\n",
       " 'hielo',\n",
       " 'humo',\n",
       " 'fuego',\n",
       " 'cenizas',\n",
       " 'quemar',\n",
       " 'camino',\n",
       " 'montaña',\n",
       " 'rojo',\n",
       " 'verde',\n",
       " 'amarillo',\n",
       " 'blanco',\n",
       " 'negro',\n",
       " 'noche',\n",
       " 'día',\n",
       " 'año',\n",
       " 'cálido, tibio',\n",
       " 'frío',\n",
       " 'lleno',\n",
       " 'nuevo',\n",
       " 'viejo',\n",
       " 'bueno',\n",
       " 'malo',\n",
       " 'podrido',\n",
       " 'sucio',\n",
       " 'recto',\n",
       " 'redondo',\n",
       " 'afilado',\n",
       " 'desafilado',\n",
       " 'suave, liso',\n",
       " 'mojado',\n",
       " 'seco',\n",
       " 'correcto',\n",
       " 'cerca',\n",
       " 'lejos',\n",
       " 'derecha',\n",
       " 'izquierda',\n",
       " 'a, en, ante',\n",
       " 'en',\n",
       " 'con',\n",
       " 'y',\n",
       " 'si',\n",
       " 'porque',\n",
       " 'nombre']"
      ]
     },
     "execution_count": 228,
     "metadata": {},
     "output_type": "execute_result"
    }
   ],
   "source": [
    "swadesh.words(\"es\")"
   ]
  },
  {
   "cell_type": "code",
   "execution_count": 229,
   "metadata": {},
   "outputs": [],
   "source": [
    "en2es = swadesh.entries([\"en\",\"es\"])"
   ]
  },
  {
   "cell_type": "code",
   "execution_count": 230,
   "metadata": {},
   "outputs": [
    {
     "data": {
      "text/plain": [
       "list"
      ]
     },
     "execution_count": 230,
     "metadata": {},
     "output_type": "execute_result"
    }
   ],
   "source": [
    "type(en2es)"
   ]
  },
  {
   "cell_type": "code",
   "execution_count": 231,
   "metadata": {},
   "outputs": [
    {
     "data": {
      "text/plain": [
       "('I', 'yo')"
      ]
     },
     "execution_count": 231,
     "metadata": {},
     "output_type": "execute_result"
    }
   ],
   "source": [
    "en2es[0]"
   ]
  },
  {
   "cell_type": "code",
   "execution_count": 232,
   "metadata": {},
   "outputs": [
    {
     "data": {
      "text/plain": [
       "[('I', 'yo'),\n",
       " ('you (singular), thou', 'tú, usted'),\n",
       " ('he', 'él'),\n",
       " ('we', 'nosotros'),\n",
       " ('you (plural)', 'vosotros, ustedes')]"
      ]
     },
     "execution_count": 232,
     "metadata": {},
     "output_type": "execute_result"
    }
   ],
   "source": [
    "en2es[:5]"
   ]
  },
  {
   "cell_type": "code",
   "execution_count": 233,
   "metadata": {},
   "outputs": [],
   "source": [
    "traduccion = dict(en2es)"
   ]
  },
  {
   "cell_type": "code",
   "execution_count": 234,
   "metadata": {},
   "outputs": [],
   "source": [
    "def traductor(oracion):\n",
    "    return [traduccion[w] for w in oracion]"
   ]
  },
  {
   "cell_type": "code",
   "execution_count": 235,
   "metadata": {},
   "outputs": [
    {
     "data": {
      "text/plain": [
       "['yo', 'vivir']"
      ]
     },
     "execution_count": 235,
     "metadata": {},
     "output_type": "execute_result"
    }
   ],
   "source": [
    "traductor([\"I\",\"live\"])"
   ]
  },
  {
   "cell_type": "code",
   "execution_count": 236,
   "metadata": {},
   "outputs": [
    {
     "data": {
      "text/plain": [
       "['yo', 'vivir', 'en', 'ese, aquel', 'blanco', 'montaña']"
      ]
     },
     "execution_count": 236,
     "metadata": {},
     "output_type": "execute_result"
    }
   ],
   "source": [
    "traductor([\"I\",\"live\",\"in\",\"that\",\"white\",\"mountain\"])"
   ]
  },
  {
   "cell_type": "code",
   "execution_count": 237,
   "metadata": {},
   "outputs": [],
   "source": [
    "from nltk.corpus import wordnet as wn\n",
    "# parte interesante, un \"diccionario ontologia\""
   ]
  },
  {
   "cell_type": "code",
   "execution_count": 238,
   "metadata": {},
   "outputs": [
    {
     "data": {
      "text/plain": [
       "[Synset('car.n.01')]"
      ]
     },
     "execution_count": 238,
     "metadata": {},
     "output_type": "execute_result"
    }
   ],
   "source": [
    "wn.synsets(\"motorcar\")\n"
   ]
  },
  {
   "cell_type": "code",
   "execution_count": 239,
   "metadata": {},
   "outputs": [
    {
     "data": {
      "text/plain": [
       "[Synset('table.n.01'),\n",
       " Synset('table.n.02'),\n",
       " Synset('table.n.03'),\n",
       " Synset('mesa.n.01'),\n",
       " Synset('table.n.05'),\n",
       " Synset('board.n.04'),\n",
       " Synset('postpone.v.01'),\n",
       " Synset('table.v.02')]"
      ]
     },
     "execution_count": 239,
     "metadata": {},
     "output_type": "execute_result"
    }
   ],
   "source": [
    "wn.synsets(\"table\")\n",
    "# aca seria hacer la sinonimia"
   ]
  },
  {
   "cell_type": "code",
   "execution_count": 240,
   "metadata": {},
   "outputs": [
    {
     "data": {
      "text/plain": [
       "'a set of data arranged in rows and columns'"
      ]
     },
     "execution_count": 240,
     "metadata": {},
     "output_type": "execute_result"
    }
   ],
   "source": [
    "wn.synset('table.n.01').definition()\n",
    "# conjunto de sinonimia de una palabra , no es perfecto\n",
    "# recordar que una palabra puede estar en muchas\n",
    "# aca es organizar los sinonimias de esa palabra por grupo\n",
    "# el . definition es la frase"
   ]
  },
  {
   "cell_type": "code",
   "execution_count": 241,
   "metadata": {},
   "outputs": [
    {
     "data": {
      "text/plain": [
       "['table', 'tabular_array']"
      ]
     },
     "execution_count": 241,
     "metadata": {},
     "output_type": "execute_result"
    }
   ],
   "source": [
    "wn.synset('table.n.01').lemma_names()\n",
    "# los lemas names son "
   ]
  },
  {
   "cell_type": "code",
   "execution_count": 242,
   "metadata": {},
   "outputs": [
    {
     "data": {
      "text/plain": [
       "['see table 1']"
      ]
     },
     "execution_count": 242,
     "metadata": {},
     "output_type": "execute_result"
    }
   ],
   "source": [
    "wn.synset('table.n.01').examples()"
   ]
  },
  {
   "cell_type": "code",
   "execution_count": 243,
   "metadata": {},
   "outputs": [
    {
     "data": {
      "text/plain": [
       "'a piece of furniture having a smooth flat top that is usually supported by one or more vertical legs'"
      ]
     },
     "execution_count": 243,
     "metadata": {},
     "output_type": "execute_result"
    }
   ],
   "source": [
    "wn.synset('table.n.02').definition()"
   ]
  },
  {
   "cell_type": "code",
   "execution_count": 244,
   "metadata": {},
   "outputs": [
    {
     "data": {
      "text/plain": [
       "['table']"
      ]
     },
     "execution_count": 244,
     "metadata": {},
     "output_type": "execute_result"
    }
   ],
   "source": [
    "wn.synset('table.n.02').lemma_names()\n",
    "# lemas asosiados a la palabra"
   ]
  },
  {
   "cell_type": "code",
   "execution_count": 245,
   "metadata": {},
   "outputs": [
    {
     "data": {
      "text/plain": [
       "['it was a sturdy table']"
      ]
     },
     "execution_count": 245,
     "metadata": {},
     "output_type": "execute_result"
    }
   ],
   "source": [
    "wn.synset('table.n.02').examples()"
   ]
  },
  {
   "cell_type": "code",
   "execution_count": 246,
   "metadata": {},
   "outputs": [
    {
     "data": {
      "text/plain": [
       "'a piece of furniture with tableware for a meal laid out on it'"
      ]
     },
     "execution_count": 246,
     "metadata": {},
     "output_type": "execute_result"
    }
   ],
   "source": [
    "wn.synset('table.n.03').definition()\n",
    "# este concepto es a poner la mesa ys e diferencio mucho dle resto"
   ]
  },
  {
   "cell_type": "code",
   "execution_count": 247,
   "metadata": {},
   "outputs": [
    {
     "data": {
      "text/plain": [
       "['table']"
      ]
     },
     "execution_count": 247,
     "metadata": {},
     "output_type": "execute_result"
    }
   ],
   "source": [
    "wn.synset('table.n.03').lemma_names()"
   ]
  },
  {
   "cell_type": "code",
   "execution_count": 248,
   "metadata": {},
   "outputs": [
    {
     "data": {
      "text/plain": [
       "['I reserved a table at my favorite restaurant']"
      ]
     },
     "execution_count": 248,
     "metadata": {},
     "output_type": "execute_result"
    }
   ],
   "source": [
    "wn.synset('table.n.03').examples()"
   ]
  },
  {
   "cell_type": "code",
   "execution_count": 249,
   "metadata": {},
   "outputs": [
    {
     "data": {
      "text/plain": [
       "'hold back to a later time'"
      ]
     },
     "execution_count": 249,
     "metadata": {},
     "output_type": "execute_result"
    }
   ],
   "source": [
    "wn.synset('postpone.v.01').definition()"
   ]
  },
  {
   "cell_type": "code",
   "execution_count": 250,
   "metadata": {},
   "outputs": [
    {
     "data": {
      "text/plain": [
       "['postpone',\n",
       " 'prorogue',\n",
       " 'hold_over',\n",
       " 'put_over',\n",
       " 'table',\n",
       " 'shelve',\n",
       " 'set_back',\n",
       " 'defer',\n",
       " 'remit',\n",
       " 'put_off']"
      ]
     },
     "execution_count": 250,
     "metadata": {},
     "output_type": "execute_result"
    }
   ],
   "source": [
    "wn.synset('postpone.v.01').lemma_names()"
   ]
  },
  {
   "cell_type": "code",
   "execution_count": 251,
   "metadata": {},
   "outputs": [
    {
     "data": {
      "text/plain": [
       "['car', 'auto', 'automobile', 'machine', 'motorcar']"
      ]
     },
     "execution_count": 251,
     "metadata": {},
     "output_type": "execute_result"
    }
   ],
   "source": [
    "wn.synset(\"car.n.01\").lemma_names()\n",
    "# car palabra, n verbo, 01 el contador\n",
    "# el lema asociado a car son esas palabras de aqui abajo\n",
    "# aca termina la clase"
   ]
  },
  {
   "cell_type": "code",
   "execution_count": 252,
   "metadata": {},
   "outputs": [
    {
     "data": {
      "text/plain": [
       "[Synset('machine.n.01'),\n",
       " Synset('machine.n.02'),\n",
       " Synset('machine.n.03'),\n",
       " Synset('machine.n.04'),\n",
       " Synset('machine.n.05'),\n",
       " Synset('car.n.01'),\n",
       " Synset('machine.v.01'),\n",
       " Synset('machine.v.02')]"
      ]
     },
     "execution_count": 252,
     "metadata": {},
     "output_type": "execute_result"
    }
   ],
   "source": [
    "wn.synsets('machine')"
   ]
  },
  {
   "cell_type": "code",
   "execution_count": 253,
   "metadata": {},
   "outputs": [
    {
     "data": {
      "text/plain": [
       "'a motor vehicle with four wheels; usually propelled by an internal combustion engine'"
      ]
     },
     "execution_count": 253,
     "metadata": {},
     "output_type": "execute_result"
    }
   ],
   "source": [
    "wn.synset(\"car.n.01\").definition()"
   ]
  },
  {
   "cell_type": "code",
   "execution_count": 254,
   "metadata": {},
   "outputs": [
    {
     "data": {
      "text/plain": [
       "['he needs a car to get to work']"
      ]
     },
     "execution_count": 254,
     "metadata": {},
     "output_type": "execute_result"
    }
   ],
   "source": [
    "wn.synset(\"car.n.01\").examples()"
   ]
  },
  {
   "cell_type": "code",
   "execution_count": 255,
   "metadata": {},
   "outputs": [
    {
     "data": {
      "text/plain": [
       "[Lemma('car.n.01.car'),\n",
       " Lemma('car.n.01.auto'),\n",
       " Lemma('car.n.01.automobile'),\n",
       " Lemma('car.n.01.machine'),\n",
       " Lemma('car.n.01.motorcar')]"
      ]
     },
     "execution_count": 255,
     "metadata": {},
     "output_type": "execute_result"
    }
   ],
   "source": [
    "wn.synset(\"car.n.01\").lemmas()"
   ]
  },
  {
   "cell_type": "code",
   "execution_count": 256,
   "metadata": {},
   "outputs": [
    {
     "data": {
      "text/plain": [
       "Lemma('car.n.01.automobile')"
      ]
     },
     "execution_count": 256,
     "metadata": {},
     "output_type": "execute_result"
    }
   ],
   "source": [
    "wn.lemma(\"car.n.01.automobile\")"
   ]
  },
  {
   "cell_type": "code",
   "execution_count": 257,
   "metadata": {},
   "outputs": [
    {
     "data": {
      "text/plain": [
       "Synset('car.n.01')"
      ]
     },
     "execution_count": 257,
     "metadata": {},
     "output_type": "execute_result"
    }
   ],
   "source": [
    "wn.lemma(\"car.n.01.automobile\").synset()"
   ]
  },
  {
   "cell_type": "code",
   "execution_count": 258,
   "metadata": {},
   "outputs": [
    {
     "data": {
      "text/plain": [
       "'automobile'"
      ]
     },
     "execution_count": 258,
     "metadata": {},
     "output_type": "execute_result"
    }
   ],
   "source": [
    "wn.lemma(\"car.n.01.automobile\").name()"
   ]
  },
  {
   "cell_type": "code",
   "execution_count": 259,
   "metadata": {},
   "outputs": [],
   "source": [
    "motorcar = wn.synset(\"car.n.01\")"
   ]
  },
  {
   "cell_type": "code",
   "execution_count": 260,
   "metadata": {},
   "outputs": [],
   "source": [
    "types_of_motorcar = motorcar.hyponyms()"
   ]
  },
  {
   "cell_type": "code",
   "execution_count": 261,
   "metadata": {},
   "outputs": [
    {
     "data": {
      "text/plain": [
       "[Synset('ambulance.n.01'),\n",
       " Synset('beach_wagon.n.01'),\n",
       " Synset('bus.n.04'),\n",
       " Synset('cab.n.03'),\n",
       " Synset('compact.n.03'),\n",
       " Synset('convertible.n.01'),\n",
       " Synset('coupe.n.01'),\n",
       " Synset('cruiser.n.01'),\n",
       " Synset('electric.n.01'),\n",
       " Synset('gas_guzzler.n.01'),\n",
       " Synset('hardtop.n.01'),\n",
       " Synset('hatchback.n.01'),\n",
       " Synset('horseless_carriage.n.01'),\n",
       " Synset('hot_rod.n.01'),\n",
       " Synset('jeep.n.01'),\n",
       " Synset('limousine.n.01'),\n",
       " Synset('loaner.n.02'),\n",
       " Synset('minicar.n.01'),\n",
       " Synset('minivan.n.01'),\n",
       " Synset('model_t.n.01'),\n",
       " Synset('pace_car.n.01'),\n",
       " Synset('racer.n.02'),\n",
       " Synset('roadster.n.01'),\n",
       " Synset('sedan.n.01'),\n",
       " Synset('sport_utility.n.01'),\n",
       " Synset('sports_car.n.01'),\n",
       " Synset('stanley_steamer.n.01'),\n",
       " Synset('stock_car.n.01'),\n",
       " Synset('subcompact.n.01'),\n",
       " Synset('touring_car.n.01'),\n",
       " Synset('used-car.n.01')]"
      ]
     },
     "execution_count": 261,
     "metadata": {},
     "output_type": "execute_result"
    }
   ],
   "source": [
    "types_of_motorcar"
   ]
  },
  {
   "cell_type": "code",
   "execution_count": 262,
   "metadata": {},
   "outputs": [
    {
     "data": {
      "text/plain": [
       "['Model_T',\n",
       " 'S.U.V.',\n",
       " 'SUV',\n",
       " 'Stanley_Steamer',\n",
       " 'ambulance',\n",
       " 'beach_waggon',\n",
       " 'beach_wagon',\n",
       " 'bus',\n",
       " 'cab',\n",
       " 'compact',\n",
       " 'compact_car',\n",
       " 'convertible',\n",
       " 'coupe',\n",
       " 'cruiser',\n",
       " 'electric',\n",
       " 'electric_automobile',\n",
       " 'electric_car',\n",
       " 'estate_car',\n",
       " 'gas_guzzler',\n",
       " 'hack',\n",
       " 'hardtop',\n",
       " 'hatchback',\n",
       " 'heap',\n",
       " 'horseless_carriage',\n",
       " 'hot-rod',\n",
       " 'hot_rod',\n",
       " 'jalopy',\n",
       " 'jeep',\n",
       " 'landrover',\n",
       " 'limo',\n",
       " 'limousine',\n",
       " 'loaner',\n",
       " 'minicar',\n",
       " 'minivan',\n",
       " 'pace_car',\n",
       " 'patrol_car',\n",
       " 'phaeton',\n",
       " 'police_car',\n",
       " 'police_cruiser',\n",
       " 'prowl_car',\n",
       " 'race_car',\n",
       " 'racer',\n",
       " 'racing_car',\n",
       " 'roadster',\n",
       " 'runabout',\n",
       " 'saloon',\n",
       " 'secondhand_car',\n",
       " 'sedan',\n",
       " 'sport_car',\n",
       " 'sport_utility',\n",
       " 'sport_utility_vehicle',\n",
       " 'sports_car',\n",
       " 'squad_car',\n",
       " 'station_waggon',\n",
       " 'station_wagon',\n",
       " 'stock_car',\n",
       " 'subcompact',\n",
       " 'subcompact_car',\n",
       " 'taxi',\n",
       " 'taxicab',\n",
       " 'tourer',\n",
       " 'touring_car',\n",
       " 'two-seater',\n",
       " 'used-car',\n",
       " 'waggon',\n",
       " 'wagon']"
      ]
     },
     "execution_count": 262,
     "metadata": {},
     "output_type": "execute_result"
    }
   ],
   "source": [
    "sorted(lemma.name() for synset in types_of_motorcar for lemma in synset.lemmas())"
   ]
  },
  {
   "cell_type": "code",
   "execution_count": 263,
   "metadata": {},
   "outputs": [
    {
     "data": {
      "text/plain": [
       "[Synset('motor_vehicle.n.01')]"
      ]
     },
     "execution_count": 263,
     "metadata": {},
     "output_type": "execute_result"
    }
   ],
   "source": [
    "motorcar.hypernyms()"
   ]
  },
  {
   "cell_type": "code",
   "execution_count": 264,
   "metadata": {},
   "outputs": [],
   "source": [
    "paths = motorcar.hypernym_paths()"
   ]
  },
  {
   "cell_type": "code",
   "execution_count": 265,
   "metadata": {},
   "outputs": [
    {
     "data": {
      "text/plain": [
       "2"
      ]
     },
     "execution_count": 265,
     "metadata": {},
     "output_type": "execute_result"
    }
   ],
   "source": [
    "len(paths)"
   ]
  },
  {
   "cell_type": "code",
   "execution_count": 266,
   "metadata": {},
   "outputs": [
    {
     "data": {
      "text/plain": [
       "['entity.n.01',\n",
       " 'physical_entity.n.01',\n",
       " 'object.n.01',\n",
       " 'whole.n.02',\n",
       " 'artifact.n.01',\n",
       " 'instrumentality.n.03',\n",
       " 'container.n.01',\n",
       " 'wheeled_vehicle.n.01',\n",
       " 'self-propelled_vehicle.n.01',\n",
       " 'motor_vehicle.n.01',\n",
       " 'car.n.01']"
      ]
     },
     "execution_count": 266,
     "metadata": {},
     "output_type": "execute_result"
    }
   ],
   "source": [
    "[synset.name() for synset in paths[0]]"
   ]
  },
  {
   "cell_type": "code",
   "execution_count": 267,
   "metadata": {},
   "outputs": [
    {
     "data": {
      "text/plain": [
       "['entity.n.01',\n",
       " 'physical_entity.n.01',\n",
       " 'object.n.01',\n",
       " 'whole.n.02',\n",
       " 'artifact.n.01',\n",
       " 'instrumentality.n.03',\n",
       " 'conveyance.n.03',\n",
       " 'vehicle.n.01',\n",
       " 'wheeled_vehicle.n.01',\n",
       " 'self-propelled_vehicle.n.01',\n",
       " 'motor_vehicle.n.01',\n",
       " 'car.n.01']"
      ]
     },
     "execution_count": 267,
     "metadata": {},
     "output_type": "execute_result"
    }
   ],
   "source": [
    "[synset.name() for synset in paths[1]]"
   ]
  },
  {
   "cell_type": "code",
   "execution_count": 268,
   "metadata": {},
   "outputs": [],
   "source": [
    "palabra = \"mouse\""
   ]
  },
  {
   "cell_type": "code",
   "execution_count": 269,
   "metadata": {},
   "outputs": [
    {
     "data": {
      "text/plain": [
       "[Synset('mouse.n.01'),\n",
       " Synset('shiner.n.01'),\n",
       " Synset('mouse.n.03'),\n",
       " Synset('mouse.n.04'),\n",
       " Synset('sneak.v.01'),\n",
       " Synset('mouse.v.02')]"
      ]
     },
     "execution_count": 269,
     "metadata": {},
     "output_type": "execute_result"
    }
   ],
   "source": [
    "wn.synsets(palabra)"
   ]
  },
  {
   "cell_type": "code",
   "execution_count": 270,
   "metadata": {},
   "outputs": [
    {
     "name": "stdout",
     "output_type": "stream",
     "text": [
      "Synset('mouse.n.01')  =>  ['mouse']  |  any of numerous small rodents typically resembling diminutive rats having pointed snouts and small ears on elongated bodies with slender usually hairless tails\n",
      "Synset('shiner.n.01')  =>  ['shiner', 'black_eye', 'mouse']  |  a swollen bruise caused by a blow to the eye\n",
      "Synset('mouse.n.03')  =>  ['mouse']  |  person who is quiet or timid\n",
      "Synset('mouse.n.04')  =>  ['mouse', 'computer_mouse']  |  a hand-operated electronic device that controls the coordinates of a cursor on your computer screen as you move it around on a pad; on the bottom of the device is a ball that rolls on the surface of the pad\n",
      "Synset('sneak.v.01')  =>  ['sneak', 'mouse', 'creep', 'pussyfoot']  |  to go stealthily or furtively\n",
      "Synset('mouse.v.02')  =>  ['mouse']  |  manipulate the mouse of a computer\n"
     ]
    }
   ],
   "source": [
    "for synset in wn.synsets(palabra):\n",
    "    print(synset, \" => \",synset.lemma_names(), \" | \",synset.definition())"
   ]
  },
  {
   "cell_type": "code",
   "execution_count": 271,
   "metadata": {},
   "outputs": [],
   "source": [
    "mouse_animal = wn.synset('mouse.n.01')\n",
    "mouse_computer = wn.synset('mouse.n.04')"
   ]
  },
  {
   "cell_type": "code",
   "execution_count": 272,
   "metadata": {},
   "outputs": [
    {
     "data": {
      "text/plain": [
       "[[Synset('entity.n.01'),\n",
       "  Synset('physical_entity.n.01'),\n",
       "  Synset('object.n.01'),\n",
       "  Synset('whole.n.02'),\n",
       "  Synset('living_thing.n.01'),\n",
       "  Synset('organism.n.01'),\n",
       "  Synset('animal.n.01'),\n",
       "  Synset('chordate.n.01'),\n",
       "  Synset('vertebrate.n.01'),\n",
       "  Synset('mammal.n.01'),\n",
       "  Synset('placental.n.01'),\n",
       "  Synset('rodent.n.01'),\n",
       "  Synset('mouse.n.01')]]"
      ]
     },
     "execution_count": 272,
     "metadata": {},
     "output_type": "execute_result"
    }
   ],
   "source": [
    "mouse_animal.hypernym_paths()"
   ]
  },
  {
   "cell_type": "code",
   "execution_count": 273,
   "metadata": {},
   "outputs": [
    {
     "data": {
      "text/plain": [
       "[[Synset('entity.n.01'),\n",
       "  Synset('physical_entity.n.01'),\n",
       "  Synset('object.n.01'),\n",
       "  Synset('whole.n.02'),\n",
       "  Synset('artifact.n.01'),\n",
       "  Synset('instrumentality.n.03'),\n",
       "  Synset('device.n.01'),\n",
       "  Synset('electronic_device.n.01'),\n",
       "  Synset('mouse.n.04')]]"
      ]
     },
     "execution_count": 273,
     "metadata": {},
     "output_type": "execute_result"
    }
   ],
   "source": [
    "mouse_computer.hypernym_paths()"
   ]
  },
  {
   "cell_type": "code",
   "execution_count": 274,
   "metadata": {},
   "outputs": [
    {
     "data": {
      "text/plain": [
       "[Synset('dog.n.01'),\n",
       " Synset('frump.n.01'),\n",
       " Synset('dog.n.03'),\n",
       " Synset('cad.n.01'),\n",
       " Synset('frank.n.02'),\n",
       " Synset('pawl.n.01'),\n",
       " Synset('andiron.n.01'),\n",
       " Synset('chase.v.01')]"
      ]
     },
     "execution_count": 274,
     "metadata": {},
     "output_type": "execute_result"
    }
   ],
   "source": [
    "wn.synsets(\"dog\")"
   ]
  },
  {
   "cell_type": "code",
   "execution_count": 275,
   "metadata": {},
   "outputs": [
    {
     "data": {
      "text/plain": [
       "[Lemma('dog.n.01.dog'),\n",
       " Lemma('dog.n.01.domestic_dog'),\n",
       " Lemma('dog.n.01.Canis_familiaris')]"
      ]
     },
     "execution_count": 275,
     "metadata": {},
     "output_type": "execute_result"
    }
   ],
   "source": [
    "wn.synset(\"dog.n.01\").lemmas()"
   ]
  },
  {
   "cell_type": "code",
   "execution_count": 276,
   "metadata": {},
   "outputs": [
    {
     "data": {
      "text/plain": [
       "['dog', 'domestic_dog', 'Canis_familiaris']"
      ]
     },
     "execution_count": 276,
     "metadata": {},
     "output_type": "execute_result"
    }
   ],
   "source": [
    "wn.synset(\"dog.n.01\").lemma_names()"
   ]
  },
  {
   "cell_type": "code",
   "execution_count": 277,
   "metadata": {},
   "outputs": [
    {
     "data": {
      "text/plain": [
       "[Synset('cat.n.01'),\n",
       " Synset('guy.n.01'),\n",
       " Synset('cat.n.03'),\n",
       " Synset('kat.n.01'),\n",
       " Synset('cat-o'-nine-tails.n.01'),\n",
       " Synset('caterpillar.n.02'),\n",
       " Synset('big_cat.n.01'),\n",
       " Synset('computerized_tomography.n.01'),\n",
       " Synset('cat.v.01'),\n",
       " Synset('vomit.v.01')]"
      ]
     },
     "execution_count": 277,
     "metadata": {},
     "output_type": "execute_result"
    }
   ],
   "source": [
    "wn.synsets(\"cat\")"
   ]
  },
  {
   "cell_type": "code",
   "execution_count": 278,
   "metadata": {},
   "outputs": [
    {
     "data": {
      "text/plain": [
       "['cat', 'true_cat']"
      ]
     },
     "execution_count": 278,
     "metadata": {},
     "output_type": "execute_result"
    }
   ],
   "source": [
    "wn.synset(\"cat.n.01\").lemma_names()"
   ]
  },
  {
   "cell_type": "code",
   "execution_count": 279,
   "metadata": {},
   "outputs": [
    {
     "data": {
      "text/plain": [
       "['guy', 'cat', 'hombre', 'bozo']"
      ]
     },
     "execution_count": 279,
     "metadata": {},
     "output_type": "execute_result"
    }
   ],
   "source": [
    "wn.synset(\"guy.n.01\").lemma_names()"
   ]
  },
  {
   "cell_type": "code",
   "execution_count": 280,
   "metadata": {},
   "outputs": [
    {
     "data": {
      "text/plain": [
       "['cat']"
      ]
     },
     "execution_count": 280,
     "metadata": {},
     "output_type": "execute_result"
    }
   ],
   "source": [
    "wn.synset(\"cat.n.03\").lemma_names()"
   ]
  },
  {
   "cell_type": "code",
   "execution_count": 281,
   "metadata": {},
   "outputs": [
    {
     "data": {
      "text/plain": [
       "[[Synset('entity.n.01'),\n",
       "  Synset('physical_entity.n.01'),\n",
       "  Synset('object.n.01'),\n",
       "  Synset('whole.n.02'),\n",
       "  Synset('living_thing.n.01'),\n",
       "  Synset('organism.n.01'),\n",
       "  Synset('animal.n.01'),\n",
       "  Synset('chordate.n.01'),\n",
       "  Synset('vertebrate.n.01'),\n",
       "  Synset('mammal.n.01'),\n",
       "  Synset('placental.n.01'),\n",
       "  Synset('carnivore.n.01'),\n",
       "  Synset('canine.n.02'),\n",
       "  Synset('dog.n.01')],\n",
       " [Synset('entity.n.01'),\n",
       "  Synset('physical_entity.n.01'),\n",
       "  Synset('object.n.01'),\n",
       "  Synset('whole.n.02'),\n",
       "  Synset('living_thing.n.01'),\n",
       "  Synset('organism.n.01'),\n",
       "  Synset('animal.n.01'),\n",
       "  Synset('domestic_animal.n.01'),\n",
       "  Synset('dog.n.01')]]"
      ]
     },
     "execution_count": 281,
     "metadata": {},
     "output_type": "execute_result"
    }
   ],
   "source": [
    "wn.synset('dog.n.01').hypernym_paths()"
   ]
  },
  {
   "cell_type": "code",
   "execution_count": 282,
   "metadata": {},
   "outputs": [
    {
     "data": {
      "text/plain": [
       "[[Synset('entity.n.01'),\n",
       "  Synset('physical_entity.n.01'),\n",
       "  Synset('object.n.01'),\n",
       "  Synset('whole.n.02'),\n",
       "  Synset('living_thing.n.01'),\n",
       "  Synset('organism.n.01'),\n",
       "  Synset('animal.n.01'),\n",
       "  Synset('chordate.n.01'),\n",
       "  Synset('vertebrate.n.01'),\n",
       "  Synset('mammal.n.01'),\n",
       "  Synset('placental.n.01'),\n",
       "  Synset('carnivore.n.01'),\n",
       "  Synset('feline.n.01'),\n",
       "  Synset('cat.n.01')]]"
      ]
     },
     "execution_count": 282,
     "metadata": {},
     "output_type": "execute_result"
    }
   ],
   "source": [
    "wn.synset('cat.n.01').hypernym_paths()"
   ]
  },
  {
   "cell_type": "code",
   "execution_count": 283,
   "metadata": {},
   "outputs": [],
   "source": [
    "car_synset = wn.synset('car.n.01')"
   ]
  },
  {
   "cell_type": "code",
   "execution_count": 284,
   "metadata": {},
   "outputs": [
    {
     "data": {
      "text/plain": [
       "[[Synset('entity.n.01'),\n",
       "  Synset('physical_entity.n.01'),\n",
       "  Synset('object.n.01'),\n",
       "  Synset('whole.n.02'),\n",
       "  Synset('artifact.n.01'),\n",
       "  Synset('instrumentality.n.03'),\n",
       "  Synset('container.n.01'),\n",
       "  Synset('wheeled_vehicle.n.01'),\n",
       "  Synset('self-propelled_vehicle.n.01'),\n",
       "  Synset('motor_vehicle.n.01'),\n",
       "  Synset('car.n.01')],\n",
       " [Synset('entity.n.01'),\n",
       "  Synset('physical_entity.n.01'),\n",
       "  Synset('object.n.01'),\n",
       "  Synset('whole.n.02'),\n",
       "  Synset('artifact.n.01'),\n",
       "  Synset('instrumentality.n.03'),\n",
       "  Synset('conveyance.n.03'),\n",
       "  Synset('vehicle.n.01'),\n",
       "  Synset('wheeled_vehicle.n.01'),\n",
       "  Synset('self-propelled_vehicle.n.01'),\n",
       "  Synset('motor_vehicle.n.01'),\n",
       "  Synset('car.n.01')]]"
      ]
     },
     "execution_count": 284,
     "metadata": {},
     "output_type": "execute_result"
    }
   ],
   "source": [
    "wn.synset('car.n.01').hypernym_paths()"
   ]
  },
  {
   "cell_type": "code",
   "execution_count": 285,
   "metadata": {},
   "outputs": [],
   "source": [
    "dog_synset = wn.synset(\"dog.n.01\")"
   ]
  },
  {
   "cell_type": "code",
   "execution_count": 286,
   "metadata": {},
   "outputs": [],
   "source": [
    "cat_synset = wn.synset(\"cat.n.01\")"
   ]
  },
  {
   "cell_type": "code",
   "execution_count": 287,
   "metadata": {},
   "outputs": [
    {
     "data": {
      "text/plain": [
       "[Synset('carnivore.n.01')]"
      ]
     },
     "execution_count": 287,
     "metadata": {},
     "output_type": "execute_result"
    }
   ],
   "source": [
    "dog_synset.lowest_common_hypernyms(cat_synset)"
   ]
  },
  {
   "cell_type": "code",
   "execution_count": 288,
   "metadata": {},
   "outputs": [
    {
     "data": {
      "text/plain": [
       "[Synset('whole.n.02')]"
      ]
     },
     "execution_count": 288,
     "metadata": {},
     "output_type": "execute_result"
    }
   ],
   "source": [
    "dog_synset.lowest_common_hypernyms(car_synset)"
   ]
  },
  {
   "cell_type": "code",
   "execution_count": 289,
   "metadata": {},
   "outputs": [
    {
     "data": {
      "text/plain": [
       "0.2"
      ]
     },
     "execution_count": 289,
     "metadata": {},
     "output_type": "execute_result"
    }
   ],
   "source": [
    "dog_synset.path_similarity(cat_synset)"
   ]
  },
  {
   "cell_type": "code",
   "execution_count": 290,
   "metadata": {},
   "outputs": [
    {
     "data": {
      "text/plain": [
       "0.07692307692307693"
      ]
     },
     "execution_count": 290,
     "metadata": {},
     "output_type": "execute_result"
    }
   ],
   "source": [
    "dog_synset.path_similarity(car_synset)"
   ]
  },
  {
   "cell_type": "code",
   "execution_count": 291,
   "metadata": {},
   "outputs": [],
   "source": [
    "right = wn.synset(\"right_whale.n.01\")"
   ]
  },
  {
   "cell_type": "code",
   "execution_count": 292,
   "metadata": {},
   "outputs": [],
   "source": [
    "orca = wn.synset(\"orca.n.01\")"
   ]
  },
  {
   "cell_type": "code",
   "execution_count": 293,
   "metadata": {},
   "outputs": [],
   "source": [
    "minke = wn.synset(\"minke_whale.n.01\")"
   ]
  },
  {
   "cell_type": "code",
   "execution_count": 294,
   "metadata": {},
   "outputs": [],
   "source": [
    "tortoise = wn.synset(\"tortoise.n.01\")"
   ]
  },
  {
   "cell_type": "code",
   "execution_count": 295,
   "metadata": {},
   "outputs": [],
   "source": [
    "novel = wn.synset(\"novel.n.01\")"
   ]
  },
  {
   "cell_type": "code",
   "execution_count": 296,
   "metadata": {},
   "outputs": [
    {
     "data": {
      "text/plain": [
       "[Synset('baleen_whale.n.01')]"
      ]
     },
     "execution_count": 296,
     "metadata": {},
     "output_type": "execute_result"
    }
   ],
   "source": [
    "right.lowest_common_hypernyms(minke)"
   ]
  },
  {
   "cell_type": "code",
   "execution_count": 297,
   "metadata": {},
   "outputs": [
    {
     "data": {
      "text/plain": [
       "[Synset('baleen_whale.n.01')]"
      ]
     },
     "execution_count": 297,
     "metadata": {},
     "output_type": "execute_result"
    }
   ],
   "source": [
    "right.lowest_common_hypernyms(minke)"
   ]
  },
  {
   "cell_type": "code",
   "execution_count": 298,
   "metadata": {},
   "outputs": [
    {
     "data": {
      "text/plain": [
       "[Synset('vertebrate.n.01')]"
      ]
     },
     "execution_count": 298,
     "metadata": {},
     "output_type": "execute_result"
    }
   ],
   "source": [
    "right.lowest_common_hypernyms(tortoise)"
   ]
  },
  {
   "cell_type": "code",
   "execution_count": 299,
   "metadata": {},
   "outputs": [
    {
     "data": {
      "text/plain": [
       "[Synset('entity.n.01')]"
      ]
     },
     "execution_count": 299,
     "metadata": {},
     "output_type": "execute_result"
    }
   ],
   "source": [
    "right.lowest_common_hypernyms(novel)"
   ]
  },
  {
   "cell_type": "code",
   "execution_count": 300,
   "metadata": {},
   "outputs": [
    {
     "data": {
      "text/plain": [
       "14"
      ]
     },
     "execution_count": 300,
     "metadata": {},
     "output_type": "execute_result"
    }
   ],
   "source": [
    "wn.synset('baleen_whale.n.01').min_depth()"
   ]
  },
  {
   "cell_type": "code",
   "execution_count": 301,
   "metadata": {},
   "outputs": [
    {
     "data": {
      "text/plain": [
       "13"
      ]
     },
     "execution_count": 301,
     "metadata": {},
     "output_type": "execute_result"
    }
   ],
   "source": [
    "wn.synset('whale.n.02').min_depth()"
   ]
  },
  {
   "cell_type": "code",
   "execution_count": 302,
   "metadata": {},
   "outputs": [
    {
     "data": {
      "text/plain": [
       "8"
      ]
     },
     "execution_count": 302,
     "metadata": {},
     "output_type": "execute_result"
    }
   ],
   "source": [
    "wn.synset('vertebrate.n.01').min_depth()"
   ]
  },
  {
   "cell_type": "code",
   "execution_count": 303,
   "metadata": {},
   "outputs": [
    {
     "data": {
      "text/plain": [
       "0"
      ]
     },
     "execution_count": 303,
     "metadata": {},
     "output_type": "execute_result"
    }
   ],
   "source": [
    "wn.synset('entity.n.01').min_depth()"
   ]
  },
  {
   "cell_type": "code",
   "execution_count": 304,
   "metadata": {},
   "outputs": [
    {
     "data": {
      "text/plain": [
       "0.25"
      ]
     },
     "execution_count": 304,
     "metadata": {},
     "output_type": "execute_result"
    }
   ],
   "source": [
    "right.path_similarity(minke)"
   ]
  },
  {
   "cell_type": "code",
   "execution_count": 305,
   "metadata": {},
   "outputs": [
    {
     "data": {
      "text/plain": [
       "0.16666666666666666"
      ]
     },
     "execution_count": 305,
     "metadata": {},
     "output_type": "execute_result"
    }
   ],
   "source": [
    "right.path_similarity(orca)"
   ]
  },
  {
   "cell_type": "code",
   "execution_count": 306,
   "metadata": {},
   "outputs": [
    {
     "data": {
      "text/plain": [
       "0.07692307692307693"
      ]
     },
     "execution_count": 306,
     "metadata": {},
     "output_type": "execute_result"
    }
   ],
   "source": [
    "right.path_similarity(tortoise)"
   ]
  },
  {
   "cell_type": "code",
   "execution_count": 307,
   "metadata": {},
   "outputs": [
    {
     "data": {
      "text/plain": [
       "0.043478260869565216"
      ]
     },
     "execution_count": 307,
     "metadata": {},
     "output_type": "execute_result"
    }
   ],
   "source": [
    "right.path_similarity(novel)"
   ]
  },
  {
   "cell_type": "code",
   "execution_count": null,
   "metadata": {},
   "outputs": [],
   "source": []
  },
  {
   "cell_type": "code",
   "execution_count": null,
   "metadata": {},
   "outputs": [],
   "source": []
  }
 ],
 "metadata": {
  "kernelspec": {
   "display_name": "Python 3 (ipykernel)",
   "language": "python",
   "name": "python3"
  },
  "language_info": {
   "codemirror_mode": {
    "name": "ipython",
    "version": 3
   },
   "file_extension": ".py",
   "mimetype": "text/x-python",
   "name": "python",
   "nbconvert_exporter": "python",
   "pygments_lexer": "ipython3",
   "version": "3.9.7"
  }
 },
 "nbformat": 4,
 "nbformat_minor": 2
}
